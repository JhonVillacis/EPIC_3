{
 "cells": [
  {
   "cell_type": "markdown",
   "id": "7cf064c6",
   "metadata": {
    "id": "7cf064c6"
   },
   "source": [
    "# Hydrogen atom orbitals\n",
    "\n",
    "Original source: https://github.com/sebastianmagns/hydrogen-wavefunctions"
   ]
  },
  {
   "cell_type": "code",
   "execution_count": 1,
   "id": "654feda0",
   "metadata": {
    "id": "654feda0"
   },
   "outputs": [],
   "source": [
    "#!pip install seaborn\n"
   ]
  },
  {
   "cell_type": "code",
   "execution_count": 2,
   "id": "0e894551",
   "metadata": {
    "id": "0e894551"
   },
   "outputs": [],
   "source": [
    "from scipy.constants import physical_constants\n",
    "import matplotlib.pyplot as plt\n",
    "import scipy.special as sp\n",
    "import seaborn as sns\n",
    "import numpy as np\n",
    "import ipywidgets as widgets\n",
    "from ipywidgets import interact\n"
   ]
  },
  {
   "cell_type": "code",
   "execution_count": 3,
   "id": "cf0a242f",
   "metadata": {
    "id": "cf0a242f"
   },
   "outputs": [],
   "source": [
    "def radial_function(n, l, r, a0):\n",
    "    \"\"\" Calcular la parte radial, i.e. el tamaño de la onda de probabilidad.\n",
    "\n",
    "    Argumentos:\n",
    "        n (número entero): número asociado al nivel de energía\n",
    "        l (número entero): número asociado a la forma de los orbitales\n",
    "\n",
    "        r (numpy.ndarray): coordenada radial\n",
    "        a0 (número decimal): radio de Bohr\n",
    "\n",
    "    Resultato:\n",
    "        numpy.ndarray: la componente radial de la onda\n",
    "    \"\"\"\n",
    "\n",
    "    laguerre = sp.genlaguerre(n - l - 1, 2 * l + 1)\n",
    "    p = 2 * r / (n * a0)\n",
    "\n",
    "    constant_factor = np.sqrt(\n",
    "        ((2 / n * a0) ** 3 * (sp.factorial(n - l - 1))) /\n",
    "        (2 * n * (sp.factorial(n + l)))\n",
    "    )\n",
    "    return constant_factor * np.exp(-p / 2) * (p ** l) * laguerre(p)\n",
    "\n"
   ]
  },
  {
   "cell_type": "code",
   "execution_count": 4,
   "id": "7f37921f",
   "metadata": {
    "id": "7f37921f"
   },
   "outputs": [],
   "source": [
    "def angular_function(m, l, theta, phi):\n",
    "    \"\"\"\n",
    "    Calcula la parte angular de la funcion de onda, usando polinomios de Legendre,\n",
    "    (se encuentra en tablas, no hay que saberlos de memoria).\n",
    "\n",
    "    Argumentos:\n",
    "        m (número entero): número asociado a la magnetización del átomo, es decir la orientación\n",
    "        l (número entero): número asociado a la forma de los orbitales\n",
    "        theta (numpy.ndarray): ángulo polar\n",
    "        phi (int): ángulo azimutal\n",
    "\n",
    "    Resultado:\n",
    "        numpy.ndarray: la componente angular de la onda\n",
    "    \"\"\"\n",
    "\n",
    "    legendre = sp.lpmv(m, l, np.cos(theta))\n",
    "\n",
    "    constant_factor = ((-1) ** m) * np.sqrt(\n",
    "        ((2 * l + 1) * sp.factorial(l - np.abs(m))) /\n",
    "        (4 * np.pi * sp.factorial(l + np.abs(m)))\n",
    "    )\n",
    "    return constant_factor * legendre * np.real(np.exp(1.j * m * phi))\n",
    "\n",
    "\n"
   ]
  },
  {
   "cell_type": "code",
   "execution_count": 5,
   "id": "3e9c0891",
   "metadata": {
    "id": "3e9c0891"
   },
   "outputs": [],
   "source": [
    "def compute_wavefunction(n, l, m, a0_scale_factor):\n",
    "\n",
    "    \"\"\"\n",
    "    Calcula la función de onda total como producto de las dos funciones de onda\n",
    "    definidas en las dos celdas anteriores.\n",
    "\n",
    "    Argumentos:\n",
    "\n",
    "        n (número entero): número asociado al nivel de energía\n",
    "        l (número entero): número asociado a la forma de los orbitales\n",
    "        m (número entero): número asociado a la magnetización del átomo, es decir la orientación\n",
    "        a0_scale_factor (número decimal): Factor de escala para el radio de Bohr\n",
    "    Resultado:\n",
    "        numpy.ndarray: función de onda general\n",
    "    \"\"\"\n",
    "\n",
    "    # Scale Bohr radius for effective visualization\n",
    "    a0 = a0_scale_factor * physical_constants['Bohr radius'][0] * 1e+12\n",
    "\n",
    "    # x-y grid to represent electron spatial distribution\n",
    "    grid_extent = 480\n",
    "    grid_resolution = 680\n",
    "    x = y = np.linspace(-grid_extent, grid_extent, grid_resolution)\n",
    "    x, y = np.meshgrid(x, y)\n",
    "\n",
    "    # Use epsilon to avoid division by zero during angle calculations\n",
    "    eps = np.finfo(float).eps\n",
    "\n",
    "    # Ψnlm(r,θ,φ) = Rnl(r).Ylm(θ,φ)\n",
    "    psi = radial_function(\n",
    "        n, l, np.sqrt((x ** 2 + y ** 2)), a0\n",
    "    ) * angular_function(\n",
    "        m, l, np.arctan(x / (y + eps)), 0\n",
    "    )\n",
    "    return psi\n"
   ]
  },
  {
   "cell_type": "code",
   "execution_count": 6,
   "id": "cc16944d",
   "metadata": {
    "id": "cc16944d"
   },
   "outputs": [],
   "source": [
    "def compute_probability_density(psi):\n",
    "    \"\"\"\n",
    "    Calcula la probabilidad en base de la función de onda\n",
    "\n",
    "    Argumentos:\n",
    "        psi (numpy.ndarray): función de onda\n",
    "\n",
    "    Resultado:\n",
    "        numpy.ndarray: la distribución de probabilidades\n",
    "    \"\"\"\n",
    "    return np.abs(psi) ** 2\n",
    "\n"
   ]
  },
  {
   "cell_type": "code",
   "execution_count": 7,
   "id": "b3f3e2fb",
   "metadata": {
    "id": "b3f3e2fb"
   },
   "outputs": [],
   "source": [
    "def plot_wf_probability_density(n, l, m, a0_scale_factor, dark_theme=False, color_palette='rocket'):\n",
    "\n",
    "    \"\"\"\n",
    "    Gráfico de la distribución del átomo de Hidrógeno\n",
    "    para valores dados de (n,l,m)\n",
    "\n",
    "    Argumentos:\n",
    "        n (número entero): número asociado al nivel de energía\n",
    "        l (número entero): número asociado a la forma de los orbitales\n",
    "        m (número entero): número asociado a la magnetización del átomo, es decir la orientación\n",
    "        a0_scale_factor (número decimal): Factor de escala para el radio de Bohr\n",
    "\n",
    "        dark_theme (bool): If True, uses a dark background for the plot, defaults to False\n",
    "        color_palette (str): Seaborn plot color palette, defaults to 'rocket'\n",
    "    \"\"\"\n",
    "\n",
    "    # Quantum numbers validation\n",
    "    if not isinstance(n, int) or n < 1:\n",
    "        raise ValueError('n should be an integer satisfying the condition: n >= 1')\n",
    "    if not isinstance(l, int) or not (0 <= l < n):\n",
    "        raise ValueError('l should be an integer satisfying the condition: 0 <= l < n')\n",
    "    if not isinstance(m, int) or not (-l <= m <= l):\n",
    "        raise ValueError('m should be an integer satisfying the condition: -l <= m <= l')\n",
    "\n",
    "    # Color palette validation\n",
    "    try:\n",
    "        sns.color_palette(color_palette)\n",
    "    except ValueError:\n",
    "        raise ValueError(f'{color_palette} is not a recognized Seaborn color palette.')\n",
    "\n",
    "    fig, ax = plt.subplots(figsize=(8, 8.5))\n",
    "    plt.subplots_adjust(top=0.82)\n",
    "    plt.subplots_adjust(right=0.905)\n",
    "    plt.subplots_adjust(left=-0.1)\n",
    "\n",
    "    # Compute and visualize the wavefunction probability density\n",
    "    psi = compute_wavefunction(n, l, m, a0_scale_factor)\n",
    "    prob_density = compute_probability_density(psi)\n",
    "    im = ax.imshow(np.sqrt(prob_density), cmap=sns.color_palette(color_palette, as_cmap=True))\n",
    "\n",
    "    cbar = plt.colorbar(im, fraction=0.046, pad=0.03)\n",
    "    cbar.set_ticks([])\n",
    "\n",
    "    # Apply dark theme parameters\n",
    "    if dark_theme:\n",
    "        theme = 'dt'\n",
    "        background_color = sorted(\n",
    "            sns.color_palette(color_palette, n_colors=100),\n",
    "            key=lambda color: 0.2126 * color[0] + 0.7152 * color[1] + 0.0722 * color[2]\n",
    "        )[0]\n",
    "        plt.rcParams['text.color'] = '#dfdfdf'\n",
    "        title_color = '#dfdfdf'\n",
    "        fig.patch.set_facecolor(background_color)\n",
    "        cbar.outline.set_visible(False)\n",
    "        ax.tick_params(axis='x', colors='#c4c4c4')\n",
    "        ax.tick_params(axis='y', colors='#c4c4c4')\n",
    "        for spine in ax.spines.values():\n",
    "            spine.set_color('#c4c4c4')\n",
    "\n",
    "    else:  # Apply light theme parameters\n",
    "        theme = 'lt'\n",
    "        plt.rcParams['text.color'] = '#000000'\n",
    "        title_color = '#000000'\n",
    "        ax.tick_params(axis='x', colors='#000000')\n",
    "        ax.tick_params(axis='y', colors='#000000')\n",
    "\n",
    "    ax.text(30, 615, r'$({0}, {1}, {2})$'.format(n, l, m), color='#dfdfdf', fontsize=22)\n",
    "    ax.text(705, 700, 'Muy\\nprobable', fontsize=12)\n",
    "    ax.text(705, -60, 'Poco\\nprobable', fontsize=12)\n",
    "    ax.invert_yaxis()\n",
    "\n",
    "    # Save and display the plot\n",
    "    plt.savefig(f'({n},{l},{m})[{theme}].png')\n",
    "    plt.show()\n"
   ]
  },
  {
   "cell_type": "markdown",
   "id": "t29EN1tLuyzC",
   "metadata": {
    "id": "t29EN1tLuyzC"
   },
   "source": [
    "# Imagen interactiva"
   ]
  },
  {
   "cell_type": "code",
   "execution_count": 8,
   "id": "fe117431",
   "metadata": {
    "id": "fe117431"
   },
   "outputs": [],
   "source": [
    "n_value = 9\n",
    "n=n_value\n"
   ]
  },
  {
   "cell_type": "code",
   "execution_count": 9,
   "id": "daa195a9",
   "metadata": {
    "colab": {
     "base_uri": "https://localhost:8080/",
     "height": 863,
     "referenced_widgets": [
      "a2bd426696b042fd9578528f12b8b2cd",
      "c9b289d5ee224aea84ede7320aa1ba5f",
      "b0605ab93d064da9ac055d485cf0def9",
      "b0c5b66a2b0f456f968fb538d0e0e730",
      "4923955dcbe24befacca0eff989c10cc",
      "6416dd4839fd4c12adfd9a77f9bbbdbb",
      "af3d996e8b76471cb90c5a3fee172f3d",
      "3aebc06fa61940779262c2c6a43c94d8",
      "706282f5bbf54c039f3ce6eb3126baec",
      "a2f45ff12a2e42c380aedde42ec5fcf8",
      "57de811b3eff4b4b87425263f3400585",
      "ef686a3c4e4c4ee5ab8d7033d6650638",
      "2dc4d0957ffa44c99740b14a9287af5c"
     ]
    },
    "executionInfo": {
     "elapsed": 1717,
     "status": "ok",
     "timestamp": 1694562243258,
     "user": {
      "displayName": "Franklin Ronaldo",
      "userId": "17002964261703212326"
     },
     "user_tz": 300
    },
    "id": "daa195a9",
    "outputId": "19ae3201-506b-4685-8545-818572c71043"
   },
   "outputs": [
    {
     "data": {
      "application/vnd.jupyter.widget-view+json": {
       "model_id": "500e52545d8c4968a522d418c41671d9",
       "version_major": 2,
       "version_minor": 0
      },
      "text/plain": [
       "interactive(children=(IntSlider(value=9, description='n', max=9, min=1), IntSlider(value=0, description='l', m…"
      ]
     },
     "metadata": {},
     "output_type": "display_data"
    },
    {
     "data": {
      "text/plain": [
       "<function __main__.interactive_plot(n, l, m)>"
      ]
     },
     "execution_count": 9,
     "metadata": {},
     "output_type": "execute_result"
    }
   ],
   "source": [
    "# Función interactiva para actualizar los plots en tiempo real\n",
    "\n",
    "def interactive_plot(n, l, m):\n",
    "    a0_scale_factor = 1 / n  # Calcula el a0_scale_factor en función de n\n",
    "\n",
    "    plot = plot_wf_probability_density(n, l, m, a0_scale_factor, dark_theme=False, color_palette='rocket')\n",
    "    plt.show()\n",
    "\n",
    "# Crea controles deslizantes para n, l, y m\n",
    "n_slider = widgets.IntSlider(value=n, min=1, max=n_value, description='n')\n",
    "l_slider = widgets.IntSlider(value=0, min=0, max=n_slider.value-1, description='l')\n",
    "m_slider = widgets.IntSlider(value=0, min=-l_slider.value, max=l_slider.value, description='m')\n",
    "\n",
    "# Define función para actualizar l_slider cuando cambia n_slider\n",
    "def update_l_range(change):\n",
    "    l_slider.max = change.new - 1\n",
    "    l_slider.value = max(l_slider.value, 0)  # Asegura que el valor de l se mantenga dentro del nuevo rango\n",
    "    update_m_range(None)  # Actualiza el rango de m al cambiar l\n",
    "\n",
    "# Vincula la función de actualización a cambios en n_slider\n",
    "n_slider.observe(update_l_range, names='value')\n",
    "\n",
    "# Define función para actualizar m_slider cuando cambia l_slider\n",
    "def update_m_range(change):\n",
    "    m_slider.min = -l_slider.value  # Ajusta el valor mínimo de m en función de l\n",
    "    m_slider.max = l_slider.value\n",
    "    m_slider.value = max(min(m_slider.value, m_slider.max), m_slider.min)  # Asegura que el valor de m esté dentro del rango permitido\n",
    "\n",
    "# Vincula la función de actualización a cambios en l_slider\n",
    "l_slider.observe(update_m_range, names='value')\n",
    "\n",
    "# Crea la interfaz interactiva utilizando la función interact\n",
    "interact(interactive_plot, n=n_slider, l=l_slider, m=m_slider)\n"
   ]
  },
  {
   "cell_type": "code",
   "execution_count": null,
   "id": "df1d19d9",
   "metadata": {
    "id": "df1d19d9"
   },
   "outputs": [],
   "source": []
  },
  {
   "cell_type": "code",
   "execution_count": null,
   "id": "edd59027",
   "metadata": {
    "id": "edd59027"
   },
   "outputs": [],
   "source": []
  }
 ],
 "metadata": {
  "colab": {
   "provenance": []
  },
  "kernelspec": {
   "display_name": "Python 3 (ipykernel)",
   "language": "python",
   "name": "python3"
  },
  "language_info": {
   "codemirror_mode": {
    "name": "ipython",
    "version": 3
   },
   "file_extension": ".py",
   "mimetype": "text/x-python",
   "name": "python",
   "nbconvert_exporter": "python",
   "pygments_lexer": "ipython3",
   "version": "3.9.15"
  },
  "widgets": {
   "application/vnd.jupyter.widget-state+json": {
    "2dc4d0957ffa44c99740b14a9287af5c": {
     "model_module": "@jupyter-widgets/base",
     "model_module_version": "1.2.0",
     "model_name": "LayoutModel",
     "state": {
      "_model_module": "@jupyter-widgets/base",
      "_model_module_version": "1.2.0",
      "_model_name": "LayoutModel",
      "_view_count": null,
      "_view_module": "@jupyter-widgets/base",
      "_view_module_version": "1.2.0",
      "_view_name": "LayoutView",
      "align_content": null,
      "align_items": null,
      "align_self": null,
      "border": null,
      "bottom": null,
      "display": null,
      "flex": null,
      "flex_flow": null,
      "grid_area": null,
      "grid_auto_columns": null,
      "grid_auto_flow": null,
      "grid_auto_rows": null,
      "grid_column": null,
      "grid_gap": null,
      "grid_row": null,
      "grid_template_areas": null,
      "grid_template_columns": null,
      "grid_template_rows": null,
      "height": null,
      "justify_content": null,
      "justify_items": null,
      "left": null,
      "margin": null,
      "max_height": null,
      "max_width": null,
      "min_height": null,
      "min_width": null,
      "object_fit": null,
      "object_position": null,
      "order": null,
      "overflow": null,
      "overflow_x": null,
      "overflow_y": null,
      "padding": null,
      "right": null,
      "top": null,
      "visibility": null,
      "width": null
     }
    },
    "3aebc06fa61940779262c2c6a43c94d8": {
     "model_module": "@jupyter-widgets/controls",
     "model_module_version": "1.5.0",
     "model_name": "SliderStyleModel",
     "state": {
      "_model_module": "@jupyter-widgets/controls",
      "_model_module_version": "1.5.0",
      "_model_name": "SliderStyleModel",
      "_view_count": null,
      "_view_module": "@jupyter-widgets/base",
      "_view_module_version": "1.2.0",
      "_view_name": "StyleView",
      "description_width": "",
      "handle_color": null
     }
    },
    "4923955dcbe24befacca0eff989c10cc": {
     "model_module": "@jupyter-widgets/output",
     "model_module_version": "1.0.0",
     "model_name": "OutputModel",
     "state": {
      "_dom_classes": [],
      "_model_module": "@jupyter-widgets/output",
      "_model_module_version": "1.0.0",
      "_model_name": "OutputModel",
      "_view_count": null,
      "_view_module": "@jupyter-widgets/output",
      "_view_module_version": "1.0.0",
      "_view_name": "OutputView",
      "layout": "IPY_MODEL_2dc4d0957ffa44c99740b14a9287af5c",
      "msg_id": "",
      "outputs": [
       {
        "data": {
         "image/png": "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\n",
         "text/plain": "<Figure size 800x850 with 2 Axes>"
        },
        "metadata": {},
        "output_type": "display_data"
       }
      ]
     }
    },
    "57de811b3eff4b4b87425263f3400585": {
     "model_module": "@jupyter-widgets/base",
     "model_module_version": "1.2.0",
     "model_name": "LayoutModel",
     "state": {
      "_model_module": "@jupyter-widgets/base",
      "_model_module_version": "1.2.0",
      "_model_name": "LayoutModel",
      "_view_count": null,
      "_view_module": "@jupyter-widgets/base",
      "_view_module_version": "1.2.0",
      "_view_name": "LayoutView",
      "align_content": null,
      "align_items": null,
      "align_self": null,
      "border": null,
      "bottom": null,
      "display": null,
      "flex": null,
      "flex_flow": null,
      "grid_area": null,
      "grid_auto_columns": null,
      "grid_auto_flow": null,
      "grid_auto_rows": null,
      "grid_column": null,
      "grid_gap": null,
      "grid_row": null,
      "grid_template_areas": null,
      "grid_template_columns": null,
      "grid_template_rows": null,
      "height": null,
      "justify_content": null,
      "justify_items": null,
      "left": null,
      "margin": null,
      "max_height": null,
      "max_width": null,
      "min_height": null,
      "min_width": null,
      "object_fit": null,
      "object_position": null,
      "order": null,
      "overflow": null,
      "overflow_x": null,
      "overflow_y": null,
      "padding": null,
      "right": null,
      "top": null,
      "visibility": null,
      "width": null
     }
    },
    "6416dd4839fd4c12adfd9a77f9bbbdbb": {
     "model_module": "@jupyter-widgets/base",
     "model_module_version": "1.2.0",
     "model_name": "LayoutModel",
     "state": {
      "_model_module": "@jupyter-widgets/base",
      "_model_module_version": "1.2.0",
      "_model_name": "LayoutModel",
      "_view_count": null,
      "_view_module": "@jupyter-widgets/base",
      "_view_module_version": "1.2.0",
      "_view_name": "LayoutView",
      "align_content": null,
      "align_items": null,
      "align_self": null,
      "border": null,
      "bottom": null,
      "display": null,
      "flex": null,
      "flex_flow": null,
      "grid_area": null,
      "grid_auto_columns": null,
      "grid_auto_flow": null,
      "grid_auto_rows": null,
      "grid_column": null,
      "grid_gap": null,
      "grid_row": null,
      "grid_template_areas": null,
      "grid_template_columns": null,
      "grid_template_rows": null,
      "height": null,
      "justify_content": null,
      "justify_items": null,
      "left": null,
      "margin": null,
      "max_height": null,
      "max_width": null,
      "min_height": null,
      "min_width": null,
      "object_fit": null,
      "object_position": null,
      "order": null,
      "overflow": null,
      "overflow_x": null,
      "overflow_y": null,
      "padding": null,
      "right": null,
      "top": null,
      "visibility": null,
      "width": null
     }
    },
    "706282f5bbf54c039f3ce6eb3126baec": {
     "model_module": "@jupyter-widgets/base",
     "model_module_version": "1.2.0",
     "model_name": "LayoutModel",
     "state": {
      "_model_module": "@jupyter-widgets/base",
      "_model_module_version": "1.2.0",
      "_model_name": "LayoutModel",
      "_view_count": null,
      "_view_module": "@jupyter-widgets/base",
      "_view_module_version": "1.2.0",
      "_view_name": "LayoutView",
      "align_content": null,
      "align_items": null,
      "align_self": null,
      "border": null,
      "bottom": null,
      "display": null,
      "flex": null,
      "flex_flow": null,
      "grid_area": null,
      "grid_auto_columns": null,
      "grid_auto_flow": null,
      "grid_auto_rows": null,
      "grid_column": null,
      "grid_gap": null,
      "grid_row": null,
      "grid_template_areas": null,
      "grid_template_columns": null,
      "grid_template_rows": null,
      "height": null,
      "justify_content": null,
      "justify_items": null,
      "left": null,
      "margin": null,
      "max_height": null,
      "max_width": null,
      "min_height": null,
      "min_width": null,
      "object_fit": null,
      "object_position": null,
      "order": null,
      "overflow": null,
      "overflow_x": null,
      "overflow_y": null,
      "padding": null,
      "right": null,
      "top": null,
      "visibility": null,
      "width": null
     }
    },
    "a2bd426696b042fd9578528f12b8b2cd": {
     "model_module": "@jupyter-widgets/controls",
     "model_module_version": "1.5.0",
     "model_name": "VBoxModel",
     "state": {
      "_dom_classes": [
       "widget-interact"
      ],
      "_model_module": "@jupyter-widgets/controls",
      "_model_module_version": "1.5.0",
      "_model_name": "VBoxModel",
      "_view_count": null,
      "_view_module": "@jupyter-widgets/controls",
      "_view_module_version": "1.5.0",
      "_view_name": "VBoxView",
      "box_style": "",
      "children": [
       "IPY_MODEL_c9b289d5ee224aea84ede7320aa1ba5f",
       "IPY_MODEL_b0605ab93d064da9ac055d485cf0def9",
       "IPY_MODEL_b0c5b66a2b0f456f968fb538d0e0e730",
       "IPY_MODEL_4923955dcbe24befacca0eff989c10cc"
      ],
      "layout": "IPY_MODEL_6416dd4839fd4c12adfd9a77f9bbbdbb"
     }
    },
    "a2f45ff12a2e42c380aedde42ec5fcf8": {
     "model_module": "@jupyter-widgets/controls",
     "model_module_version": "1.5.0",
     "model_name": "SliderStyleModel",
     "state": {
      "_model_module": "@jupyter-widgets/controls",
      "_model_module_version": "1.5.0",
      "_model_name": "SliderStyleModel",
      "_view_count": null,
      "_view_module": "@jupyter-widgets/base",
      "_view_module_version": "1.2.0",
      "_view_name": "StyleView",
      "description_width": "",
      "handle_color": null
     }
    },
    "af3d996e8b76471cb90c5a3fee172f3d": {
     "model_module": "@jupyter-widgets/base",
     "model_module_version": "1.2.0",
     "model_name": "LayoutModel",
     "state": {
      "_model_module": "@jupyter-widgets/base",
      "_model_module_version": "1.2.0",
      "_model_name": "LayoutModel",
      "_view_count": null,
      "_view_module": "@jupyter-widgets/base",
      "_view_module_version": "1.2.0",
      "_view_name": "LayoutView",
      "align_content": null,
      "align_items": null,
      "align_self": null,
      "border": null,
      "bottom": null,
      "display": null,
      "flex": null,
      "flex_flow": null,
      "grid_area": null,
      "grid_auto_columns": null,
      "grid_auto_flow": null,
      "grid_auto_rows": null,
      "grid_column": null,
      "grid_gap": null,
      "grid_row": null,
      "grid_template_areas": null,
      "grid_template_columns": null,
      "grid_template_rows": null,
      "height": null,
      "justify_content": null,
      "justify_items": null,
      "left": null,
      "margin": null,
      "max_height": null,
      "max_width": null,
      "min_height": null,
      "min_width": null,
      "object_fit": null,
      "object_position": null,
      "order": null,
      "overflow": null,
      "overflow_x": null,
      "overflow_y": null,
      "padding": null,
      "right": null,
      "top": null,
      "visibility": null,
      "width": null
     }
    },
    "b0605ab93d064da9ac055d485cf0def9": {
     "model_module": "@jupyter-widgets/controls",
     "model_module_version": "1.5.0",
     "model_name": "IntSliderModel",
     "state": {
      "_dom_classes": [],
      "_model_module": "@jupyter-widgets/controls",
      "_model_module_version": "1.5.0",
      "_model_name": "IntSliderModel",
      "_view_count": null,
      "_view_module": "@jupyter-widgets/controls",
      "_view_module_version": "1.5.0",
      "_view_name": "IntSliderView",
      "continuous_update": true,
      "description": "l",
      "description_tooltip": null,
      "disabled": false,
      "layout": "IPY_MODEL_706282f5bbf54c039f3ce6eb3126baec",
      "max": 1,
      "min": 0,
      "orientation": "horizontal",
      "readout": true,
      "readout_format": "d",
      "step": 1,
      "style": "IPY_MODEL_a2f45ff12a2e42c380aedde42ec5fcf8",
      "value": 0
     }
    },
    "b0c5b66a2b0f456f968fb538d0e0e730": {
     "model_module": "@jupyter-widgets/controls",
     "model_module_version": "1.5.0",
     "model_name": "IntSliderModel",
     "state": {
      "_dom_classes": [],
      "_model_module": "@jupyter-widgets/controls",
      "_model_module_version": "1.5.0",
      "_model_name": "IntSliderModel",
      "_view_count": null,
      "_view_module": "@jupyter-widgets/controls",
      "_view_module_version": "1.5.0",
      "_view_name": "IntSliderView",
      "continuous_update": true,
      "description": "m",
      "description_tooltip": null,
      "disabled": false,
      "layout": "IPY_MODEL_57de811b3eff4b4b87425263f3400585",
      "max": 1,
      "min": -1,
      "orientation": "horizontal",
      "readout": true,
      "readout_format": "d",
      "step": 1,
      "style": "IPY_MODEL_ef686a3c4e4c4ee5ab8d7033d6650638",
      "value": 0
     }
    },
    "c9b289d5ee224aea84ede7320aa1ba5f": {
     "model_module": "@jupyter-widgets/controls",
     "model_module_version": "1.5.0",
     "model_name": "IntSliderModel",
     "state": {
      "_dom_classes": [],
      "_model_module": "@jupyter-widgets/controls",
      "_model_module_version": "1.5.0",
      "_model_name": "IntSliderModel",
      "_view_count": null,
      "_view_module": "@jupyter-widgets/controls",
      "_view_module_version": "1.5.0",
      "_view_name": "IntSliderView",
      "continuous_update": true,
      "description": "n",
      "description_tooltip": null,
      "disabled": false,
      "layout": "IPY_MODEL_af3d996e8b76471cb90c5a3fee172f3d",
      "max": 9,
      "min": 1,
      "orientation": "horizontal",
      "readout": true,
      "readout_format": "d",
      "step": 1,
      "style": "IPY_MODEL_3aebc06fa61940779262c2c6a43c94d8",
      "value": 1
     }
    },
    "ef686a3c4e4c4ee5ab8d7033d6650638": {
     "model_module": "@jupyter-widgets/controls",
     "model_module_version": "1.5.0",
     "model_name": "SliderStyleModel",
     "state": {
      "_model_module": "@jupyter-widgets/controls",
      "_model_module_version": "1.5.0",
      "_model_name": "SliderStyleModel",
      "_view_count": null,
      "_view_module": "@jupyter-widgets/base",
      "_view_module_version": "1.2.0",
      "_view_name": "StyleView",
      "description_width": "",
      "handle_color": null
     }
    }
   }
  }
 },
 "nbformat": 4,
 "nbformat_minor": 5
}
