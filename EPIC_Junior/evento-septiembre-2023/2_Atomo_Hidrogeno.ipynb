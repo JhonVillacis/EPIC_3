{
  "cells": [
    {
      "cell_type": "markdown",
      "metadata": {
        "id": "view-in-github",
        "colab_type": "text"
      },
      "source": [
        "<a href=\"https://colab.research.google.com/github/wbandabarragan/EPIC_3/blob/main/EPIC_Junior/evento-septiembre-2023/2_Atomo_Hidrogeno.ipynb\" target=\"_parent\"><img src=\"https://colab.research.google.com/assets/colab-badge.svg\" alt=\"Open In Colab\"/></a>"
      ]
    },
    {
      "cell_type": "markdown",
      "id": "7cf064c6",
      "metadata": {
        "id": "7cf064c6"
      },
      "source": [
        "# Hydrogen atom orbitals\n",
        "\n",
        "Original source: https://github.com/sebastianmagns/hydrogen-wavefunctions"
      ]
    },
    {
      "cell_type": "code",
      "execution_count": 1,
      "id": "654feda0",
      "metadata": {
        "id": "654feda0"
      },
      "outputs": [],
      "source": [
        "#!pip install seaborn\n"
      ]
    },
    {
      "cell_type": "code",
      "execution_count": 2,
      "id": "0e894551",
      "metadata": {
        "id": "0e894551"
      },
      "outputs": [],
      "source": [
        "from scipy.constants import physical_constants\n",
        "import matplotlib.pyplot as plt\n",
        "import scipy.special as sp\n",
        "import seaborn as sns\n",
        "import numpy as np\n",
        "import ipywidgets as widgets\n",
        "from ipywidgets import interact\n"
      ]
    },
    {
      "cell_type": "code",
      "execution_count": 3,
      "id": "cf0a242f",
      "metadata": {
        "id": "cf0a242f"
      },
      "outputs": [],
      "source": [
        "def radial_function(n, l, r, a0):\n",
        "    \"\"\" Calcular la parte radial, i.e. el tamaño de la onda de probabilidad.\n",
        "\n",
        "    Argumentos:\n",
        "        n (número entero): número asociado al nivel de energía\n",
        "        l (número entero): número asociado a la forma de los orbitales\n",
        "\n",
        "        r (numpy.ndarray): coordenada radial\n",
        "        a0 (número decimal): radio de Bohr\n",
        "\n",
        "    Resultato:\n",
        "        numpy.ndarray: la componente radial de la onda\n",
        "    \"\"\"\n",
        "\n",
        "    laguerre = sp.genlaguerre(n - l - 1, 2 * l + 1)\n",
        "    p = 2 * r / (n * a0)\n",
        "\n",
        "    constant_factor = np.sqrt(\n",
        "        ((2 / n * a0) ** 3 * (sp.factorial(n - l - 1))) /\n",
        "        (2 * n * (sp.factorial(n + l)))\n",
        "    )\n",
        "    return constant_factor * np.exp(-p / 2) * (p ** l) * laguerre(p)\n",
        "\n"
      ]
    },
    {
      "cell_type": "code",
      "execution_count": 4,
      "id": "7f37921f",
      "metadata": {
        "id": "7f37921f"
      },
      "outputs": [],
      "source": [
        "def angular_function(m, l, theta, phi):\n",
        "    \"\"\"\n",
        "    Calcula la parte angular de la funcion de onda, usando polinomios de Legendre,\n",
        "    (se encuentra en tablas, no hay que saberlos de memoria).\n",
        "\n",
        "    Argumentos:\n",
        "        m (número entero): número asociado a la magnetización del átomo, es decir la orientación\n",
        "        l (número entero): número asociado a la forma de los orbitales\n",
        "        theta (numpy.ndarray): ángulo polar\n",
        "        phi (int): ángulo azimutal\n",
        "\n",
        "    Resultado:\n",
        "        numpy.ndarray: la componente angular de la onda\n",
        "    \"\"\"\n",
        "\n",
        "    legendre = sp.lpmv(m, l, np.cos(theta))\n",
        "\n",
        "    constant_factor = ((-1) ** m) * np.sqrt(\n",
        "        ((2 * l + 1) * sp.factorial(l - np.abs(m))) /\n",
        "        (4 * np.pi * sp.factorial(l + np.abs(m)))\n",
        "    )\n",
        "    return constant_factor * legendre * np.real(np.exp(1.j * m * phi))\n",
        "\n",
        "\n"
      ]
    },
    {
      "cell_type": "code",
      "execution_count": 5,
      "id": "3e9c0891",
      "metadata": {
        "id": "3e9c0891"
      },
      "outputs": [],
      "source": [
        "def compute_wavefunction(n, l, m, a0_scale_factor):\n",
        "\n",
        "    \"\"\"\n",
        "    Calcula la función de onda total como producto de las dos funciones de onda\n",
        "    definidas en las dos celdas anteriores.\n",
        "\n",
        "    Argumentos:\n",
        "\n",
        "        n (número entero): número asociado al nivel de energía\n",
        "        l (número entero): número asociado a la forma de los orbitales\n",
        "        m (número entero): número asociado a la magnetización del átomo, es decir la orientación\n",
        "        a0_scale_factor (número decimal): Factor de escala para el radio de Bohr\n",
        "    Resultado:\n",
        "        numpy.ndarray: función de onda general\n",
        "    \"\"\"\n",
        "\n",
        "    # Scale Bohr radius for effective visualization\n",
        "    a0 = a0_scale_factor * physical_constants['Bohr radius'][0] * 1e+12\n",
        "\n",
        "    # x-y grid to represent electron spatial distribution\n",
        "    grid_extent = 480\n",
        "    grid_resolution = 680\n",
        "    x = y = np.linspace(-grid_extent, grid_extent, grid_resolution)\n",
        "    x, y = np.meshgrid(x, y)\n",
        "\n",
        "    # Use epsilon to avoid division by zero during angle calculations\n",
        "    eps = np.finfo(float).eps\n",
        "\n",
        "    # Ψnlm(r,θ,φ) = Rnl(r).Ylm(θ,φ)\n",
        "    psi = radial_function(\n",
        "        n, l, np.sqrt((x ** 2 + y ** 2)), a0\n",
        "    ) * angular_function(\n",
        "        m, l, np.arctan(x / (y + eps)), 0\n",
        "    )\n",
        "    return psi\n"
      ]
    },
    {
      "cell_type": "code",
      "execution_count": 6,
      "id": "cc16944d",
      "metadata": {
        "id": "cc16944d"
      },
      "outputs": [],
      "source": [
        "def compute_probability_density(psi):\n",
        "    \"\"\"\n",
        "    Calcula la probabilidad en base de la función de onda\n",
        "\n",
        "    Argumentos:\n",
        "        psi (numpy.ndarray): función de onda\n",
        "\n",
        "    Resultado:\n",
        "        numpy.ndarray: la distribución de probabilidades\n",
        "    \"\"\"\n",
        "    return np.abs(psi) ** 2\n",
        "\n"
      ]
    },
    {
      "cell_type": "code",
      "execution_count": 7,
      "id": "b3f3e2fb",
      "metadata": {
        "id": "b3f3e2fb"
      },
      "outputs": [],
      "source": [
        "def plot_wf_probability_density(n, l, m, a0_scale_factor, dark_theme=False, color_palette='rocket'):\n",
        "\n",
        "    \"\"\"\n",
        "    Gráfico de la distribución del átomo de Hidrógeno\n",
        "    para valores dados de (n,l,m)\n",
        "\n",
        "    Argumentos:\n",
        "        n (número entero): número asociado al nivel de energía\n",
        "        l (número entero): número asociado a la forma de los orbitales\n",
        "        m (número entero): número asociado a la magnetización del átomo, es decir la orientación\n",
        "        a0_scale_factor (número decimal): Factor de escala para el radio de Bohr\n",
        "\n",
        "        dark_theme (bool): If True, uses a dark background for the plot, defaults to False\n",
        "        color_palette (str): Seaborn plot color palette, defaults to 'rocket'\n",
        "    \"\"\"\n",
        "\n",
        "    # Quantum numbers validation\n",
        "    if not isinstance(n, int) or n < 1:\n",
        "        raise ValueError('n should be an integer satisfying the condition: n >= 1')\n",
        "    if not isinstance(l, int) or not (0 <= l < n):\n",
        "        raise ValueError('l should be an integer satisfying the condition: 0 <= l < n')\n",
        "    if not isinstance(m, int) or not (-l <= m <= l):\n",
        "        raise ValueError('m should be an integer satisfying the condition: -l <= m <= l')\n",
        "\n",
        "    # Color palette validation\n",
        "    try:\n",
        "        sns.color_palette(color_palette)\n",
        "    except ValueError:\n",
        "        raise ValueError(f'{color_palette} is not a recognized Seaborn color palette.')\n",
        "\n",
        "    fig, ax = plt.subplots(figsize=(8, 8.5))\n",
        "    plt.subplots_adjust(top=0.82)\n",
        "    plt.subplots_adjust(right=0.905)\n",
        "    plt.subplots_adjust(left=-0.1)\n",
        "\n",
        "    # Compute and visualize the wavefunction probability density\n",
        "    psi = compute_wavefunction(n, l, m, a0_scale_factor)\n",
        "    prob_density = compute_probability_density(psi)\n",
        "    im = ax.imshow(np.sqrt(prob_density), cmap=sns.color_palette(color_palette, as_cmap=True))\n",
        "\n",
        "    cbar = plt.colorbar(im, fraction=0.046, pad=0.03)\n",
        "    cbar.set_ticks([])\n",
        "\n",
        "    # Apply dark theme parameters\n",
        "    if dark_theme:\n",
        "        theme = 'dt'\n",
        "        background_color = sorted(\n",
        "            sns.color_palette(color_palette, n_colors=100),\n",
        "            key=lambda color: 0.2126 * color[0] + 0.7152 * color[1] + 0.0722 * color[2]\n",
        "        )[0]\n",
        "        plt.rcParams['text.color'] = '#dfdfdf'\n",
        "        title_color = '#dfdfdf'\n",
        "        fig.patch.set_facecolor(background_color)\n",
        "        cbar.outline.set_visible(False)\n",
        "        ax.tick_params(axis='x', colors='#c4c4c4')\n",
        "        ax.tick_params(axis='y', colors='#c4c4c4')\n",
        "        for spine in ax.spines.values():\n",
        "            spine.set_color('#c4c4c4')\n",
        "\n",
        "    else:  # Apply light theme parameters\n",
        "        theme = 'lt'\n",
        "        plt.rcParams['text.color'] = '#000000'\n",
        "        title_color = '#000000'\n",
        "        ax.tick_params(axis='x', colors='#000000')\n",
        "        ax.tick_params(axis='y', colors='#000000')\n",
        "\n",
        "    ax.text(30, 615, r'$({0}, {1}, {2})$'.format(n, l, m), color='#dfdfdf', fontsize=22)\n",
        "    ax.text(705, 700, 'Muy\\nprobable', fontsize=12)\n",
        "    ax.text(705, -60, 'Poco\\nprobable', fontsize=12)\n",
        "    ax.invert_yaxis()\n",
        "\n",
        "    # Save and display the plot\n",
        "    plt.savefig(f'({n},{l},{m})[{theme}].png')\n",
        "    plt.show()\n"
      ]
    },
    {
      "cell_type": "markdown",
      "id": "t29EN1tLuyzC",
      "metadata": {
        "id": "t29EN1tLuyzC"
      },
      "source": [
        "# Imagen interactiva"
      ]
    },
    {
      "cell_type": "code",
      "execution_count": 8,
      "id": "fe117431",
      "metadata": {
        "id": "fe117431"
      },
      "outputs": [],
      "source": [
        "n_value = 9\n",
        "n=n_value\n"
      ]
    },
    {
      "cell_type": "code",
      "execution_count": 9,
      "id": "daa195a9",
      "metadata": {
        "colab": {
          "base_uri": "https://localhost:8080/",
          "height": 864,
          "referenced_widgets": [
            "61df4b70f6554a64bc7803ee3dba28be",
            "96f8a48d48d5471d89fb84d05738dd05",
            "7a35b381740745a2a74e6aeb48004d99",
            "7b1f4ccfd8c34861828a9e5f507dcd7c",
            "dd24a2f6d8b24fd686750fd03ad30e27",
            "2e7ed031a3d94fa5a05967ced6f8d041",
            "aed01409b326473ebad74409a616ed63",
            "d8d93a858ca2414a88cf2db40ec94af8",
            "c6600c80e1b0417886acacb7648878d4",
            "72b146dc26784556bd538560df71c515",
            "aed3d829fa5a4917b960eaa7bbbcdc4e",
            "b4cdc3e3c4824874a5716f55d093a6df",
            "fc635ecaa65f4279b99826ce909d26a4"
          ]
        },
        "id": "daa195a9",
        "outputId": "aad99db5-063b-4163-bdbd-d6db55176d1a"
      },
      "outputs": [
        {
          "output_type": "display_data",
          "data": {
            "text/plain": [
              "interactive(children=(IntSlider(value=9, description='n', max=9, min=1), IntSlider(value=0, description='l', m…"
            ],
            "application/vnd.jupyter.widget-view+json": {
              "version_major": 2,
              "version_minor": 0,
              "model_id": "61df4b70f6554a64bc7803ee3dba28be"
            }
          },
          "metadata": {}
        },
        {
          "output_type": "execute_result",
          "data": {
            "text/plain": [
              "<function __main__.interactive_plot(n, l, m)>"
            ]
          },
          "metadata": {},
          "execution_count": 9
        }
      ],
      "source": [
        "# Función interactiva para actualizar los plots en tiempo real\n",
        "\n",
        "def interactive_plot(n, l, m):\n",
        "    a0_scale_factor = 1 / n  # Calcula el a0_scale_factor en función de n\n",
        "\n",
        "    plot = plot_wf_probability_density(n, l, m, a0_scale_factor, dark_theme=False, color_palette='rocket')\n",
        "    plt.show()\n",
        "\n",
        "# Crea controles deslizantes para n, l, y m\n",
        "n_slider = widgets.IntSlider(value=n, min=1, max=n_value, description='n')\n",
        "l_slider = widgets.IntSlider(value=0, min=0, max=n_slider.value-1, description='l')\n",
        "m_slider = widgets.IntSlider(value=0, min=-l_slider.value, max=l_slider.value, description='m')\n",
        "\n",
        "# Define función para actualizar l_slider cuando cambia n_slider\n",
        "def update_l_range(change):\n",
        "    l_slider.max = change.new - 1\n",
        "    l_slider.value = max(l_slider.value, 0)  # Asegura que el valor de l se mantenga dentro del nuevo rango\n",
        "    update_m_range(None)  # Actualiza el rango de m al cambiar l\n",
        "\n",
        "# Vincula la función de actualización a cambios en n_slider\n",
        "n_slider.observe(update_l_range, names='value')\n",
        "\n",
        "# Define función para actualizar m_slider cuando cambia l_slider\n",
        "def update_m_range(change):\n",
        "    m_slider.min = -l_slider.value  # Ajusta el valor mínimo de m en función de l\n",
        "    m_slider.max = l_slider.value\n",
        "    m_slider.value = max(min(m_slider.value, m_slider.max), m_slider.min)  # Asegura que el valor de m esté dentro del rango permitido\n",
        "\n",
        "# Vincula la función de actualización a cambios en l_slider\n",
        "l_slider.observe(update_m_range, names='value')\n",
        "\n",
        "# Crea la interfaz interactiva utilizando la función interact\n",
        "interact(interactive_plot, n=n_slider, l=l_slider, m=m_slider)\n"
      ]
    },
    {
      "cell_type": "code",
      "execution_count": 9,
      "id": "df1d19d9",
      "metadata": {
        "id": "df1d19d9"
      },
      "outputs": [],
      "source": []
    },
    {
      "cell_type": "code",
      "execution_count": 9,
      "id": "edd59027",
      "metadata": {
        "id": "edd59027"
      },
      "outputs": [],
      "source": []
    }
  ],
  "metadata": {
    "colab": {
      "provenance": [],
      "include_colab_link": true
    },
    "kernelspec": {
      "display_name": "Python 3 (ipykernel)",
      "language": "python",
      "name": "python3"
    },
    "language_info": {
      "codemirror_mode": {
        "name": "ipython",
        "version": 3
      },
      "file_extension": ".py",
      "mimetype": "text/x-python",
      "name": "python",
      "nbconvert_exporter": "python",
      "pygments_lexer": "ipython3",
      "version": "3.9.15"
    },
    "widgets": {
      "application/vnd.jupyter.widget-state+json": {
        "61df4b70f6554a64bc7803ee3dba28be": {
          "model_module": "@jupyter-widgets/controls",
          "model_name": "VBoxModel",
          "model_module_version": "1.5.0",
          "state": {
            "_dom_classes": [
              "widget-interact"
            ],
            "_model_module": "@jupyter-widgets/controls",
            "_model_module_version": "1.5.0",
            "_model_name": "VBoxModel",
            "_view_count": null,
            "_view_module": "@jupyter-widgets/controls",
            "_view_module_version": "1.5.0",
            "_view_name": "VBoxView",
            "box_style": "",
            "children": [
              "IPY_MODEL_96f8a48d48d5471d89fb84d05738dd05",
              "IPY_MODEL_7a35b381740745a2a74e6aeb48004d99",
              "IPY_MODEL_7b1f4ccfd8c34861828a9e5f507dcd7c",
              "IPY_MODEL_dd24a2f6d8b24fd686750fd03ad30e27"
            ],
            "layout": "IPY_MODEL_2e7ed031a3d94fa5a05967ced6f8d041"
          }
        },
        "96f8a48d48d5471d89fb84d05738dd05": {
          "model_module": "@jupyter-widgets/controls",
          "model_name": "IntSliderModel",
          "model_module_version": "1.5.0",
          "state": {
            "_dom_classes": [],
            "_model_module": "@jupyter-widgets/controls",
            "_model_module_version": "1.5.0",
            "_model_name": "IntSliderModel",
            "_view_count": null,
            "_view_module": "@jupyter-widgets/controls",
            "_view_module_version": "1.5.0",
            "_view_name": "IntSliderView",
            "continuous_update": true,
            "description": "n",
            "description_tooltip": null,
            "disabled": false,
            "layout": "IPY_MODEL_aed01409b326473ebad74409a616ed63",
            "max": 9,
            "min": 1,
            "orientation": "horizontal",
            "readout": true,
            "readout_format": "d",
            "step": 1,
            "style": "IPY_MODEL_d8d93a858ca2414a88cf2db40ec94af8",
            "value": 9
          }
        },
        "7a35b381740745a2a74e6aeb48004d99": {
          "model_module": "@jupyter-widgets/controls",
          "model_name": "IntSliderModel",
          "model_module_version": "1.5.0",
          "state": {
            "_dom_classes": [],
            "_model_module": "@jupyter-widgets/controls",
            "_model_module_version": "1.5.0",
            "_model_name": "IntSliderModel",
            "_view_count": null,
            "_view_module": "@jupyter-widgets/controls",
            "_view_module_version": "1.5.0",
            "_view_name": "IntSliderView",
            "continuous_update": true,
            "description": "l",
            "description_tooltip": null,
            "disabled": false,
            "layout": "IPY_MODEL_c6600c80e1b0417886acacb7648878d4",
            "max": 8,
            "min": 0,
            "orientation": "horizontal",
            "readout": true,
            "readout_format": "d",
            "step": 1,
            "style": "IPY_MODEL_72b146dc26784556bd538560df71c515",
            "value": 0
          }
        },
        "7b1f4ccfd8c34861828a9e5f507dcd7c": {
          "model_module": "@jupyter-widgets/controls",
          "model_name": "IntSliderModel",
          "model_module_version": "1.5.0",
          "state": {
            "_dom_classes": [],
            "_model_module": "@jupyter-widgets/controls",
            "_model_module_version": "1.5.0",
            "_model_name": "IntSliderModel",
            "_view_count": null,
            "_view_module": "@jupyter-widgets/controls",
            "_view_module_version": "1.5.0",
            "_view_name": "IntSliderView",
            "continuous_update": true,
            "description": "m",
            "description_tooltip": null,
            "disabled": false,
            "layout": "IPY_MODEL_aed3d829fa5a4917b960eaa7bbbcdc4e",
            "max": 0,
            "min": 0,
            "orientation": "horizontal",
            "readout": true,
            "readout_format": "d",
            "step": 1,
            "style": "IPY_MODEL_b4cdc3e3c4824874a5716f55d093a6df",
            "value": 0
          }
        },
        "dd24a2f6d8b24fd686750fd03ad30e27": {
          "model_module": "@jupyter-widgets/output",
          "model_name": "OutputModel",
          "model_module_version": "1.0.0",
          "state": {
            "_dom_classes": [],
            "_model_module": "@jupyter-widgets/output",
            "_model_module_version": "1.0.0",
            "_model_name": "OutputModel",
            "_view_count": null,
            "_view_module": "@jupyter-widgets/output",
            "_view_module_version": "1.0.0",
            "_view_name": "OutputView",
            "layout": "IPY_MODEL_fc635ecaa65f4279b99826ce909d26a4",
            "msg_id": "",
            "outputs": [
              {
                "output_type": "display_data",
                "data": {
                  "text/plain": "<Figure size 800x850 with 2 Axes>",
                  "image/png": "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\n"
                },
                "metadata": {}
              }
            ]
          }
        },
        "2e7ed031a3d94fa5a05967ced6f8d041": {
          "model_module": "@jupyter-widgets/base",
          "model_name": "LayoutModel",
          "model_module_version": "1.2.0",
          "state": {
            "_model_module": "@jupyter-widgets/base",
            "_model_module_version": "1.2.0",
            "_model_name": "LayoutModel",
            "_view_count": null,
            "_view_module": "@jupyter-widgets/base",
            "_view_module_version": "1.2.0",
            "_view_name": "LayoutView",
            "align_content": null,
            "align_items": null,
            "align_self": null,
            "border": null,
            "bottom": null,
            "display": null,
            "flex": null,
            "flex_flow": null,
            "grid_area": null,
            "grid_auto_columns": null,
            "grid_auto_flow": null,
            "grid_auto_rows": null,
            "grid_column": null,
            "grid_gap": null,
            "grid_row": null,
            "grid_template_areas": null,
            "grid_template_columns": null,
            "grid_template_rows": null,
            "height": null,
            "justify_content": null,
            "justify_items": null,
            "left": null,
            "margin": null,
            "max_height": null,
            "max_width": null,
            "min_height": null,
            "min_width": null,
            "object_fit": null,
            "object_position": null,
            "order": null,
            "overflow": null,
            "overflow_x": null,
            "overflow_y": null,
            "padding": null,
            "right": null,
            "top": null,
            "visibility": null,
            "width": null
          }
        },
        "aed01409b326473ebad74409a616ed63": {
          "model_module": "@jupyter-widgets/base",
          "model_name": "LayoutModel",
          "model_module_version": "1.2.0",
          "state": {
            "_model_module": "@jupyter-widgets/base",
            "_model_module_version": "1.2.0",
            "_model_name": "LayoutModel",
            "_view_count": null,
            "_view_module": "@jupyter-widgets/base",
            "_view_module_version": "1.2.0",
            "_view_name": "LayoutView",
            "align_content": null,
            "align_items": null,
            "align_self": null,
            "border": null,
            "bottom": null,
            "display": null,
            "flex": null,
            "flex_flow": null,
            "grid_area": null,
            "grid_auto_columns": null,
            "grid_auto_flow": null,
            "grid_auto_rows": null,
            "grid_column": null,
            "grid_gap": null,
            "grid_row": null,
            "grid_template_areas": null,
            "grid_template_columns": null,
            "grid_template_rows": null,
            "height": null,
            "justify_content": null,
            "justify_items": null,
            "left": null,
            "margin": null,
            "max_height": null,
            "max_width": null,
            "min_height": null,
            "min_width": null,
            "object_fit": null,
            "object_position": null,
            "order": null,
            "overflow": null,
            "overflow_x": null,
            "overflow_y": null,
            "padding": null,
            "right": null,
            "top": null,
            "visibility": null,
            "width": null
          }
        },
        "d8d93a858ca2414a88cf2db40ec94af8": {
          "model_module": "@jupyter-widgets/controls",
          "model_name": "SliderStyleModel",
          "model_module_version": "1.5.0",
          "state": {
            "_model_module": "@jupyter-widgets/controls",
            "_model_module_version": "1.5.0",
            "_model_name": "SliderStyleModel",
            "_view_count": null,
            "_view_module": "@jupyter-widgets/base",
            "_view_module_version": "1.2.0",
            "_view_name": "StyleView",
            "description_width": "",
            "handle_color": null
          }
        },
        "c6600c80e1b0417886acacb7648878d4": {
          "model_module": "@jupyter-widgets/base",
          "model_name": "LayoutModel",
          "model_module_version": "1.2.0",
          "state": {
            "_model_module": "@jupyter-widgets/base",
            "_model_module_version": "1.2.0",
            "_model_name": "LayoutModel",
            "_view_count": null,
            "_view_module": "@jupyter-widgets/base",
            "_view_module_version": "1.2.0",
            "_view_name": "LayoutView",
            "align_content": null,
            "align_items": null,
            "align_self": null,
            "border": null,
            "bottom": null,
            "display": null,
            "flex": null,
            "flex_flow": null,
            "grid_area": null,
            "grid_auto_columns": null,
            "grid_auto_flow": null,
            "grid_auto_rows": null,
            "grid_column": null,
            "grid_gap": null,
            "grid_row": null,
            "grid_template_areas": null,
            "grid_template_columns": null,
            "grid_template_rows": null,
            "height": null,
            "justify_content": null,
            "justify_items": null,
            "left": null,
            "margin": null,
            "max_height": null,
            "max_width": null,
            "min_height": null,
            "min_width": null,
            "object_fit": null,
            "object_position": null,
            "order": null,
            "overflow": null,
            "overflow_x": null,
            "overflow_y": null,
            "padding": null,
            "right": null,
            "top": null,
            "visibility": null,
            "width": null
          }
        },
        "72b146dc26784556bd538560df71c515": {
          "model_module": "@jupyter-widgets/controls",
          "model_name": "SliderStyleModel",
          "model_module_version": "1.5.0",
          "state": {
            "_model_module": "@jupyter-widgets/controls",
            "_model_module_version": "1.5.0",
            "_model_name": "SliderStyleModel",
            "_view_count": null,
            "_view_module": "@jupyter-widgets/base",
            "_view_module_version": "1.2.0",
            "_view_name": "StyleView",
            "description_width": "",
            "handle_color": null
          }
        },
        "aed3d829fa5a4917b960eaa7bbbcdc4e": {
          "model_module": "@jupyter-widgets/base",
          "model_name": "LayoutModel",
          "model_module_version": "1.2.0",
          "state": {
            "_model_module": "@jupyter-widgets/base",
            "_model_module_version": "1.2.0",
            "_model_name": "LayoutModel",
            "_view_count": null,
            "_view_module": "@jupyter-widgets/base",
            "_view_module_version": "1.2.0",
            "_view_name": "LayoutView",
            "align_content": null,
            "align_items": null,
            "align_self": null,
            "border": null,
            "bottom": null,
            "display": null,
            "flex": null,
            "flex_flow": null,
            "grid_area": null,
            "grid_auto_columns": null,
            "grid_auto_flow": null,
            "grid_auto_rows": null,
            "grid_column": null,
            "grid_gap": null,
            "grid_row": null,
            "grid_template_areas": null,
            "grid_template_columns": null,
            "grid_template_rows": null,
            "height": null,
            "justify_content": null,
            "justify_items": null,
            "left": null,
            "margin": null,
            "max_height": null,
            "max_width": null,
            "min_height": null,
            "min_width": null,
            "object_fit": null,
            "object_position": null,
            "order": null,
            "overflow": null,
            "overflow_x": null,
            "overflow_y": null,
            "padding": null,
            "right": null,
            "top": null,
            "visibility": null,
            "width": null
          }
        },
        "b4cdc3e3c4824874a5716f55d093a6df": {
          "model_module": "@jupyter-widgets/controls",
          "model_name": "SliderStyleModel",
          "model_module_version": "1.5.0",
          "state": {
            "_model_module": "@jupyter-widgets/controls",
            "_model_module_version": "1.5.0",
            "_model_name": "SliderStyleModel",
            "_view_count": null,
            "_view_module": "@jupyter-widgets/base",
            "_view_module_version": "1.2.0",
            "_view_name": "StyleView",
            "description_width": "",
            "handle_color": null
          }
        },
        "fc635ecaa65f4279b99826ce909d26a4": {
          "model_module": "@jupyter-widgets/base",
          "model_name": "LayoutModel",
          "model_module_version": "1.2.0",
          "state": {
            "_model_module": "@jupyter-widgets/base",
            "_model_module_version": "1.2.0",
            "_model_name": "LayoutModel",
            "_view_count": null,
            "_view_module": "@jupyter-widgets/base",
            "_view_module_version": "1.2.0",
            "_view_name": "LayoutView",
            "align_content": null,
            "align_items": null,
            "align_self": null,
            "border": null,
            "bottom": null,
            "display": null,
            "flex": null,
            "flex_flow": null,
            "grid_area": null,
            "grid_auto_columns": null,
            "grid_auto_flow": null,
            "grid_auto_rows": null,
            "grid_column": null,
            "grid_gap": null,
            "grid_row": null,
            "grid_template_areas": null,
            "grid_template_columns": null,
            "grid_template_rows": null,
            "height": null,
            "justify_content": null,
            "justify_items": null,
            "left": null,
            "margin": null,
            "max_height": null,
            "max_width": null,
            "min_height": null,
            "min_width": null,
            "object_fit": null,
            "object_position": null,
            "order": null,
            "overflow": null,
            "overflow_x": null,
            "overflow_y": null,
            "padding": null,
            "right": null,
            "top": null,
            "visibility": null,
            "width": null
          }
        }
      }
    }
  },
  "nbformat": 4,
  "nbformat_minor": 5
}