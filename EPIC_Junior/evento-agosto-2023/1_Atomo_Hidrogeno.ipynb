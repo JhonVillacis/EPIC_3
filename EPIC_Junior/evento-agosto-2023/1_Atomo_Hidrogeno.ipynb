{
  "cells": [
    {
      "cell_type": "markdown",
      "metadata": {
        "id": "view-in-github",
        "colab_type": "text"
      },
      "source": [
        "<a href=\"https://colab.research.google.com/github/wbandabarragan/EPIC_3/blob/main/EPIC_Junior/Hydrogen_atom_final.ipynb\" target=\"_parent\"><img src=\"https://colab.research.google.com/assets/colab-badge.svg\" alt=\"Open In Colab\"/></a>"
      ]
    },
    {
      "cell_type": "markdown",
      "id": "7cf064c6",
      "metadata": {
        "id": "7cf064c6"
      },
      "source": [
        "# Hydrogen atom orbitals\n",
        "\n",
        "---\n",
        "\n",
        "\n",
        "\n",
        "---\n",
        "\n",
        "\n",
        "\n",
        "Original source: https://github.com/sebastianmagns/hydrogen-wavefunctions"
      ]
    },
    {
      "cell_type": "code",
      "execution_count": null,
      "id": "654feda0",
      "metadata": {
        "id": "654feda0"
      },
      "outputs": [],
      "source": [
        "#!pip install seaborn\n"
      ]
    },
    {
      "cell_type": "code",
      "execution_count": null,
      "id": "0e894551",
      "metadata": {
        "id": "0e894551"
      },
      "outputs": [],
      "source": [
        "\n",
        "from scipy.constants import physical_constants\n",
        "import matplotlib.pyplot as plt\n",
        "import scipy.special as sp\n",
        "import seaborn as sns\n",
        "import numpy as np\n",
        "import ipywidgets as widgets\n",
        "from ipywidgets import interact\n"
      ]
    },
    {
      "cell_type": "code",
      "execution_count": null,
      "id": "cf0a242f",
      "metadata": {
        "id": "cf0a242f"
      },
      "outputs": [],
      "source": [
        "def radial_function(n, l, r, a0):\n",
        "    \"\"\" Compute the normalized radial part of the wavefunction using\n",
        "    Laguerre polynomials and an exponential decay factor.\n",
        "\n",
        "    Args:\n",
        "        n (int): principal quantum number\n",
        "        l (int): azimuthal quantum number\n",
        "        r (numpy.ndarray): radial coordinate\n",
        "        a0 (float): scaled Bohr radius\n",
        "    Returns:\n",
        "        numpy.ndarray: wavefunction radial component\n",
        "    \"\"\"\n",
        "\n",
        "    laguerre = sp.genlaguerre(n - l - 1, 2 * l + 1)\n",
        "    p = 2 * r / (n * a0)\n",
        "\n",
        "    constant_factor = np.sqrt(\n",
        "        ((2 / n * a0) ** 3 * (sp.factorial(n - l - 1))) /\n",
        "        (2 * n * (sp.factorial(n + l)))\n",
        "    )\n",
        "    return constant_factor * np.exp(-p / 2) * (p ** l) * laguerre(p)\n",
        "\n"
      ]
    },
    {
      "cell_type": "code",
      "execution_count": null,
      "id": "7f37921f",
      "metadata": {
        "id": "7f37921f"
      },
      "outputs": [],
      "source": [
        "def angular_function(m, l, theta, phi):\n",
        "    \"\"\" Compute the normalized angular part of the wavefunction using\n",
        "    Legendre polynomials and a phase-shifting exponential factor.\n",
        "\n",
        "    Args:\n",
        "        m (int): magnetic quantum number\n",
        "        l (int): azimuthal quantum number\n",
        "        theta (numpy.ndarray): polar angle\n",
        "        phi (int): azimuthal angle\n",
        "    Returns:\n",
        "        numpy.ndarray: wavefunction angular component\n",
        "    \"\"\"\n",
        "\n",
        "    legendre = sp.lpmv(m, l, np.cos(theta))\n",
        "\n",
        "    constant_factor = ((-1) ** m) * np.sqrt(\n",
        "        ((2 * l + 1) * sp.factorial(l - np.abs(m))) /\n",
        "        (4 * np.pi * sp.factorial(l + np.abs(m)))\n",
        "    )\n",
        "    return constant_factor * legendre * np.real(np.exp(1.j * m * phi))\n",
        "\n",
        "\n"
      ]
    },
    {
      "cell_type": "code",
      "execution_count": null,
      "id": "3e9c0891",
      "metadata": {
        "id": "3e9c0891"
      },
      "outputs": [],
      "source": [
        "def compute_wavefunction(n, l, m, a0_scale_factor):\n",
        "    \"\"\" Compute the normalized wavefunction as a product\n",
        "    of its radial and angular components.\n",
        "\n",
        "    Args:\n",
        "        n (int): principal quantum number\n",
        "        l (int): azimuthal quantum number\n",
        "        m (int): magnetic quantum number\n",
        "        a0_scale_factor (float): Bohr radius scale factor\n",
        "    Returns:\n",
        "        numpy.ndarray: wavefunction\n",
        "    \"\"\"\n",
        "\n",
        "    # Scale Bohr radius for effective visualization\n",
        "    a0 = a0_scale_factor * physical_constants['Bohr radius'][0] * 1e+12\n",
        "\n",
        "    # x-y grid to represent electron spatial distribution\n",
        "    grid_extent = 480\n",
        "    grid_resolution = 680\n",
        "    x = y = np.linspace(-grid_extent, grid_extent, grid_resolution)\n",
        "    x, y = np.meshgrid(x, y)\n",
        "\n",
        "    # Use epsilon to avoid division by zero during angle calculations\n",
        "    eps = np.finfo(float).eps\n",
        "\n",
        "    # Ψnlm(r,θ,φ) = Rnl(r).Ylm(θ,φ)\n",
        "    psi = radial_function(\n",
        "        n, l, np.sqrt((x ** 2 + y ** 2)), a0\n",
        "    ) * angular_function(\n",
        "        m, l, np.arctan(x / (y + eps)), 0\n",
        "    )\n",
        "    return psi\n"
      ]
    },
    {
      "cell_type": "code",
      "execution_count": null,
      "id": "cc16944d",
      "metadata": {
        "id": "cc16944d"
      },
      "outputs": [],
      "source": [
        "def compute_probability_density(psi):\n",
        "    \"\"\" Compute the probability density of a given wavefunction.\n",
        "    Args:\n",
        "        psi (numpy.ndarray): wavefunction\n",
        "    Returns:\n",
        "        numpy.ndarray: wavefunction probability density\n",
        "    \"\"\"\n",
        "    return np.abs(psi) ** 2\n",
        "\n"
      ]
    },
    {
      "cell_type": "code",
      "execution_count": null,
      "id": "b3f3e2fb",
      "metadata": {
        "id": "b3f3e2fb"
      },
      "outputs": [],
      "source": [
        "def plot_wf_probability_density(n, l, m, a0_scale_factor, dark_theme=False, color_palette='rocket'):\n",
        "    \"\"\" Plot the probability density of the hydrogen\n",
        "    atom's wavefunction for a given quantum state (n,l,m).\n",
        "\n",
        "    Args:\n",
        "        n (int): principal quantum number, determines the energy level and size of the orbital\n",
        "        l (int): azimuthal quantum number, defines the shape of the orbital\n",
        "        m (int): magnetic quantum number, defines the orientation of the orbital\n",
        "        a0_scale_factor (float): Bohr radius scale factor\n",
        "        dark_theme (bool): If True, uses a dark background for the plot, defaults to False\n",
        "        color_palette (str): Seaborn plot color palette, defaults to 'rocket'\n",
        "    \"\"\"\n",
        "\n",
        "    # Quantum numbers validation\n",
        "    if not isinstance(n, int) or n < 1:\n",
        "        raise ValueError('n should be an integer satisfying the condition: n >= 1')\n",
        "    if not isinstance(l, int) or not (0 <= l < n):\n",
        "        raise ValueError('l should be an integer satisfying the condition: 0 <= l < n')\n",
        "    if not isinstance(m, int) or not (-l <= m <= l):\n",
        "        raise ValueError('m should be an integer satisfying the condition: -l <= m <= l')\n",
        "\n",
        "    # Color palette validation\n",
        "    try:\n",
        "        sns.color_palette(color_palette)\n",
        "    except ValueError:\n",
        "        raise ValueError(f'{color_palette} is not a recognized Seaborn color palette.')\n",
        "\n",
        "    fig, ax = plt.subplots(figsize=(5, 5.5))\n",
        "    plt.subplots_adjust(top=0.82)\n",
        "    plt.subplots_adjust(right=0.905)\n",
        "    plt.subplots_adjust(left=-0.1)\n",
        "\n",
        "    # Compute and visualize the wavefunction probability density\n",
        "    psi = compute_wavefunction(n, l, m, a0_scale_factor)\n",
        "    prob_density = compute_probability_density(psi)\n",
        "    im = ax.imshow(np.sqrt(prob_density), cmap=sns.color_palette(color_palette, as_cmap=True))\n",
        "\n",
        "    cbar = plt.colorbar(im, fraction=0.046, pad=0.03)\n",
        "    cbar.set_ticks([])\n",
        "\n",
        "    # Apply dark theme parameters\n",
        "    if dark_theme:\n",
        "        theme = 'dt'\n",
        "        background_color = sorted(\n",
        "            sns.color_palette(color_palette, n_colors=100),\n",
        "            key=lambda color: 0.2126 * color[0] + 0.7152 * color[1] + 0.0722 * color[2]\n",
        "        )[0]\n",
        "        plt.rcParams['text.color'] = '#dfdfdf'\n",
        "        title_color = '#dfdfdf'\n",
        "        fig.patch.set_facecolor(background_color)\n",
        "        cbar.outline.set_visible(False)\n",
        "        ax.tick_params(axis='x', colors='#c4c4c4')\n",
        "        ax.tick_params(axis='y', colors='#c4c4c4')\n",
        "        for spine in ax.spines.values():\n",
        "            spine.set_color('#c4c4c4')\n",
        "\n",
        "    else:  # Apply light theme parameters\n",
        "        theme = 'lt'\n",
        "        plt.rcParams['text.color'] = '#000000'\n",
        "        title_color = '#000000'\n",
        "        ax.tick_params(axis='x', colors='#000000')\n",
        "        ax.tick_params(axis='y', colors='#000000')\n",
        "\n",
        "    ax.text(30, 615, r'$({0}, {1}, {2})$'.format(n, l, m), color='#dfdfdf', fontsize=22)\n",
        "    ax.invert_yaxis()\n",
        "\n",
        "    # Save and display the plot\n",
        "    plt.savefig(f'({n},{l},{m})[{theme}].png')\n",
        "    plt.show()\n"
      ]
    },
    {
      "cell_type": "code",
      "execution_count": null,
      "id": "2c8b8729",
      "metadata": {
        "colab": {
          "base_uri": "https://localhost:8080/",
          "height": 451
        },
        "id": "2c8b8729",
        "outputId": "891fc8c4-7bb7-407d-92f5-2c91d25f0785"
      },
      "outputs": [
        {
          "output_type": "display_data",
          "data": {
            "text/plain": [
              "<Figure size 500x550 with 2 Axes>"
            ],
            "image/png": "[encoded data removed]"
          },
          "metadata": {}
        }
      ],
      "source": [
        "n=6\n",
        "l=1\n",
        "m=1\n",
        "a0_scale_factor=1/n\n",
        "\n",
        "plot1 = plot_wf_probability_density(n, l, m, a0_scale_factor, dark_theme=False, color_palette='viridis')"
      ]
    },
    {
      "cell_type": "markdown",
      "id": "b2d878b2",
      "metadata": {
        "id": "b2d878b2"
      },
      "source": [
        "# Imagen interactiva\n",
        "\n",
        "n puede tomar cualquier valor del 0 al 10 (entre más número pongas más se tarda en generar la imagen interactiva debido al coste computacional)\n",
        "\n",
        "color_a nos permite cambiar el color de la imagen sólo acepta las siguientes opciones: \"rocket\", \"viridis\", \"Spectral\", \"magma\" \"ch:s=.25,rot=-.25\", y otros"
      ]
    },
    {
      "cell_type": "code",
      "execution_count": null,
      "id": "fe117431",
      "metadata": {
        "id": "fe117431"
      },
      "outputs": [],
      "source": [
        "n_value = 4\n",
        "color_a = \"magma\""
      ]
    },
    {
      "cell_type": "code",
      "execution_count": null,
      "id": "daa195a9",
      "metadata": {
        "colab": {
          "base_uri": "https://localhost:8080/",
          "height": 564,
          "referenced_widgets": [
            "8f106ebe1c0741fd8f58b70f6f573146",
            "9ee632013ae94351b3a6794ccd4aa149",
            "22967c0e7bb24d758254958500d43c34",
            "b0e369ec244244009ed76fbfbdef328f",
            "75dd6018ebda42c88a11bc8a8226c3fe",
            "b5b9310f69b8469799464b176d79fca5",
            "876920d7e32f44129d303e63e6843b13",
            "045e383e4ed14101b55b1077c4f978be",
            "db210b3fbaa3400cbd027678b2eb6546",
            "777f4054f5914c4b9d9da678eae2197b",
            "0cff04d43f804d6f94286b832ddfda19",
            "d8190f137fac40999a5f3c8d5c5ad1df",
            "91641309b7b342c68d3516b679917cd2"
          ]
        },
        "id": "daa195a9",
        "outputId": "89bc454e-cea4-4da4-c2d4-1a58f9aafe28"
      },
      "outputs": [
        {
          "output_type": "display_data",
          "data": {
            "text/plain": [
              "interactive(children=(IntSlider(value=4, description='n', max=4, min=1), IntSlider(value=0, description='l', m…"
            ],
            "application/vnd.jupyter.widget-view+json": {
              "version_major": 2,
              "version_minor": 0,
              "model_id": "8f106ebe1c0741fd8f58b70f6f573146"
            }
          },
          "metadata": {}
        },
        {
          "output_type": "execute_result",
          "data": {
            "text/plain": [
              "<function __main__.interactive_plot(n, l, m)>"
            ]
          },
          "metadata": {},
          "execution_count": 58
        }
      ],
      "source": [
        "# Función interactiva para actualizar los plots en tiempo real\n",
        "def interactive_plot(n, l, m):\n",
        "    a0_scale_factor = 1 / n  # Calcula el a0_scale_factor en función de n\n",
        "\n",
        "    plot = plot_wf_probability_density(n, l, m, a0_scale_factor, dark_theme=False, color_palette=color_a)\n",
        "    plt.show()\n",
        "\n",
        "# Crea controles deslizantes para n, l, y m\n",
        "n_slider = widgets.IntSlider(value=n, min=1, max=n_value, description='n')\n",
        "l_slider = widgets.IntSlider(value=0, min=0, max=n_slider.value-1, description='l')\n",
        "m_slider = widgets.IntSlider(value=0, min=-l_slider.value, max=l_slider.value, description='m')\n",
        "\n",
        "# Define función para actualizar l_slider cuando cambia n_slider\n",
        "def update_l_range(change):\n",
        "    l_slider.max = change.new - 1\n",
        "    l_slider.value = max(l_slider.value, 0)  # Asegura que el valor de l se mantenga dentro del nuevo rango\n",
        "    update_m_range(None)  # Actualiza el rango de m al cambiar l\n",
        "\n",
        "# Vincula la función de actualización a cambios en n_slider\n",
        "n_slider.observe(update_l_range, names='value')\n",
        "\n",
        "# Define función para actualizar m_slider cuando cambia l_slider\n",
        "def update_m_range(change):\n",
        "    m_slider.min = -l_slider.value  # Ajusta el valor mínimo de m en función de l\n",
        "    m_slider.max = l_slider.value\n",
        "    m_slider.value = max(min(m_slider.value, m_slider.max), m_slider.min)  # Asegura que el valor de m esté dentro del rango permitido\n",
        "\n",
        "# Vincula la función de actualización a cambios en l_slider\n",
        "l_slider.observe(update_m_range, names='value')\n",
        "\n",
        "# Crea la interfaz interactiva utilizando la función interact\n",
        "interact(interactive_plot, n=n_slider, l=l_slider, m=m_slider)\n"
      ]
    },
    {
      "cell_type": "code",
      "execution_count": null,
      "id": "df1d19d9",
      "metadata": {
        "id": "df1d19d9"
      },
      "outputs": [],
      "source": []
    },
    {
      "cell_type": "code",
      "execution_count": null,
      "id": "edd59027",
      "metadata": {
        "id": "edd59027"
      },
      "outputs": [],
      "source": []
    }
  ],
  "metadata": {
    "kernelspec": {
      "display_name": "Python 3 (ipykernel)",
      "language": "python",
      "name": "python3"
    },
    "language_info": {
      "codemirror_mode": {
        "name": "ipython",
        "version": 3
      },
      "file_extension": ".py",
      "mimetype": "text/x-python",
      "name": "python",
      "nbconvert_exporter": "python",
      "pygments_lexer": "ipython3",
      "version": "3.7.13"
    },
    "colab": {
      "provenance": [],
      "include_colab_link": true
    },
    "widgets": {
      "application/vnd.jupyter.widget-state+json": {
        "8f106ebe1c0741fd8f58b70f6f573146": {
          "model_module": "@jupyter-widgets/controls",
          "model_name": "VBoxModel",
          "model_module_version": "1.5.0",
          "state": {
            "_dom_classes": [
              "widget-interact"
            ],
            "_model_module": "@jupyter-widgets/controls",
            "_model_module_version": "1.5.0",
            "_model_name": "VBoxModel",
            "_view_count": null,
            "_view_module": "@jupyter-widgets/controls",
            "_view_module_version": "1.5.0",
            "_view_name": "VBoxView",
            "box_style": "",
            "children": [
              "IPY_MODEL_9ee632013ae94351b3a6794ccd4aa149",
              "IPY_MODEL_22967c0e7bb24d758254958500d43c34",
              "IPY_MODEL_b0e369ec244244009ed76fbfbdef328f",
              "IPY_MODEL_75dd6018ebda42c88a11bc8a8226c3fe"
            ],
            "layout": "IPY_MODEL_b5b9310f69b8469799464b176d79fca5"
          }
        },
        "9ee632013ae94351b3a6794ccd4aa149": {
          "model_module": "@jupyter-widgets/controls",
          "model_name": "IntSliderModel",
          "model_module_version": "1.5.0",
          "state": {
            "_dom_classes": [],
            "_model_module": "@jupyter-widgets/controls",
            "_model_module_version": "1.5.0",
            "_model_name": "IntSliderModel",
            "_view_count": null,
            "_view_module": "@jupyter-widgets/controls",
            "_view_module_version": "1.5.0",
            "_view_name": "IntSliderView",
            "continuous_update": true,
            "description": "n",
            "description_tooltip": null,
            "disabled": false,
            "layout": "IPY_MODEL_876920d7e32f44129d303e63e6843b13",
            "max": 4,
            "min": 1,
            "orientation": "horizontal",
            "readout": true,
            "readout_format": "d",
            "step": 1,
            "style": "IPY_MODEL_045e383e4ed14101b55b1077c4f978be",
            "value": 2
          }
        },
        "22967c0e7bb24d758254958500d43c34": {
          "model_module": "@jupyter-widgets/controls",
          "model_name": "IntSliderModel",
          "model_module_version": "1.5.0",
          "state": {
            "_dom_classes": [],
            "_model_module": "@jupyter-widgets/controls",
            "_model_module_version": "1.5.0",
            "_model_name": "IntSliderModel",
            "_view_count": null,
            "_view_module": "@jupyter-widgets/controls",
            "_view_module_version": "1.5.0",
            "_view_name": "IntSliderView",
            "continuous_update": true,
            "description": "l",
            "description_tooltip": null,
            "disabled": false,
            "layout": "IPY_MODEL_db210b3fbaa3400cbd027678b2eb6546",
            "max": 1,
            "min": 0,
            "orientation": "horizontal",
            "readout": true,
            "readout_format": "d",
            "step": 1,
            "style": "IPY_MODEL_777f4054f5914c4b9d9da678eae2197b",
            "value": 1
          }
        },
        "b0e369ec244244009ed76fbfbdef328f": {
          "model_module": "@jupyter-widgets/controls",
          "model_name": "IntSliderModel",
          "model_module_version": "1.5.0",
          "state": {
            "_dom_classes": [],
            "_model_module": "@jupyter-widgets/controls",
            "_model_module_version": "1.5.0",
            "_model_name": "IntSliderModel",
            "_view_count": null,
            "_view_module": "@jupyter-widgets/controls",
            "_view_module_version": "1.5.0",
            "_view_name": "IntSliderView",
            "continuous_update": true,
            "description": "m",
            "description_tooltip": null,
            "disabled": false,
            "layout": "IPY_MODEL_0cff04d43f804d6f94286b832ddfda19",
            "max": 1,
            "min": -1,
            "orientation": "horizontal",
            "readout": true,
            "readout_format": "d",
            "step": 1,
            "style": "IPY_MODEL_d8190f137fac40999a5f3c8d5c5ad1df",
            "value": 0
          }
        },
        "75dd6018ebda42c88a11bc8a8226c3fe": {
          "model_module": "@jupyter-widgets/output",
          "model_name": "OutputModel",
          "model_module_version": "1.0.0",
          "state": {
            "_dom_classes": [],
            "_model_module": "@jupyter-widgets/output",
            "_model_module_version": "1.0.0",
            "_model_name": "OutputModel",
            "_view_count": null,
            "_view_module": "@jupyter-widgets/output",
            "_view_module_version": "1.0.0",
            "_view_name": "OutputView",
            "layout": "IPY_MODEL_91641309b7b342c68d3516b679917cd2",
            "msg_id": "",
            "outputs": [
              {
                "output_type": "display_data",
                "data": {
                  "text/plain": "<Figure size 500x550 with 2 Axes>",
                  "image/png": "iVBORw0KGgoAAAANSUhEUgAAAeEAAAGyCAYAAADTUHxXAAAAOXRFWHRTb2Z0d2FyZQBNYXRwbG90bGliIHZlcnNpb24zLjcuMSwgaHR0cHM6Ly9tYXRwbG90bGliLm9yZy/bCgiHAAAACXBIWXMAAA9hAAAPYQGoP6dpAAC4o0lEQVR4nO29e7wkVXnu/6xV1b33DDAzcpsBuUjUCKOACALbS/To6KjExEhyvKCSHI/+whmIiqJyYrxgIn7IiUYThBOPAc9RQ2ISkogCIkaIMoCiKKAiROKgMDMqmRkus/fuqvX+/liXWqtuXdVVfd3rmU9Pd1etunbv+vbzvu9axYiI4OXl5eXl5TVy8XHvgJeXl5eX10qVh7CXl5eXl9eY5CHs5eXl5eU1JnkIe3l5eXl5jUkewl5eXl5eXmOSh7CXl5eXl9eY5CHs5eXl5eU1JnkIe3l5eXl5jUnhuHdgEAkh8MADD2C//fYDY2zcu+Pl5eXlNQEiIjz88MM49NBDwXl9j7m4uIjl5eVW9qXb7WJ+fr5vu6mE8AMPPIDDDz983Lvh5eXl5TWBuv/++3HYYYfVWmZxcRFHHfV4bN/+UCv7sGHDBtx33319QTyVEN5vv/3UK6YeXl5eXl5eBIAsRlTX8vIytm9/CP9x3xVYs2Z1o73Ys+cxPOGoV2N5eXk2IZyEoD2Evby8vLxsUaM05Zo1q7FmzT4t7k+5phLCXl5eXl5eQ5EQ8tF0HRXlIezl5eXl5aU1Ygj7LkpeXl5eXl5jknfCXl5eXl5eWkTy0XQdFeUh7OU1kRpmwWHDC4yX1yxLUAvhaA9hL68J1SRU81fdBw9rL69hy0PYy6t1TQJo21DZcXhAe82ofHW0l9c0aVaAW1d5x+3B7DUD8hD28ppkrVToVlH63Hgoe3n1k4ewl1ehPHCbyUPZawrlnbCX1zjlwTs8eSh7eaXlB+so0TOfeRLuu+9e3Hvv3TjmmKPHvTsrUs9//vNw33334oc//D6OOuoJQ9oKgx+HfBzy591rAkUiccODPsg74cbinOOCC94PALjyyn/CD37ww0ybffbZB8997nOwsHAqnvrUp+IJT3gC1qzZD4uLS9i5cwe++93v4Z//+Qu48cYbR7K/T3rSE3Hsscfi2GOfhmOPPRbHHHM0Vq1aBQD4+7//B5x33ruGvh9pbdr0QvzWb70Cxx13LA466CA8/PAj+MlPfoIvf/nL+NznrsAjjzxSuvzXvnYDtm69GQsLp+J973svfvd3/1sLe+Uv+pMn75K9JkOMBFgNiBato6o8hAt0+umvxNFHH404jnHxxZ/IzH/jG/8b3vGOc3NvU9XpdLDffvviiU98Il75yt/Crbfeire97e144IEHh7a/f/mXH8dLX/qSoa2/rlavXo0///OP4EUv2uRMn5ubw4EHHoATT3wG3vCGN+Dss/8At99+e+m6/uIv/hILC6fiec/7NTzrWQu46aatA+yRB+90yf68PJC9ZlcewjkKwxBvecs5AIBrr/0y/uM/fpJpc9RRTzAAfvDB7fjGN76BO++8E7/4xS8xNzeHE054Ol7xit/Evvvui5NPPhl/8zefxStf+dv45S/buWF0WkEQOO//8z//E7t27cJRRx01lO2ViXOOiy/+Czz/+c8DAPz85z/HFVf8Le65516sW7cOL3/5r+OZzzwJj3/8objssv+D3/7tV+Hf//3fC9e3devN+O53v4fjjz8Ob3/7ubjppt+psTcevtMv/Rl6GHuNQL4wa/z69V8/DY9//OMBAJ/5zGdz2xARbrzx3/DJT/4ffOMbN4FSY4X+4z9eiUsv/d/49KcvwxOf+EQcccQReOc7z8O73nX+UPb5u9/9Hu69999x55134o477sRPf/pTnH76K/G//tdFQ9lemV71qv9qAPyjH92DM854HX7xi1+a+f/v/30G//N/vhtvetN/x7p16/ChD30Qr3rVa0vX+bnP/Q2OP/44POMZJ+DEE5+B2277dklrD97ZlHfHXiOQoFrDThauo6J8YVaOXv/61wEAfvazB7B16825bf7X//oIzjzz9/D1r38jA2Ctn/3sAZxzzlvM+1//9dNyw9dt6BOfuAR/+qf/C1dffQ1++tOfDmUbVcQ5N1EEADj33Hc4ANb68Icvwl13fR8AcPLJJ+O5z31O6Xq/+MUvYXFxEQDwhje8vqCVL/JZOfKftddsyEM4pV/5laPwjGecAAC49tprC9vt3r270vp+8IMfmlDr6tWr8YQnHNl8JydYJ598MtavXw8AuPnmW3DXXXflthNC4PLLP23ev/zlv1663kcffRT/9m9fBwC8+MUvwn777avm+ArblS3/+Xu1rKaV0TXD2R7CKW3evNm8vuWWW1tZp10BPCwnPCl6/vN/zbz+2te+Vtr2a1+7wVrueX3XffPNtwCQ5/B5z3s+/IXXy5WHsVcL8hAer37t155rXn/nO7c3Xl+n03GKo3760581Xuck6ylPeYp5/d3v3lHa9he/+AV+9rMHAAAHHXQQ9t9//9L29ufxvOf9WnFDrxUuD2Ov6ZGHsCXOOY499mkAZD735z//eeN1/sZvvBxr1qwBANxxx534xS9+0Xidk6xf+ZXkB8f999/ft72dv7aXzYrhrru+j6WlZQDACSccP/A+eq0UeRh7DSAiOdhGo4cvzBpIhx9+OPbZZx8AwI9//OPG69t///3x7ne/07z/y7+8uPE6J136Bwcgu0n1k93GXjZRciFdXl42YD/qqKPQ7XYb7etkiw/xsdLkYexVQz4cPT4ddtjjzetdu3Y1Wlen08Ell/wlDjzwQACyv/GXv3xdo3VOg1avXm1eLy0t9W2vK54BmB9AUvkXTv25cM7x+McfOuhujlnjBuW4tz8ueRh7TZ58P2FL69atM6+bQJgxhosu+jBOPvlkAMB//MdP8M53vrvh3q0UlV8k7c9l7dp1w92VxppmmBXte8NBDCZCfvAPrxKNuJ+wh7AlO7z5yCOPDryeP/mTD+IVr/hNAMDPfvYzvO51b8CePXsa79806LHHHjPncW5uDo899lhpe7ta/NFHy9sC6UrzuQH3chiaZuDWUd5xTiuYPYy9cjTiEbNWypWjkpaXl83rfffdt6RlsT74wQ/gNa95NQDggQcexGtf+3r87GezXRFty/6x8bjHPa5ve7tNlR8q++23n3m9uNg/3D0crZTwbVVN+/nwYWqv8Wna/lqGKrtIaN26tbWXv+CCD+B1rzsDgBxP+rWvfR22bdvW2v5Ng3784/vM68MPP7xPa4bDDjssd9ki2SmD3bt31dy7JppWwIxL03i+PIi9MPJbGU7TX8jQdf/9SXcZ+2JfRRdc8AG8/vUSwNu3b8drX3sGfvKT7I0fZl133323eX388ccWtJLO48ADDzDFVb/4xS/w0EP9b26hfxwJIUwf4+Fomp3dpGmazqV3xStdTIhWHlU16X8RI9VPf/pTPPywzDk+8YlPrLycDeAdO3bgta99Xe6dl1aCbrghuXfy856XHgXLvcA9//nPN6//9V9vQD91u10cdph01z/+8X1O+qAdTQsopl3TcJ49jL1Go0n+Kxi5iAjf+973AACHHnoIDj744L7LXHDB+w2Ad+7cide+9nW4777/GN5OTrhuueVW7Ny5EwCwsHAqnvrUp6o57gWNc47f/d03mPdXXXVV33U/7WlPxdycLPpqYzQztSeYfCDMsib9/HsQrzgRtfOoqEn95o9NN96YOLmnP718VKb3v/+95o5LO3fuxGtec0alvOYsSwiBj3/8L837P/uzP8UBBxyQafeud52Hpz51IwDgm9/8Fm688et9133CCU83r2+88d8a7OWkX/hXqib1c/GueEVpxIN1+C5KKV177XU4/3zZp/dZz1ooHGDj7W9/G848Uzo5IQQuu+zTeOITn9g3jH3XXXfhgQcezJ1n3//35ptvwWtec0bl/T7ssMPwqle5N7s/+uijzeunPnUj3v72tznzb7ppa+GtGpvsyxVX/C02b34xnvvc5+ApT/lVfOlLX8AVV/wd7rnnXqxbtxa/8Ru/jmc+85kA5N2o/vAP/6jSek8+WS6zuLiIG27oH77OatIu7sViQ7ro09R0x9Gf1SR1f2Lw3Zm82paHcEo/+clP8K1v3YaTTjoRp512Gv74jz+EKIoy7U466STzmnOOd73rvErrf8c73ol/+Id/bG1/tR7/+Mfj7LO3FM4/5phjcMwxxzjToiguhHATxbHAWWedjY997CN44QtfgIMPPhh/8AdnZ9o98MCDOOect+Cee+7tu87Vq1ebm2tcd91XTO6+vyYTvMOCbBvbnSxQ25/fJADZ9y2eefl+wuPX//t/nwEAHHjgAZVusdeWVq1aZV5XqRQepgbfF3mRevTRR/Hf//v/hze/+fdx9dXX4mc/ewBLS0v45S8fwne+czs+/OGL8JKXvAzf/vZ3Kq31tNNeZgb2+L//9zMVlpiMsCYr+DfJmtx9nozPVGoSzofXUKRHzGr6qCjvhHP0xS9+Ceed93YcdthhOP30V+IrX7k+06ZOeLaqdLhVCIFPfOLSWsvecsstOOqoJ41xX/IvStdddz2uuy57/urqjDPkACjf+c7t+Na3bitpOb6L9GSAanjKO77xuOZJCVV7V+zVXJPys3KiFMexKS560Ys24Vd/9ckj2e6znvUsAPJHwF133TWSbbazL8OFz6mnnoLjj5dFcn/2Zx8taDV6lzR5TnH0Gu85mBRnvDI/+5mVv4vSZOgf/uEf8cMf/hBBEOBtb3vr0Le3ceNGHHDA/uj1eiWgGY3q7cvwL0DnnCNz3Tfe+G/4xjduSs0d3YXYQ7e/xnOOJgHG/vswMxLUAoR9F6XGEkLgve99PwDgJS/ZbPV3HY6e+9xnAwD+7u8+P/aRtqrty2i6bTz/+c/Ds561gKWlZbz//RdYc0Zz4fXQbabRnr9xw9h3ZfKqL0ZUo1cx5F2B3vWud+Hqq6/GY489hic96Um47LLLTLUwEeF973sfPvnJT2LXrl149rOfjUsuuQRPfnIS0n3ooYdwzjnn4Atf+AI45zj99NPxsY99rPJNE/bs2YO1a9dC/sH5L/3oNc5zPhrwTpRYC8dcYyzbUWg0ueRxHrPPE49HBEBg9+7dWLNmTa0lNVd2fe1CrNl3vv8CZet6ZBHrnn9+pf2o9df9n//5n3j2s5+NTqeDq6++Gt///vfxZ3/2Z86dcC666CJ8/OMfx6WXXopbbrkF++yzDzZv3uzcvP2MM87AXXfdheuuuw5XXXUVbrzxRrz5zW+ueZhe49G4ADVclzMWx8t4tce0bavK7ozkfI/TGU/YDzmv6hpxTriWE373u9+Nb3zjG/i3f8sfrYiIcOihh+Ltb3873vGOdwCQgzGsX78el19+OV796lfjBz/4ATZu3IhvfvObxj1fc801eNnLXoaf/vSnOPTQQ/vuh3fC49I4zvVwwTsSjRBuQ9OInPRwHfI4nLF3xKNVC074q3/SjhN+wR+274T/5V/+BSeddBJ+53d+BwcffDBOOOEEfPKTnzTz77vvPmzfvh2bNm0y09auXYtTTjkFW7duBQBs3boV69atcwa72LRpEzjnuOWWW3K3u7S0hD179jgPr1FqHLmu4bmYoTqwMbrLoWpExzVcdzwOZ+zzxFMnaqGP8LDGjv7xj39s8rvXXnstzjrrLPzBH/wBPv3pTwOQt/ADgPXr1zvLrV+/3szbvn175sYIYRhi//33N23SuvDCC7F27Vrz6H+fWq/2NBvud2jhz1kEblUN8diHG64ex+fkQeyVr1qDdQghcNJJJ+FDH/oQAOCEE07AnXfeiUsvvRRnnnnmUHYQAM4//3yce+655v2ePXs8iEeicbjfdjWUi/hKg21V2eelxfC1/gzbDVWPY8APP/b0VGiSh6085JBDsHHjRmfaMcccg23btgEANmzYAEDeU9fWjh07zLwNGzaYW91pRVGEhx56yLRJa25uDmvWrHEeXsPWdAO4VRc1crfLR/AYsoZwzobjjMcRnvaaaE3yYB3PfvazcffddzvTfvSjH+HII48EABx11FHYsGEDrr8+GaZwz549uOWWW7CwsAAAWFhYwK5du3DbbcnQg1/96lchhMApp5xSZ3e8hqZRXijahUJrF+qhQnfMgBzHPrR4PtuH8ahzxR7EXolqhaPf9ra34VnPehY+9KEP4b/+1/+KW2+9FX/1V3+Fv/qrvwIAMMbw1re+FX/8x3+MJz/5yTjqqKPwR3/0Rzj00EPxile8AoB0zi95yUvwpje9CZdeeil6vR7OPvtsvPrVr65UGe01bI0awO2oVdfbqqY1dJ233y2FbvU5bhiybj9MzTG68LQPTU+sat6AoXAdFVULws985jNx5ZVX4vzzz8cFF1yAo446Cn/+53+OM85Ibmbwzne+E48++ije/OY3Y9euXXjOc56Da665xtwBBwA++9nP4uyzz8YLX/hCM1jHxz/+8Tq74jUUjXKYwXbUmuttRdMK3KpqGcwt5ZDbhfEoc8UexBMpEs1rGmosX3vErEmQ7yc8DE0XgCcHvuMBLyvZdxrb6FgtbLeFfW/PGY/qPE7dJXiC1UI/4S/9Edbs07Cf8KOLWPeyD1baD38rQy+MBsAT4n4bg3cIFdxtd+8ZYH3tgDu93QHW2YI7ZmBT5oq9I54oTXI42msWNT0AHh98W9r/Ce7aVLRvzeBsr7MBkAfYh/ZD1B7EK0Yj7qLkIbyiNR0AHg98m+33JAO3jvKOYzAwNwDyRMDYg9hrOPIQXrGacQCPGL6jg26d7QwHGuljrQ/lAcO8DWHsQexVST4c7TV8DRvA0wbfcYN3WAAfDbDt81APyAO64wFh3I4rHkWe2IN4rBLUQjjaQ9irUDMK4BHBtxl4JzlEXbRvNUHXGMijgfHku2IP4pUiD+EVpckG8Ojcb732g4F3koFbR4NXPA8G5AFhPDZX7EE8c/LhaK/haAYBPET4jgu8oyzoal5gBVSFUH0g14Tx2FyxB/HsqYXBOmp8JzyEV4RmDMATA9/Bj3sSqqfb6ZZUH8p6u5MCYw9ir3HKQ3jmNbkAHr77rdZ22OCdBODWUbNuSdWLreq54wFgXBPEQJPwtAfxzMiHo73a0wwBeKzwHUUO2Vp+BPlkalBwBdR1sUBVILcK45G7Yg/imZCHsFc7GiaAJzX8PB74DgLdUYB20O1XAXR9KFeD59Bg7EHsNaHyEPaqqUl0v23Csn3wDhW4Ld2JyFllzv72A3P10HI1d9w6jGu64mbh6VH0JfYamvywlV7NNSwXPJ0Abgu+VcE7MHSb5o4HWb4ylFLOtwJAgapAbgvGK8UVezc8VPlwtFczTTmAJwy+VdZRG7qTVKhVtC99QFUVytWA3BaMh+eKPYi9hiUP4ZnS5N1beRwAHgV8K4O3AXCHEcauXJCVt98l0LL3tR+QRwPjdl1xe7dHbFMexEORd8Jek6fBYNA+gNtwv8XzW3G9k5IrHnCbpZBOH1sBwPQ2hg3j1lzx0EE87GItr1blc8Jeg2mywtCjBvAw4dsGeJsCt0m3pzqDb9QqyupTFNbPHfcPVZeDtDVXPNUg9m542uUhPBOaUgCPxP0OBt+m4K0D3WEP5lFl/WUgq5T/bQnIg8K4sSuukSf2IJ5xEclH03VUlIfw1GvlAnjk8G0BvE2AO4ibrpoDrjNKVt/8b0UgtwnjUbtiD+IZls8Je41fswngYcC3HxiH3q2phfVWqWwG8gFXGcitw7iJK55VEHtNozyEp1rDcMGTDeC23W8hpAYEb2tV1TXXW6Z+OeGifUrDsR+US4Fc4o77wbh9VzyrIPZuuBV5J+xVTbMI4NG537rwHRS8VaE7zLxwv3VXCTsD5VAeCMgVYTwcV1wxT+xB7DVkeQh7KU0ugCcRvoOCty5s24RzIWwLtlEHrFWAPDwYD9EVDx3EXhMnaqGLUo0eCR7CU6nJGJRjmgDcBnxrg71kmbpt2lDZdnLzvSXh5zKXXATkQWBcP0Q9qCseF4i9G544+XC0V7kmIww9XgC34H6HCN9Sl1ypT3HQt01TEWJ3mxWqowdxu3lOtA6M23bFHsRekyYP4RWv2QXwMOBbF7zlYev6sK3jmsv7/uZv24ZzqRPu43blurLthwHjOq54ZYHYayAJtOCEqzf1EJ4qte2Cpx/ATd1vE/jmtmsA3bbD0oMM0pHexypQrhN+rg3jCiHqcle8kkHs3fBA8uFor3yNPw88bACP0v1WgWpT8BZBt3Lf4SHkistCzHntqkK5DMh57rgyjBu74vzw9KAV12afpqZYy4N40uUhvGJV7wI/KwAeNnzzwNs0RzxIW62q0E23LXS91vHlATlvHWWgrQXjiq64nfB0OyCuLx+WHrdIEKihE66zvIfwVGj8YehKGgGA23S/g8C3CXj7DuQxBOdbp49wWXFWvsPNArnMHQ8C40FccXvh6eYg9mHpKZQfO9pr0lTJBU8wgIcB3ybgHdaoWnWUhl9mfhl8awK5CYzbd8XTAmKvlSIP4YnXeF3wVAG4hdBzXfhWcso1uzhVWXYQlfXzNW0K4Ewk+k5LA7kujNNutjREXeCKZwfE3g2PTb4wy2t4mg0AD8P91oFvFdC20b3JbTN432GibKg42yZbRAXkQ7kIpuk2dWE8cIi6Qnjag9irsjyEvRKNvyK6mSYPwHXgW9f1DlrgJadXh2zdOyP1WzdRXJgPzoNyBrZ9AJ0OVQ8C4zogzmszEhBPvLwbnkR5CK8YjdoFjwDADdxvW/AdvLK6oPtSS/ngOqBO70uecy7qblQE5GLAJu64Cowr54orhKeHDmLvhmdD3gl7SbXpglc2gEvnVQw713G9VaDb5k0eBlGey012IN0265Tt5fNA2RfOCErD1G25Yg/i7Na9G+4jD2GvidcQAdy0AKsN91sVvuVwz6mernCsAMBHUB0tCn5npeEs3W7WKbvh5nx3nBuazglT2zAe1BXXBbG9vNRoQezlpeUhPJGacBfcmsYD4DbhWwbeKtAtAm6TQqx+IopztyuQrYBOmyYbymmHnHbHg8C4nysucrV1QZxeXmp0oV/vhidXRC0M1uH7CXsNotGGofv/OCgDcNXwc1P3Wxe+/cCbht+wc8MFK88VT1030lDOhLCt9RS54yIY50M26OuKy8LTuXniPiDOOQvIG+JyMsLSXiORD0evdI3PBffVEAFcJwc8CIBHCV+7TT/oNum2NLCKrg+pr14Gyg5006DNuuMyGLfpikvzxC3liCcjLO3d8CzKQ3hm1XIYegIB3CT8PCh8m4K3+l2bhnhP4ZyPOrdQK+V07eNycsr2tbzPuuvAuMgV184TTzCIfbX0BMo74ZWs8fQLHkYeeBIAXMf9tg3fKu3T+2XWU8MFF91QoVwcIt2vlgXZ5QvgagNZpKGa446T5cphnAZtkSseKE88dBAPrvGFpb0bzpWHsFdzjT8MXaVdGwAeNPycC+IB4FsXvGno5gG3732HiyIPqSrlMvGc312Z60YFt2uHrLU7HgTGea64LFdcJ0/cNojzNa1haa9xy0N4YjShLri1MHR5m2EDuKr7zcv5VoVvFfCmoZsZGKTkRw2vFaKWbUWBO84rUkqDWRSFmXOmO+64BMZ5OeMiV9w0PN0eiF1NRli6LXk3nJG/i5JXM7Xsgmtup0oYehQAbsP9lsE3z/VWAa+zX6njLoJskyKtAAnI8ubakE4DyYZyXyDnuOM8GNvQTsLO1VxxOjw9OhDXCUuPyqV6NzwskWgeuKizvIfwClYzF5zTfAoAXOZ+y8BaF75VwJuGbt9z00AGamn3m+mWlK88INu5WphpSfi5CMZlIeoyV5wOT08uiAs0sW7Ya5yq9Vf+/ve/H4wx53H00Ueb+YuLi9iyZQsOOOAA7Lvvvjj99NOxY8cOZx3btm3DaaedhtWrV+Pggw/GeeedhyiK2jmaqVVboejqH2ezYqyq2ylvN0wAM8YLAczACwGs5+nl9T/GgsI2DIF5cMbBU9N0+wAdcATgCBCwTrI84+AsTNabapt+BOj0fZQta2+Hs9DZj4B1Ctr2OUZzLuxzq2BszmFxm/LPJnnO+5xrfU/s71ztHz3tfO/bU1vbmfYbxbQsXZjV9FFRtZ3wU5/6VHzlK19JVhAmq3jb296GL37xi/j85z+PtWvX4uyzz8YrX/lKfOMb3wAAxHGM0047DRs2bMBNN92EBx98EG94wxvQ6XTwoQ99qO6ueA1TrbjgGm0GBHDd/G8ZfNPLpN1vZtmU681zvLbbLTqWjCPOubjWywcDsNqn88JBJh/shqXzQsuZNgACq6JapMPSqfc6ZyzskHMqRK2VdsVl1dNVK6erOmJbzfLDRQt4NzzxmvTq6DAMsWHDhsz03bt341Of+hQ+97nP4QUveAEA4LLLLsMxxxyDm2++Gaeeeiq+/OUv4/vf/z6+8pWvYP369Xj605+OD37wg3jXu96F97///eh2u3V3ZwY0gS64FKjZeY3D0EMAcFn+twjATeGbB9a83DPPgXV6et78QWXywinwAgmgXTAnwGUsmW7Cyznb0OHqfjDuF6JO54qr5InzKqcHBXF7Yelsu6qqB+LBt5Peqi/QGo9q/4Xfc889OPTQQ/Erv/IrOOOMM7Bt2zYAwG233YZer4dNmzaZtkcffTSOOOIIbN26FQCwdetWHHvssVi/fr1ps3nzZuzZswd33XVX4TaXlpawZ88e5+E1Dg0Wjmua6xwUwG74sjqAdei5KOycDceq0G4q1GyHmPNCvE54OhUmDhAiQAhu/QvRqf2wl9frLAp7F+1bOnRth6zT4erMuUmFoPW5TX7opD+f/B8v5dGNPkV4Db5v6XVBfUuqqaBdzSiT12ilC7OaPqqqlhM+5ZRTcPnll+MpT3kKHnzwQXzgAx/Ac5/7XNx5553Yvn07ut0u1q1b5yyzfv16bN++HQCwfft2B8B6vp5XpAsvvBAf+MAH6uyqV4FGU4xVtv1U+35utwGA7eWbuN9+zrfI9XKUOGRnWr3QdB0F1vLG0Wa6L8kwsW6v2wlrHelpGWeb2m6eM0673rQrzqu0zpueV7BlO2KziznOd9BCrX7yYWmvQVULwi996UvN6+OOOw6nnHIKjjzySPzd3/0dVq1a1frOaZ1//vk499xzzfs9e/bg8MMPH9r2RqfRh6Lb3MYgYWh3Zv8wdOm0FgFcJfQ8KHyz7yuEpil7vIPc4lA4IJHLC5YFLndyvhLKefDVe1AHxkJ3L8qBbVGuuGp4Og/EefljW+3kh4cflq4uH5JuVdRCTnhU/YTXrVuHX/3VX8W9996LF73oRVheXsauXbscN7xjxw6TQ96wYQNuvfVWZx26ejovz6w1NzeHubm5JrvqVUWNw2TDyQPn53ebA7iu+y2Db1Xw5kHXBm5m3Ok+BVnOeM45F+LAWl47Rb092T4Bcz6U00CW09Pvy2Bc5orzcsXDAvEo8sO11McNe41JAs1/09RYvtFV95FHHsG///u/45BDDsGJJ56ITqeD66+/3sy/++67sW3bNiwsLAAAFhYWcMcdd2Dnzp2mzXXXXYc1a9Zg48aNTXZlBav6Rzh4t6SqLrhs2/3bjwLAOkeZB2A795uX9zV5UCvPqXOn6dyvzuvqXG4m50ohOHGElOR95Xy5vaSrkc4HB7kPK9ta0iZZf3obZv1qfwJKcsb62HRuWeeTM7li+9jM+bXb5OSLrXNofw7prkzOZ1T4+eZHL8qK89LzC7+TNS+RVaJDlddV6+/V55mnVbWc8Dve8Q68/OUvx5FHHokHHngA73vf+xAEAV7zmtdg7dq1eOMb34hzzz0X+++/P9asWYNzzjkHCwsLOPXUUwEAL37xi7Fx40a8/vWvx0UXXYTt27fjPe95D7Zs2bICne6E9c0bsgsu2lbeRS53WksAlnuazKvjfvs53yLXm3a8ZvsInPfydfK9YA1D0kmeNxExYfZLgGCcMAQC5SI5JTlina91t+q6YzdUnXXGtikgxOCMu1XUJeFpUHbIy0EdMcxmsvneNsPStTRxbtiHpEkQqGE4us7ytSD805/+FK95zWvwy1/+EgcddBCe85zn4Oabb8ZBBx0EAPjoRz8KzjlOP/10LC0tYfPmzfjEJz5hlg+CAFdddRXOOussLCwsYJ999sGZZ56JCy64oM5ueA2giXHBDQqxBgFw1fxvUe7XDj3nAzcfvlXBq6HLCkLSRdDlJZ+nUBfR9LICArBC0RrOGswayvlA5pmQtVwPcmFs54yLQtR2rjgvPG2DWK+rCYgHLdRqp0hrMFj7Aq0xaMThaEbUdKTq0WvPnj1Yu3Yt5Bd7whxlZbWx3y2GogvBWgXCxS64qBq6ah64XzeUJgC2113V/RbBN8/15oG3DLqFjriFUKMLTrJeC+cZkFDW7fR0MygHhCnsSoq2YqudMAVe+rVuR+TOSwb6SF4TCau9tV5K1k8UZ6aZZSndPqmYzs4TmXnO9BRIi9pDnQWnba67Lbgy93HC9SDchqueOiRYIgACu3fvxpo1a2otqbny83NfhTVzzcas2LO0jIM+8reV9sOPHb0CNFwA15ifM69fHriofTm46wO4zP3yvHngSDtf2/XmOV6WcsVpN2wfS3p6mfPtJwndJARtHDDs0HTikEHaDQOcsYxD5gaO0h1zZ1tuBXU6RF3siq2xqK0QtO2Ibbec54iBxIWm3bCtvOVyVSssXWV+gRvuE5L2bnjEIjT/HVJjeQ/hsWha3XueSoBZIQxdOq1CGHpQAJeFn/u536rwtV1vEXhZ6n0ZeAdJKRDIWY/rgpmZFiCBsgBB52VBHAzCCVnLELSCG6k9ZTbQ5LI2cszrVK6YINQPIWTyxHVBbMLaA+SHm4elG+aGJ0orOy880Tlhr0lS8xAlgNG54Irt6+aB3WnZkHUVAKfDz1noZkPP6bBzGr62680Dbxq6rhvOTst7X0UidTFl6r0NZ91GmP2jLJBJZNxxGsaCZQf2SLvidK64LE9cBmIAmWItOa1+ftjsUh93m9Yo3XB1zdKPgZUhD+EZV7O7JfVTuy54kEKsflXQgwA4HX4ucr914FsG3jR0zXTWHMIsBWFOGrjJc6CwqzyvenaBrI9IQEAQMjDmgCniEsz+Zriu2IZyAuI4+RwqgjivajqZVg/Edaqlx+WGfUh6hBpxYZaH8ErWiF1wv2roKsqvoh4cwHn537zcb1HouQi+addrA7YfdJNlXXE2AIRT121iCVyBLJTNdFU6pYHsuuM8GCewzQtRp/PDdng6nSceFMRyddnwcqXzlLNclaroVt2w10So7tjPReuoKg/hkWu0VdHDU30XbCY1CEPb65fV0cMBcF742Xa/6YKrMvjajteBcQF0eWq63MecE51qkw49A0DAmDOCnoGtmpYHZdlGgzdxyMI45SyMOTN+WLVKQtSO+0WCIBvERHqd+hzUBzGAjLNtLSw9Cjc8USHplZ0XHqU8hGdYbYWi23bB6Wnp5evkgdPrrgPgvAIsO/xclPu13W8/+NquNw3eIuhq4JZBOC80HcDN8WrZ78w2U21tKKeBrEPW2h3nwpjUVAVj43ytXLFEduwAuKhgS56X/iDW5zx3OMqCsHRalcPSBRrMDdeXD0mPSD4c7TUS1QhF12kziAuuMy+dB7ZBbvezbQvAefAFkAFwHnzTrjcNXhu6ZQDmFm/TeeI8aRibIQCsyuNAAVS6z+S9DeU0kNPuOA/G+juhXbGGM4MwXZrSrjgNYh0OrgJieY64M9Y0rIrpdH7YVlm1dHKeh+2Gh12g5TWofDjaa6rUlguuE4aW091KaA4XzPZybQK4CXxtx5sGr1mG6WPSbe1z3fdUp05yEooOmAW2VA7WDjwyJAFlQDpkDeNkXJ8sjJkJWyeV1LzAFQ8KYnlIErAauDaI5fxsflgv10qRVuGpbsfteq08eQiPVKPLBw8vFD0cF1y27bIwtDsvcPbBHohjlADOg28RePOga9yw7YBTnycv+XhFKv6sQ5iBnqfgbLajoCYoAbLtkLU7TsPYrnaW73muKx4ExPJcpHPEyQhYtvOV5487LrksLF1Vbbrh0YekfV54YMlBt5qvo6I8hFeiGoWia26qgQt25+WHoeVeJ3lgvUwawOnt1wFwQMmdiJrAN+14ZVu9z5YLTrtia9/L4KsVqDYJjJnjdAGAGBkok/3DgLIO2XbHNox1mLqfK2YQEvKoDmLY7la1NAN6pJxvOj+s4VwUlh6WG64vH5KeRBEBTQdzrrO8h7DXwCoKFTdxwYOGoXW7NIC10v2A+wFY3savv/sN9PQK8C0Crw3dJGesn93KaaTm58nkf1UbMtNJhqVJrlEDVrtlpoCsQ9cayFVhbAMl7YpBSVcmoFcZxLofsXwbOCAuyg/Lc1stLN1PddywD0l7DSIPYa9C1QlFV15nHxdctP0qYWiWAq9uWwfAyT128wEcmtdZ9xtUgK8NXtvpcpYFbhKqVu+Lzilzf3kHFqA1EohkdyVBcr4NZu2G84Bsu+M8GBuY6r7BliuO4ASirfB0R7pj6tUAMRwnahdqaecrz0X/sLT7/ajuhutrOCFpr+HKF2Z5NdZg+eDhhaLbdMF5Yeh0uDkvD9wEwAECx/0yMITgue43YNXga4PXhq4N3CQ3nHyehZ9szgyZ25Wg1fOJXDAz5XwJWSATK4exBmDaFUfK74bgJjyt5fYp7tQGsT5Pgmwgc6tNNiyt3w/qhu3tjCwkXbofvqvSUOW7KHkVqwVQ1iyOKlxNjVB0ut0gLrgsDG3aFBRitQngdPg5z/2GjFWGrwZvGrqZsLRzrIWn2MgZoEMtYPKpSMCsoayBLAFHCrTFMI5U3+E8VxwSz4SnYX3G7YEYTn5YnqdsWFqej8Hd8FhC0q3khdsozvIatjyEvXLVNBSdV5BVZXuFcM97XxKGzlNZDjgN4NC0deGrARyAFbpf8z4F35Dng9cOQ3MLRukqaZu9fXPCVj5YF2AFVthaqNA0scQtJ0BW8wBEgnJhDBS74jgVnk5AIH/QRHBBTOCFOeK4X9eggrC0nOc61/G4YR+Snjb5cLTX9KpGQVZTF2xP0+rnggHkApgpOFQBcMC4CT/bLth2vwGvDl8bvG6FdBa+NnirdlHSr4kl720wa/AyMBADGMlAp84zM85yYQyR74rlxmR4OrkSJSAS4AgBB8QCAfKqpmMI9TlUC0sDSKqlG7rhtPq5Ya/Zka+OnlkNkqcdlQZzrUB1x1slP9zPBWeHt8xWQ/cLQ+vlbACHCJwQdB6AA6YLsoCQcTDlePPcb2DBNWAsA189zQ1XZwFcBuGybxNZMw2ErfcGxCx5bYCsHHKcA+PYClODZ12xdqMcDBEJ9YOFFKhcEHO1R4KAkEEVccGAGOrOSnXC0nZBFoBMkZb+7KuEjusWaDULSU9y2NjEOryGJA9hr9ZVHczF/YL167TjLSrGylNRHjjdD7goB5wGsO189euAZ91vwLRTrg5fG7x5QNavzbFVdMIZB5wCrxXJVU5Y7h/PgTEnhphUPjnHFavuwIhBCMERkRy4MnGMNmzSOeLklojSScv57lJJqLlM6b7DehqQ74bT/Yb7rr92SNprqiSY/iXYbB0V5SE8YyqtjK5ZpZxosGIue6AN532fsHW/XLC9TJkLtpe3w9ByWjISluuBywGsHa8OPwcl7ldDOA3fgBWD136GNV/ucyKevkehJWFZ4bQDBiRsdT7YBrI9LbZgHFMSppb7Yfyw44rBmRkSUz5xU7CVB2K5Bq5eC9UegBWGBhIAmxG0arhh/fnXccO1CrQqacC8cEm421dID08+J+w1nRqw6rrMBafbVXHBeWFowHLFBYVYErzBwABOu1/9Xoavs/ANeT54XSjLi2w6HN33TLMEOS545QryoGsDORIJ2DSMIyQ545gSVxwJQsCSkGUMpnK+Mk8MC45ZEAeQ7pZDEC8s1JL3KQ4yYWlQsWvNyw3r70eZG64tnxf2aigP4alRO12LmqpfPrhuKLps+TLgFrlgW3YYGkBhIVbeSFhJn2AUAth2vEXuNwF1Fr4BywevmWaONVsxnRxj4oZEKgqiosamC5KGcwJd5gA5hsVKJDCWTlg9K6KarXLmhKchy5syINbjUJNpxdQ+c3D9f06hVszcsbfsaum8saXL3DBYfr9ht93gIemhdFVqrEnON0+miBiIWP+GfdZRVR7CK17DgXuek82bXtbWfl9UEZ1uV1YNDSRh6CqFWNLFcgfA+nWQdsJcnsmAJ+43UMC1QZyGr5zmgtepoNaB3VRIOj8nnBQ7AW4+WMKYqeIrXYRFDpC55Y5jkjCOSed5FZCVDSUmV8wYEIskPK0pmAExuCnWst2w7GPsFmpx4+TdsHRetXRTN5z3vmha2fTm8rCcFPlwtNdMqV/oOO+1fF/slPu54LJq6HQeWIegQ+OHpdPVAGbK2WoHXARgOxxtwzYNXhfIciznPPA64WkFKHs0rT4n3RkVSwNYEJmws2AukCO1TaHCzA54SeZgY5IbZ+Y1AyMVrxZJSDoPxAwwxVqMKeCr8x5B5OaH7bB0ulpaF2nVccP6e+X0Je43rGWrw1h6eWXlIezVRxWccs18cJVQtH5fZ8jLNIy59T4dhpbT7LBzdiAODdx0CDoPwG5ouhjEefANCsCrwSynu45Ynp+s7FKdZIQsCeDEAWeBzChxx9IRMwNeDWS9Tdt76vB0PxADsmqaq/C0HNCDKdwy6PywAGSUwgpL65wwkISj7SKtMjds9rNPdyWnbcWQdLJAlbywd7rTIqIWnHCNmjkPYS9HlaHXUhi7XygagAlFV3HBsn3WBev16Od0GNouxLIH4jBg7gPgdPg55Al0GfR7SkLVxmHboWiyircSKAMS3ElIuv9fuMm5kg1jtxo6toAcMiAi6Y5lIZbcHidmcsPGDQu9T0l4Og3ipKRMgpir7eoDIkr20c0P6wIv+S5GDE4844ar5obBkOmuBFQLSQ+iyv2KJyZn7DVueQh7VVY/QJcVUZUtXzUU3W/beblg/TqvGCvtgu1CLF2MFfAEvPpRBOAiFywf5FRJhwbIieMNmO2GyYFxUpilO/8US3cAImIqFJ3cmMGuig4MiNWAHNB9hRNnzEBqoA7rXHM3PI0CEAOJL5Z0BHSPJQEy+WGhPrWkcCupli5yw3Zoum6YuCwk7bYrH9qyH3A9aKdTvjDLazgasAvRQJtK9Q8ua1M4v0Io2u4XrFXNBSfV0GV5YA0/uxtSFQDrh3a/gYGs9d4Gs3HAZKbLUDWp7Se+0u4f3D8cnXhmQfImC6SeYzU+tAYxMaa6H6m7IUH6TqhtctUtiYmcITNKQaycsS4AU1Pc/HASlrarpau6Yca4dbvDskKtbEg6r03hKFpo2l94APkuUKOXYCA/WIfXSlMRsMtC0W679G0Oi12wnJ7tjpTOA+tKaH27v0EBbKaZ91n4BikAJxXTyXNeONqGsjtIh4SfUPldYuQ8B0yDmCQElRPW/OTEwInAyHbBlDja7AeVATEJpu7IxMCYrpKW0vnhdFiag6mew8Vu2L5dYTo0Lb8f1ULSeh2+4MprnPIQ9hqpbHhWyQf3XV/B6FgAartgJ0SdqYRmljMuB3CHJ6C13a8NYRu+MkxNJkQtgWyHo8kJR7vFWQmEyYKcHAtah6O1K2YGyjExhIwQEUNIQKRgrJ2xDA8nYNZnWYeni0AshNwPInmMNhFjSCDr/LAOSzM1QLX+PMrcsN1vWHty3Qe4SoFW+rtTOJBH3eIsr5mRv4GD13Sp5TB31XxwUUGWfnb7BRe7YPNeu95UGDrJA6sHd0fFqgJgdxqZhw1fU7TFyYA3SIEYcCulzXErd2tLAxdwASzdL0MIhkgkjpiZfsKkXLAKP6v3zv0RSxyxicIZ+KqcM9QjFZau44btfsPaFecVaFUabCOVF24sHzaeGfmcsNdMqmpRFlCeD+4Xik6PjsVT0wdxwYEFaBu40rXmAzjk2fBzyAghtyHswjdgQuaOLRDbEGbMyg+XjB2tLwBCVTvbEA7U61gwBAEQEwcTMDCODIAB5oSXk/C05F4WxPqexea9OUc6NC7D0kVuWPcd1m5YjheduGECNyFlPb0sJB3nQLYoLzz6wTm8vKQ8hL1Grqph57x8cGZdqVC0+6zu0pTTL7ifC05uyJAamhLpvK+bA04DuGOcrwRtx3LCgYFyAt+ACbU9YaArC7SKIZx2whkIQ/6y1+9j4giYfOZCODBOws8weV49zQayBjFZICbVXjteDV9i0uEGTLpp0n2U4brhWPeFVp8PgZl+w2CxhCsJp0DLDklnh5EMKuWFM98pD94VLWqhMKvO8h7CXq2oX/ekQZbtu1yqKtqWHXrW77ULTpbPd8EBT8LQ2u0aGKt5aQCHVgg6DeAOT8LPHS5SIWky8NW5YP3egbB5dgFsv6YUiHVeWFAawiSdMBFixgyMGWcqFM1UCJqDcR2OTj4tCdZsaJrkiTajUur8cKCGx+QqLB1wQIgiN8xM0Zb2v8IMb5mVHZKWLrd+iLlKcZYH88qRzwnPrOycmlcT5Q1TqZUeMUs/O/C1HXGOC5bBagnegENVSLsh6ATObg5YAjcL4A4nBerE/QamjXDgG3AJ3IALA90ExAl4825naO6UZIeiDYSBWPAUfCUMGXRemIErVwwukvCzqX6WZ9AMygw5NIdgMu6gQ9L2M1M/XuxqaY58Nyzdr7avMD+d0iHpdJV0ehjLURVVzX51dUMaefWVh7DXUFTX3VYfqSu/GEu+dquigSQULeen8r4509Iu2K6GTt+EIfsoBnDHAq52v9IVCwe+ARcKwPo1EgArOGsTynj2AqnDYKRcsAQfM1COhXLBnMnXjCEmeTvCmDh6InHFEOqniwZwCsRChZcFkoIsXYQVqOeQJdXS8oeN+jnKUJIbZk6BlvkcWWw+X10lbQ9jmc4LVxkmsq7DnX3oevnCLK8C6avggCLReiVznuqM9ZydVl4ZzdNdmirkg4H8UHSyTdcFy2VdF2xXQ2fHg3a7HQV9AKzD0SEnhFwg0OFpLtAJROKAOSFQ7xmTwOXWa1byNy7HvrWcsHpNxMBjQiCYdMSc0ItVLpgxVYiVuGIAgOD6JDogluCVjlUoIMvQswIqg8Sg/Wy5Yc6yldJp05UOSSefqx5jqzwvzBnPLc5KPvtshfTEhZ0b78sEHcuUSAgG0TAnXGd5D2Gvkanoxg1tL+t2RUqD2w1F63a6IpqBZVywLsbSIei8MLTOBbtdk/IB3FHADZhAGCgQcxe+nEvnG6hnHsiS5cQFq+ecnLC+bpOioYgliGPBwDnJfGwsnxkjxEIgigMZ7GXSg0JwgKsVpUAsmOwkRZYTlsVXVlhahaI1bDlz3TCzKqV1Ao2z/JC0/kw1irlVJd1Psr+vB5HX5MpD2KtV6bF2B1U6jF3UXSmvKCsvNC1fu1XR6VC0bGP3C1YgVuA1TtkKU6dHwnK6I/GkS5INYAPhQBgX3AkEOFcwDiwIB8r1hqpAKyAwruDLdYV0+qxQUhAimLovKoHF6sYMEZfuOHZhzGIOzmBcsTlvdkhNcAVeBuIEUjAWAEJVqKXD0hq+3HLBjJLzSGDgjEwVtayELg5J6yrptHReuF9xVu4tCqsUY/kBO1akfGGW14oXY6qUaoAbOTjrof4/BjQYgKQgKwEvywWvnKbHd07a21XPOvdbBOBOEBsXHAYCXIE3DBWAFXQNfNUzeOKCc7MT2gULkhXLAuCxfBaBUO8lfKOIm3xzFOcUe8Vc5n2VIyYh3xvYsmQ0LsbkbwPZtznrhjV8GSMJZHW+AbJ7PPX9PDkjxAOAMRlVa8RjP3tNnXxOeKY1uxXSZPJ0+e/ltLhRSForrzI6ryhLT0/vh10VDcCEooEEyPaQjTqEWuaCnTC01Qc4tMGcArAJRYcigW8owAMF35DAA4CFckeY2hENY8BN8xuuKPhCKGcsCBQBLCZQxGR0mRM6DBCcITLnAWBxDtkFBzECcelVIbiCcBKW1i45zw0zclPKsTqfMSUFWiB9NyndZzj9mbsh6HRxVrpCOi5wuXVC2XkuOO2eZzvU7SujRyEP4RkTqfF5V7LyQG+PkpWeDuSHou3n5BaDrgt2blXI00NTClMFnQfgMIwRhCof3BHgHcrAlwUAC1nigEO5v8y+2bA5bsjRoIQaBDLSMAYoILBYPxN4xCACAdbT6yOwqGQULjAIISCYdMNhTlg6SrlhZoOYwZyzdEg6ViHp2Lroc5UXtkfPcj/fWYZff5EH5NDknbBXiRpWSFdQ05zutCidDwYSpulQNJDAN88Nh2okK87cUHQ6LK27IOUBOAwFeEe636BD4B1y4MtCACGT0A3UswlH5/yhawALgDoSuCQILAIoSsG4p9cTg/Wyn7kZcYszdCAgSIWj1bFp1xszOaRlyKQbjlIuWJ+7WBVoMSb7Jem9N+5Y5YbjaQRMzfD2aMLhK/uHyqASamCbpuuoKg/hlaTcbkrD7fpUBPUy2JMamjBoELrO646kZc+x88F6np1yTcOXAerGC24u2AaxG4ZO8r66AjoN4CAk8C6Bd6T75R0LvgEDC7ncmZAnEDZxc+tokjs26GQtEAkwAVAggDCBseAErgaJZssMgHAuBkRARw0ELVSIOGDyVoixBeGYyRGxIuV8GZPnJ6bUuSMbttYPHisvrG+ZWHb5Kho5q6oERCkAi+YNH5o56/d56xUhD+GRa9rywgmkR+GS7VwyUdz69phVUpyuLnZvEVgcipahVQmO0DhjUl2Z5M0XAq5GxtKDcnCBUDlhzikXwLwDsC6TDrij4Bu6EAbTbpgVOmEI5X6JZIxYxYpZRBLGnMC57mIEJLk/CWISDGEgzOo6KjwXEoFACEi64VjdlziCHMwkZpA3eWCsMCRt133Z4M39nFo2xHaf4FHkcl1wTxtQpzAa0ZL82NFeU6G8wqvG66Q4UxHdZDvpPsJF7tiGsZ0HNvORgrF+L8eCQsgTAHPTXUkkDxWS5pwKHbABcJeBdbgEcTeAvnGxBDFLPfKKqIQMSSsYo0OgSMi8ckTAMlTiVo80lQKxkD8Q5EuGgBOIBALBEDAGwYCQMeOGY5LA1U6XMz0MpuuC0+fbcb7SDJtn+/OyS6PsEbLqKg+6rd7KsGQ7XtOlUXdRanQV/fCHPwzGGN761reaaYuLi9iyZQsOOOAA7Lvvvjj99NOxY8cOZ7lt27bhtNNOw+rVq3HwwQfjvPPOQxRFTXZlBan/H/kkFm3YriAvtFcnRCgG6KKSBnCZC7an2ZOZ1c52ygzJ2M6BGnJS3uyBrIfsBxwEQhZhBXAAzOcZ+DwHnwvAuhxsPgC6HGwuBJsPgfkQmO8Acx2wVV2wuY58rOomD2sa5jqyfTcAmw/B5kK5vnm5fj4XyO3Ns2QfujInHXSsfTUDiaSOy4xlbd332DpfRecufZ7zznvZ51ZF6e9H3fBzv+/quFXt73vy9tsrXwM74W9+85v43//7f+O4445zpr/tbW/DF7/4RXz+85/H2rVrcfbZZ+OVr3wlvvGNbwAA4jjGaaedhg0bNuCmm27Cgw8+iDe84Q3odDr40Ic+1OxopkZjDElXyAsPGnbWrrXu8sNw1QDUQA5cvabcDLMdnuZpMpvpbhGRe7MHqLC0Hg1KhaMtF6wH4+Bq5CsWkCzCCmwHzME6XIKyy8E6gbo9Ewc6IcAZWKimcZZ8hnk5YRLSCUcCFHDVXygC4wzEYvm8LJK8rBDSEQtI5ywAHhB4LN07J4GAM+OGI1XZbEcFnNcMejwR54dL9rzKcavdzwOOGxbWm6pdi2xVGWyjrnvVYB7U9WbBPmn54Mn7ET9KCbRQmFXj+j7Qle+RRx7BGWecgU9+8pN43OMeZ6bv3r0bn/rUp/CRj3wEL3jBC3DiiSfisssuw0033YSbb74ZAPDlL38Z3//+9/GZz3wGT3/60/HSl74UH/zgB3HxxRdjeXl5kN3xGqFynUFRMUteCLCGS6mynN5G+gItBryQ2BxOA0QPZKFDuE53JSSvk7sdwbn5gh4JywzG0XVD0A6Au0HifLshmHqNua58zCunO9+1HmqabjPXAZuXy2tnzOZDsI50w1DgN/vQlYOC6H3Ublg73mSc7eQ4A+t10sc6O/BHTo+qgZT+XPXnrr8HgzrX9HJV+ggnM/pFdrwrnSaRueFJs0dVDQThLVu24LTTTsOmTZuc6bfddht6vZ4z/eijj8YRRxyBrVu3AgC2bt2KY489FuvXrzdtNm/ejD179uCuu+7K3d7S0hL27NnjPFa2Rh2Srg7Z3HYtVZyKAYFtlrfOiTZglJO80eNFu9PkM7NAw0ApSMOEZwPu5oJtF8xD3QdYF2GpAiwbwF0FSxu+8x2gG1qQLXl0QwvICsYduV50gwTEoZWDDmRVNg8tGOtcNk+OiZsfF6ljBxkApwc/Me2guykVfHYFLthpUzEdUfX7kmy72fd0JMVePhQ9c6odjr7iiivw7W9/G9/85jcz87Zv345ut4t169Y509evX4/t27ebNjaA9Xw9L08XXnghPvCBD9Td1QnXbIakSzdbcZ0EoU5PTtcmc+ccfdELIBAj0GFnJjKjZrn7QCgkAKoVVKTBYtyugjI3/YdVzlQ7StsFaxCHCsQ5AEY3lKHoUL1mXL7mTD4jdY40LKIYEIF8DgWwzKCHxbKjvQww1dSIGVgo+xCzSIbKSbnh2Bre0v7xwaxjhPXLn6dCymkJor7nOe/HkbMOa5BrnQO2IZgHat09qemPxybyoejJF7XQT3hog3Xcf//9eMtb3oLrrrsO8/PztXdsUJ1//vk499xzzfs9e/bg8MMPH9n2vSpIgT2dFy7K96aBbMALmAppASFziwyZITGRk+G1YVxpl1O/g4S6r67oA2q5j7b7g5MP1vMNnFUoFzzlgnUldNfK/6YB3A2BTkdCNwyAIJBV0ZyBOHcrpIUAEwIIQlklHcYSxIwDvJfsO9SpFgTEHKwLQEj4sghyxK4YiCPVHSsQ4DE3x5H84EjywkCSDy4FsP06BVoTnchdLgumogK9vKEl05XQRHEukAvdcCrcbZabwMItr2aa6BGzbrvtNuzcuRPPeMYzzLQ4jnHjjTfiL//yL3HttddieXkZu3btctzwjh07sGHDBgDAhg0bcOuttzrr1dXTuk1ac3NzmJubq7OrU6Imbrj/IBvtDmGZ31+4alGVu4w7hnQVh0wk1KnShVYSuPqZrP0TsrQCnDEIEmYIRL3F9EWelBkMbCD3PaJ86XywfA2TR5W3IwTALResOxqHLHHBAc8CuKvccBCCNIxZCsD6WIQaODqKwSKrW1NagmRYWvUphnbkyg2jR+ABg+B2LlguqkFsi1X4LufCtaQ7CEl8JgBkAvpf0kbXBMTOs5wXV3KzZfngQULRw8oHDz8U7V3wOFQr3vjCF74Qd9xxB26//XbzOOmkk3DGGWeY151OB9dff71Z5u6778a2bduwsLAAAFhYWMAdd9yBnTt3mjbXXXcd1qxZg40bN7Z0WF59lXtxqeYKGm02fcFrkBfOq1ItCzXqizqQ5BtFyXWn7iXJ/mPSkGKqKMs440BBWd/xQfb5kS44CGQRVRC4AO50gE4HNN8F5ubUdPWwC7P0NLu9eu2sz95OyOX29bCYIXOKyvQPCH3f4jR8q6rsPNvz059PkfI+c/u71DQfvDJD0V6AGmyuhUdV1XLC++23H572tKc50/bZZx8ccMABZvob3/hGnHvuudh///2xZs0anHPOOVhYWMCpp54KAHjxi1+MjRs34vWvfz0uuugibN++He95z3uwZcuWGXW7/TT9bjjZWHshaR0zFaq7i9suPy/MwMERqLxwDO2BhRmVWB8FIQCznhWgiRlnZo8AaT/r13abtGwAm9ecrFsQyv5NjCvocSaHpLRC0iYP3OmAuioc3ekAYZh0UcoJR0M74TAEokgeNbd625IAugSQAAs5KOaJI+cMpPoZ6f1lPDnINIgzVQU55yV9juw2gvQPo+RzST8nD6FccWzywXJaeT5Yh6LtfPAwQ9HeBXvVVesjZn30ox8F5xynn346lpaWsHnzZnziE58w84MgwFVXXYWzzjoLCwsL2GeffXDmmWfiggsuaHtXvPqppQKtpiFpfeEq205SrAVAhZ8lfpOQtNz74ryw0EVFJC/sHEzejEAhiuBeioSqNxJqu/KGBuT8ZiKr1KnoEui4Rw4FN5Z0rA0VTHXO137WDw3gIADCUOWDGTKFWYJkXjg9+I0JUwdASPKZx2q7HOhZPww4OYTl1o8J93ymz4P1nmCKWyRsXSBnzjVILUMgSiIWRRKIc0PRBpg1QtHO4BwNQ9Fl23HlXfCkaqJzwnn62te+5ryfn5/HxRdfjIsvvrhwmSOPPBJf+tKXmm56hrSy3LAD48IbPMRJBVFqviCBgAXO8tovJYDOzwvrLjRktgN50SdmcsJCzbcLhXR7GWpipk3eJTi3stI4SyQflz0EpRkBhCfVz0EICkNZaBUqV6xBrF1wjhMmIaT71SAWBArVUJZhDMQWfJeZux9Kyb7mwNc6PkKCE1Ln2D4/9rkjcturXQNZ1dKmrZUPFhBOPrhuKDrPBadVNEqWd8ErT4IK/oZrrqOq/NjRK10T4ob1PA1ee3t2lbScF1iOJagdktaOWCj/Zm7ZZ5yYrJAWjJmwqe3m0uFqIqbmuV0bSrs66JFAWAqCnBkXTClnTJYTNmFpR4HcIQVfghwNC6GCcyjA4kC54Cj/R4Bd7gwAgpnjsn/d28dKKoyfnA/3/JgH9PmVz05o2gk9p8PR1ULRsnVsvkt5VdHms0H2bkrT64K9g55meQhPjFa2Gway4egiN0yIVTWzBC8nQLCkSjqpnM5zwzw3JC3AcvPCBrwAIiEZqF2e/sUs1HIS7RroLrAgGEhQ4bWWmTyvcsM652tC0ikAazcMyGehVsxSGwhDFaYW0gGbXLLcHuN2ttz9CPP2Vf9g0ccqjx/JeUNyfiLhnr+ifHBeKLrIBQNJ2Fl/1kQJkAUlIE6+R8VAzoSjp9IFN9uCl6upC0d7takxgXhC3LC5kA3ohnWeWLphoYq6XDcswasv8hoAzISkY8g/Cg2SWIE3JlnMLExbOS0NGQ1mA3Fi2VujJbHsrGywWkA2fYItAFMYZpZjdi5YCBDn8jza67O3k/lwAJs1et/J+XHCkIkOQJ4Pu42eps+jXnVMhJjUNO2M7c/DccWuC9ZTqrrgdP/iZN7k54J9GHo80t/tpuuoqlpdlLxmWLW7LJW7B6TcQ253ogIHotvJC2VsXrv9Q2OT+7PdkO2Q5DzXTcWIzQU+JiHDoiBECgwEQiQIsVAhUyRwMY6YdF6YIVYOOLJCtjExxMQRCw59WzQiQMQMsB1mUSfZzFiPFkDVM4WhfB+EycOenmpfun75AZgrB0l7qn6cJPsfCy6PSx2jIHnc5r06JxG55yxWoejYnNfEBUfa+ZL6PAxO44wLNs63oguuWxFdxwVX6Rfsi7G8qsg74YnT7Iel7fY6D1y1UtoNUQNkqqKlA9bP0pH3ANbJuOHIvCPl1mRYWrthYomz4wQECiQxJSFp856ASN1dKFZQCm0gCw4Rc5AQMiocA1wQKLLu+asGzGA6bGz/jNYA1W7W7pqUHrBDfxycA8Jqk/nYCLpampykrdwvCIKIEycsYv2DIskPCxu+lIDXjg7EFow1iAl2aFq64JhcFxxZyLVdsFBgls9xCsoxdEV0WS5Yf8dsJ2xXUtugnvwwtHfBw5APR3th1sPSuVBG7ISg7SItAJl+w3ooS0HqhgJIgG6HpjnyK6UjMDAwxCT3JYa8MT0jBk4EJgCmqqljdaP62DzkLfgiYgrQZIBkHsJ+cMSCIYhVbjhOgMdSEEwqmoT73JaEBXr9iIQDYIqh9tPdf/2IBE8dL8wPkOT8wH0oFxwJMuFoGX1wXXBk4zfjglPlWxZEhQXMsn7BdYux8kLO+WHosqhRdr5s5MPQkygd0Wm6jqry4eiJVZM/lAq5qqL1jzgsnedI0uspCkuTCj8KyoYnbackc4k6DG2HPIXxUDI8TQYWMVm5S5W/1K97AuiJBDQ9YogEQ48YeoJbjwBRHEh4RRwiZoh7DBQBFAGIFfgiIYumDBSVDdWOtfBzKRFZy9ngNevVFjVOAByT2be4x+T+RhLAURygJwL0BEekj9M67uTcMPQEcs+bnQuOFYyd8+9gViBS7la7YIJAjB7S6Qcdhtbfm35haOOE7Rxywfc0fT6Lw9Aome4B7FUs74QnWtPiiPPD0sYRD1gtDaRGylKhaLkONywtC6c6JhwdQ96wIAlLJ23t6xCX1hl6TCkOkiN0EcBJOuCeIDmIhUh6FmkYc8j+xREBIUkgBYIjZDq3zBDFHEEUIIgEeCwgegysR+qGCQLUi8GiALQcgXVCCcYoBosiUKcDxBEgQhNCNlANVFW0XR2t55nXCXhZFEnAq/XTcgSo7WNZgCKC6BFEj0HEQBRxRFGAKObGAUf6BwYl4XcJXhe+8oeKPC89QSkQpx/yZ1MEmbOPECFmEsARixR488PQMfUyYeiiPsHpMHT6uzbuPLAH8GRI10A0XUdVeQhPvGYfxDoMbeeHnYtZqlqaSDhh6XR+2A5LSxh3TFhaA5kTN2FpQAIX4PJWfTlh6QgEzmTukxsYyzaBkEceMBniDhlDjzgCQQjiQN2LlxBGHPFSAB7E4MsE6hAoFEAowDox0BVALwKiUMIyiiWAowAsiEC6WxLjYEIGbyWAYeDMNISjGIgiC7xRss4oltuJBbAcg5YFqCdAywRali44XgoQRxxRzBHFAZbjQMGXG/AuxRK8PWLoEdT0BL4yh14chk4DWMcpYhYjRg8Ri5Jp6BmPLMGbnwfOu9uSXQ09aB7YA3jlKN3ff9B1VJWH8FTIg7hffhgkw5CcATGAgDqIWQ8BOsYVy3YhGARiFjnXJaYcMQNkUZM+Fi4rijhj6AlZwNWDKjoWOm+sut0K6bxDNeYFAyFgHEEcyPsKcwHOCXxJ3Vc4JLBQgHUEKIzkWM4BB+tEqm9wD2w5AAUhEEZgPe7cvpCp18R5Al/dHziKwHo9A1+23AN6PQnfpWXpghd7oKVIuuBlAbFEiJcY4iWOXo+j1wuwHCUAXorVw3LDMiSdhKEj5YJjkTjgnpDV5xLQApEgRCQQk4Rv4oBjxCyCnQeO0DMAjtFLgItYwjgF4KI8sAew16TKQ3hq5EHcD8SCeiBwBH1BnLO+5ETIWaRDvBLEXNgLMKeXjwSwDmdLYANcjrkcB2pAKkIQieSuRMsiGRaSx5KrCsQIA2s0q1QFtH4dqps8iNTNGZQDlsBdBhaXgaUlYGlZPhaXgcUesCQBTIsxxN4Y8V5CvJchWmYKwCGWeiGWlQtejAMsC45lBeNlwbAsGJaEdMHLQj56Qqa4lwQpOLsAlgVtQj4g0EPsADiCdMHydRbA8r0HcHV5ANeVHn616TqqykN4quRBXMURx+g1B7GAlWvVoEvFv6EdbzItQbE8JnsUSD1udXJ3pRjgBMZkPJtbw0cyIAk9W6NaSacuQLEKW6fHjo4jsCh2AMyWlhL47l0GLfVAj/VAj0UQe2OIxwTivUBvkSFaDLC8FGJJueClKMRiFGApDrAkOJYUfBcVgJcFkrC0jG47AF4WLoB7wgPYTPYAnkj5nLBXH00TiAFkuiJVA7GR3pXUNCIBRhp0gXTAun0KxIy4Keiy1yEv3iEEI2f9BDIgJpaEpgm6B5ELYoL+5SunkTrufpoH1H17hfoVETlL2Z8CU5XSJATQjcE6HSCMZXjatBGJC17uSfhq97t3CXh0EbR3CfTIMujRHsSjEcQjEsDRXo5oMcDiYgeLy9IF7406WIwC7I0DLAqOxVg9LAAvxsw4YBvAS3F+CDoiCV87BN1jPScHrAFsIEz2s5sDjinKwBeAA+AqVdDVAOwC0QPYqw15CE+lHF9UUwkci9deAmIgBWN3fdl+xApgalmnKlpf8NKgtfv9Ipmm55ttpBxtTBHk6NAcXDlf2T+YAwSJaaY3JRAgdHgqSCAEQf9ZCDWIhM4REzEgABDrwgt5JMnYGsnQjvLIuRy0I2DGXMvpCt7EZAidInRIIBQWiNUIVszO8woBFsWgeA5Y7gFhYPLCsAuy4hhs0QpBP7YE7F0C7V0GPbosHbACcPQY0HuMY3lviKXFDpZ6Afb2OliKQjwWyTD0Yhxgr4LvsmBYjBMISyeswtGxhq4E8LICcSQIPRLokRwHa9k44MgpwoodPPcgSL4W6DndkAT1+rpf/T1Ju1/92RfB1542DPcr198PkB6+45QvzPKqoeG5Yn2hGMQV28DNm2ccL1Doim0HbIenM9eYgvA0qAeGAPL2Ah2A9YzLJiYQoKP2TA0KQQKCdaD7nQp0JJAJskRIcBDjEAR0g8T9xnqULSRdb0ltNSKmQCBH8tJ/3JHQo2lFMvQlGCAiQAgEsQCiHrgaOAORTLKynqpunuvKgqtOR95pKeOEY+WEZQEW9i6BHluWYei9PdAjEsDxo4ToUYZokWNpb4ilpRB7lxV8e6GBb+KAGfYKrsDLsBQDi7EsxJIQTkLQPSEBHJOGbwJgGYbu5Yafdeg5HX4WCrw+/NxPHsBtSN+cpOk6qspDeOo1fFcs155af0VXDGgYu+FpPb2KK3ZDxcoFp1wxA8+Ep7UrlsvJ92BJeFrebUmBl+mLuwxPCxKIEUKAEBIHUYCYETqMQ44ZzRETIRQMpIex5Ayxeh1xhjggEHHVJYchDvJG1ZJDQsYRx1wvQqcXoxMJBFEE3hOygGtZdSla7IGt7koAd+WNHJgu3tJ9guPYAJh0AdZjPdDeCPRoJPO/jxJ6j3H0HguwtKhCz8sd7LXhawF4b8yUC5b5X+2A+4WfeyQroLW/7SHq636Lws/T7H49fL3K5CE8M5q0EHW1XLG9y1VcsREDiNz7ERfliuUs6YoJMQLWke3AjSvW4xLnueIYAQQIAXEIBIhipkbX4uhwCd25IBnKsseBHpdOOA6AHqm+tALoBe7IWvNxjEhwLKtBMeaiCKIXIVwSCJdi8EUBvk8MvhQDc7KwCnMdsG4IhBz6loRmJKxIyO5HSz3QYgQsxRCPRRCPxhB7pfvtPRZieSmo7X4X4yT03BOJ+12KVchZh52FHEpDu18J3/7FV3b/33Tx1bBzv0Xwzc7Lzveh59nSqO+i5CE8cxoejOuFqMtcsTs/A2PtcvNcsXpv54WJYjAKJHhTuWJ9YdauWFdbM8YNjLW71jAIWAchIsQUImAdxAgQUYwOOohJoINADrvICDFxdJSz7XCGiANdDvQ4M31mu5xhLgAizrEkCEuCYYlz0+VnWXDMq/64870I88sR5pZ66C7G6KwWCPZG4Kti8FUcbD4A6y6BOgFY1+rKpG/AsBwDPTUAx94YYlEY+EaLAZb2hlheDrG4HGIxCjPuV+d+ZcGVqoKO4eR/I0EKxBK8DoArhp7rVj4LNV1+psLD12to8jlhr5Y0Bhg7hVRZ2AIDwhjKHSv3WhXG6SExBQvAiCNgoQNjYnI5DeBiGEcIKEQPAToUokccHRagQxyBYOgwjm7A0OMMHa76yyoAL5vXDMuCsMgJi4JhPuZYFQSYD2IsxgHmgxCrogjzyyHmOhHm9kbozsUI52OEq2LwuRh8noF1ORAwFY6Wp5HU7YpoWUAsEuK9QLzEEC0mznepF2JvT1Y9N4GvLMLSIWe38GpSnO8gYed+8zLf8/QsD1+vmvIQnnkNH8Zy7f1yxvbFx618LsoZ26u03bEJJWsHSwKMuJNj1jDW67dzxoSkPScOwSJwBWaZweyAI0DM1GsWIECIAB2E6nmZAnTRQY8ChMTRQYAek6425AwdztHlDB1OWIoZugFDlwPdGFgMGLqcoRsT5gNgLuaY5xzzQYBVgcB81MF8EGM+iDC3GGO+E6HbidCdi9DpCARzAkFHgHcI4Ek0GgIQPWaGnez1OJaXQiz3Qiz2QixFARZj7Xy5BG/Msaj6/y7GUINwwAGwAa4KQZd1OVpGr3bFs6CoUsEVkJ/z9QVXXm3KF2Z5DUl5nW+rygVo/toLgFzqjuX6XCBbi+bscpE7NvA1fY6Tm0M4oWqyoGy5Y8ak8xXqNUOAAB1EWELAOmDgCNBR7riDACF66CBEgIAUmilEQBwdCtARHItMuuMOlxDucAniULnjrno/FzDMc4Yu55gPCHOcMB8IzHMN4xjzYYzuYzG6YYRuGCMMBIJQIAjkuRPEQOpuTVEsc8zLkQTvUk6x1ZJyvbrb0bBcb7++vmkHbINXfgfKXa8vtvJqWz4n7DUCTS+QTXW0Wp8GsBOuhi7ygoKtsOCbcsgOkCPzmoNDsA4Y44goQMASIC9D5pMDdMDV65CkQ+5QByEFCChQqOYIGUcn5gbIoQpXd5Uj7nCdN5ZQng8IXR5IGHOBuUA+d7nAXBCjywU6XKATCAQsOV8xcfRiWfAlh5eUQ00uCo6lmBnHaw+yYcM3AS4yhVZ5o1zZg2zoOx31A2+TKmfveL1mUR7CK155HW+rKn3ByUI5feEyUE5f6JyQtGriLJq+1aE1ApeJx8KanoIx47JrEqJUmLoYyowtm9faDetljDu2ngN0ELIOAtKha+WSKUAnDhFA5ZAZR1DqklXomjPMBRxdTtIxc+mSQ0aYCwQCJl/rOrRIFYgtxfJOR0vCHlRjMt1uk65FHrpew5APR3uNWXkXhqpfqLwLkgvmvAubvINRzrLpNLMF3yyU5bacQUCs7RPBuG+dD9ZOGUgALJe1irsUlCPsVe8DcBbKSmsWpCAtQ9iMqdC1eh3CBXNHdBEol9xBgA4LHCiHXDvkxDFrt9zlQIcDHU7o6KGm1ZknUt2h1B2N7Jsq2KNZLacqmiV0U9lbtoyIVRtMI6+iWed5B61o9uFlr3HJh6O9JlBF36gqcC66cFn9iAvWz3IvmMLA1L3opp20dsTWtvToW1ADdpgN5QC5ApzlNG7gLB1x2B/Oyj07cCYF5ziBc8BUCNsJY8tHwHQ34eT2EYJkv115o4T87kP24BkGtohlEVoRbCkftk0qmH0u18tLykPYq4GqXHCKQN3/QkcpF53M0H1/7XWnQtmZZS1HDLuLFNRhWMM/WoCVL9z36fmJYw7c905oOwGz7aI564AzOdY1Ny47gM4oB+ggFCEC0UFAgarOlqAOwBFa+63rjpObI6RGp1KglfnbOFOpLMTgQ0P6/rlesyLfT9hrxtTkwlV+wSxdc+ZeYnFqfsEfCePZRVNAd29Qkcy3p1cBeDo3bV7XBLjWeMdYrglSa32ZyR6kXitIHsJeE6wmF8y4dK4ebiQ7o3w5QPO9eIhPrdyRxYCcm19k1+eCPuvS5fot0PtiJS+vVkRo/i2ss7yHsNcEq0lIaLyQdO9dnON+KxaEJW3yC8IYAnDGnVv9+QKpMnnIe5WL0Dwc7aujvSZIkwnSopCyPS8dUtbT6oK0Skg5r7JaZ36dymrqOjlhDgZO8tYUAoSYqZwws4quVIWzzhS3dbvAygAHKueEWcm8ZF35n7kHuNc0ykPYq4EmE7DA4E5Vt+kHWLtd3epoPfpWuutSQKEc7CNdHc25qohOBvrQFdIBT6qjY0GICWaISV0Zbd/X1721oHVzBdZDzJuP79zKSFesj9POgFR3S7NU6LT7f++KQV3l++5BPe0SaPZTTa+jqjyEvSpo5cK2UVckpLoiUdbNOv2EudsVqZvpJwzrmSSEGZnOWbG8f4MaMQumr7DdT3i5rOsS5XRdsvsJs2r9hAfqusQSOMsfFUKOmJYTBncvcUnfcQfaOYO/AEXd3tIuuug7W+XSWvS34uE8LSJioKbhaF8d7TW4phe4cv31q5KLR8xyQ8hcDWOZO2KWgm6eu03ecRe4qRGzQp7c9lADdz5A7ohZHS7QUa+1ImJqoI7siFnJMJXyFoty9CzZrzg9Ypa8H/DqZMQs6jNiFhviMJUsW4HNNNRTAE6+B7o9T7lp5H+9SeR+L7Ph7bzvaFXPk7vhist6zbI8hFe8PHTrQJdDFkgF6k5Lpi+vAm+g7q6U9PRVY0fz/LGj9XCV8kYOUK/V3ZUqjB3NGEHfvoKIVRo7Orlbkh7KklnDV/LisaMpGTt6mXLulqTzzkzdLYm1dLckluo6lXbElNwdS39X9HpYyhFnu5+J7HdRL5v67ubnnNPf4zqByPTfhofyJMiHo71GoOkF77ByuZXGh67jdlHN7SbwJcxzfQclfRclYe6iNBfEmAuzd1FinMAZ1b6L0mIsXfJiBsYs5ZJ5jksm9Kir8ssRIspxycwaV5opd8zqjSsNhEn4mrkV3vpZQjq5ixYs+CZhcPv7lbx2h0EFzKXT/g5aTtr+XhcXgeWsr7LsvxsP5HHJD1vpNSRNL3jl+ofneHX3H93dhyuX28/xhgjVHYZlbjdk0vXq+wnr8Z41hO2crg4zz3F51yQJXCHvJxyI5H7CYdH9hKnP/YR5rfsJSyhLEGun3FPvNYTltEDdTzhQ7jiUhV4ayOgor5y6n7ByzQE6cpQuJh0yZ2HikFmOQ9bTiCeOWAFZ30FLA9gGMgBz20s44LW/d/Z0D2Sv8chDeOY1PPgWghdot4uQtb66XYTsZfoVVdl3QyqrYE673qK7IvVzve69gwVWh5G5d/CqTg9znQjdboS5+RjhfIxgjhCsAliXgc9zIGBgPLmDAwlZmSUWBWg5QrwXiJd6iBYDLC0GWF4OsdQLsbfXwWIknfFjUZi9x3CQusdwwLAUM8sdazBz9EigS4Eq8AoQo6NyyB09cKabQ2apsakhoRpTD9xAV3al0q9lG7u4S8M3lo5XuWXtfjWQdW0Msxmmb+LlQFc438f0vMx3OpVnrgfkQQKdev0exqOQv4uSV0uaFPiWuV53/qBjNstp9Qe6qN19CB3TP1fDN+/mCsktCV34znNS+V4J4VVBEm6eD2Ks6kSYDyPMdxV8V0UI5wXCfQh8FQOfD8BWBWBdDnQCsG4AcOuzEARajsF7MWhZINgbQywKdPZG6DwaI1qMsLQ3xPxyhMXlEItRiPlenISq4wB7OceigvEyl+HqpVgegwZzJGQXKdkViqn8MUePJJQD4nIMa+qoblABIooRIETMOojQMz94dKU1Y4GBManPSbtje8ARxrjjjnXOWMMYlvut4o7zgKu/U33dcU6ltf7b8DCeXvlwtFdDrWz46nbDdL7pfK++B7B2vh3uFlrNB7K6eRUXufne1Z0Ic2GEVd0e5uYidOdidFbHCXz3CcHmA7BVIdh8CMx1wLqhvo1SEo8WBBZJF8yWeqDFCGxvBP5YBL5KINwbI3xUoPtYjO5ShLmlEN2gg/koxGO9EF0u0OUB5gTHHJch6lBwdLmsru4IIGQSxqHq/tQRDEsxIWCEQDAExBAIpvLGMUJw9ChAgLgQxsSke42pl4UxBDi444xBcMDbD8YAAFK5ZP0dqQ1jZOZ7GHu1IQ/hmdH05nzrFFsl04Zf5ZzO+erBM+ycb8gSAM9xhq7jfiV8pevNwle731VdGXqem4/QWR2js1qAr2II9g3A9gklfFd3JHznO8BcF+iGQJB1wohjsOUIWFoGFntgq3ugVT0J40cjsI5AMBcheEwgfEwgDAS6vRghF+j0Qll1HQcImDpeAeyN5cAgEsISxssCCGOGJUYImHTIAQcCIbtgRUIiNCYBPR5YjzgYIpl3p+TziRGZz0ve2Ul+hrofsh5gQ0CAwJMwtQJv8h3lmWkOjElPEuaHS/LDT80rgLHb1YmjSpharpb1GcnLw3jS5MPRXjU1vfCV669fcGVeVyi46jc0ZOa+vn1Cz7KPb37eN2Qq7Gz17a3qfu3Qc7CPcr/7hmCrOsCqLtjqLrBqTsJ3rgt0OgDnoDBIzmUUA3EERDGw1AGb60kYd5bBusugLgfrRBDdCCwU4AGBB4RgSSDg8tGJQgQ96Ww7LMCiIASMI4wZ9jKOgBFCwcBj+c0LuAQwY0AkmBo8hIODwAiIiYERA6PYgnFP3geZAvUjKUCEHjgCOXKXClGDyRGuhNU/mBBnYYykgAsAQJCO2r6Jh3LP5jWs0S+tIq/8UHR6OjBIztjDeDrkw9FeNTQpoefs+ibJ/dateA4QQI5plQA45Awhk/ANmc7/wlQ9O/lflffVBVh27nd1GEv4dnqY68SYm++huypCZ7VAuBrg+3IJ4NUh2D5dsFUKvqvnJHznuqD5OemCwwDgXD6EAAkhAdzrgXU6QGcZ6IZgQSBD1yp8zUMGhBFYIMDCCOwx2dWJMSDgsu9xGMmuTzwOwKF/DAmEjKn30h0vK+PJGcMyCEx9cxgDuODoKUfMwdBTIAYgnXDKFcfome9BzHoAAQIcYD0AncQVUw9CO1ubP3ndbpk1kIfliu3q6rQr1jB2gVvRFevv80Ah6oL1VZZl972mRh7CU6lpcb/J/LruV79vkvvt19eXgRsAd9SQkvZwknldjvLCz0m3o2Rkq3ld9awc8Cpd9RzK0PN8N8L8fA+dVTL8HKyyALxPB2zfLtiqOWCfeQnheQXguTmg25FOOAxB3DqvUQQIAfR6oE4PLFSgVsBmXOeQ9RmOEEKAMQHGInBGYKyjPjUyn56EKoHH8geO/Gx0JDz5rnAw2U71/ZGbYugJAQiJ30jZTxWAxrKGp3rmkK5YfcDyu0AAYwKxadMxrjimKANiB5QpOGv4DuaKK+aKre+2D1FPn7wT9uqjaQHw+MLPg1Q+awCnR7lKxnRO+vyW5X/rADicjxGuqgDg1XMSvnMKxp2uDEMHoXTBStTpAHEEFoZAGEhAcy67MZnzn/6EIsCMVgXM53/6BZ+7pKd2v8ssmQYwcAH1WgKMEZdcoeR71gUQETfh6Rg9F5r20JUqPB2jZ+AaoH+uOF2kRSnQFrliyrjfmrlioNQV97/rk3fF45DPCXuVyAN4kgAs72aUBXBXjXw1p4aZnFch6G4YY64TozsXIZyP0ZmX/X75ag6+KpAh6NUdCeBVXWC+A8x3HQDT3LxxwQgD97MhAUQhKIgkfPVkAEyQqqAWYEJWUoMIXBAggEBVVwMxumoAeyIGodai2CmnOWM/you9vHC501xXJkPmMnSOLB8KQst6gI+Y9RBQBzGAgMEBMSf0DU9L0AYZONcHMdBmeNqD2MtDeGrkATwqAIfMBbDOAWsAhzwJQXc50GESwF0N4ECo7j4yF9xVDz34RqcjEHYJwSpCsIpJAM8HYHOy+xHmOib8LB+JA0anA3S7qjJaOl3iXIFVuJ+XEMmzecgKat2dCZGQjlXF4EgAFAmIOAIR5HCYxNRsebNzoT5njQYiBmFvlgBhgVgQJCkViMmEalNfqxGC2M4TexB72aIWwtHZMcqL1f/qbOmSSy7BcccdhzVr1mDNmjVYWFjA1VdfbeYvLi5iy5YtOOCAA7Dvvvvi9NNPx44dO5x1bNu2DaeddhpWr16Ngw8+GOeddx6iKKqzGytQHsB1AGzepwAsuybJfzaAQ3BZCV2QA9b37u1whkABOGTaCUvwdph6cKEcsHx0uJAQDmN0OjHCUA07OUfgc0wOvNHlEsDzqv9vNwQ6IdDpgLodldcNZbg5VF2TwhCkHgis12GY5Is7HRmy7qr1dDpyvXNduZ35jtxul4N1OViHyVG55gQ6HYFOR+53N4jlcaljmtM3kFDHHKrz4J4XOOdNnkegw3WRmzrf+tyrMjlGyWdkKtetz9F8F3S+33w3AvV9SN6735tsfUHyfcuvSUh/X6t+3/P+Tuz1ZSZX+vuudanObMGrukRLj6qq9ckedthh+PCHP4zbbrsN3/rWt/CCF7wAv/mbv4m77roLAPC2t70NX/jCF/D5z38eN9xwAx544AG88pWvNMvHcYzTTjsNy8vLuOmmm/DpT38al19+Od773vfW2Y0VJg9glrPdNIAlfJMBOJi6iMtKaHVBt6qgk4u87IYUKPcbMAkMea9eORBHwOUIWAFzIRMyQodBgUaGpfXtBTssAXAYJDdcCOZiBB0C6wKsy8A6XIE4kB1tOyrMbIqqVH5XA1ZVRBPnch6TbhhMvtd5YLm8BnOyHvPohHJ73UABmIPPM7AuEHQIQUfubxgIhEEC4g4T6laKZMDbUedBTk9+pAQMqfOnzyEz5zpg8vyH5vMIEVBgqtb1DycNYvfzDQxQbRBnv+MexB7Ek6ta4eiXv/zlzvs/+ZM/wSWXXIKbb74Zhx12GD71qU/hc5/7HF7wghcAAC677DIcc8wxuPnmm3Hqqafiy1/+Mr7//e/jK1/5CtavX4+nP/3p+OAHP4h3vetdeP/7349ut9vekc2EZh/AuculLpjJtMBaR34VNFcgVmg1F/C8bkh5AHYfsJxcAt/AAq+GUch031rphkP1CDhJkIXSBfMA4B0C7zCwkEkX2pFdiOQoWEk1M4VhMiIWZwlsNWgB91nnXDkHYjXNWp7CUFZM62rpbgjqRWCdANQVYD0B3mEgdXOIMBaIwxixYIhiUsfE0CGGmBhiThAkwUuQfYJj69zIHDJAnIGIIBggGAMxGTpO8s0cggih9X0gCAgECE1IuQdCoKbLKmoByKEvrQprPZ60HYp2b2uYnWZeY5BiLf3996HpWZGuh2i6jqoa+KdVHMe44oor8Oijj2JhYQG33XYber0eNm3aZNocffTROOKII7B161YAwNatW3Hsscdi/fr1ps3mzZuxZ88e46a9tKYFwPnT0wBOt+nXDcleT14Y2iyr+gEbADOugpvWyFik2hlfpX0UN36KQ4FXOTfthDVwk2kJfM17Rgh5AuDkIV1wwAmBGhwj6BBYCLAQ8gYMIZP9d/XoV5wlBVcavBq+dcSs86/X4QBdPdR2mbKuet+CjhrII9Q/JGJ5PNrpq3C0Pu5AHYZ2x3nnzZxPLgf5CFjiZ/UPIvPZqHQBU5+f/nGl+3jrz1kOxsKt705xWDr9PUxHXdLfy7zzWeyIUTLdO+Jp0qjD0bULs+644w4sLCxgcXER++67L6688kps3LgRt99+O7rdLtatW+e0X79+PbZv3w4A2L59uwNgPV/PK9LS0hKWlpbM+z179tTd7SnTNAE4P/xXaZoD2yAzr18eGIC5ADvLpHBrcoxk5xoVgJnsHlMUhg64BWLzUNBR7jeZZj24/ZAgYwEBnMACJODjOQ8g63Tbkg1kA31u9oc4s/bT3n8uYazccETMOl75OmRAzJg1TZ4vweR5FLqKWgCCEUi7YvWDSLth1eEIgjg4IzVqlvzshPoumb6+FKsfYkBMsZner1Arcb/JyFpZF5u4437T0g7VO2KvqqoN4ac85Sm4/fbbsXv3bvz93/89zjzzTNxwww3D2DejCy+8EB/4wAeGuo3J0ZgA3HB7ua6gQR64SEV54KIwdJ4LlvlHpv6X0GUMYIxJswj54JAQ4RaA9Xz9XnI0gS+3HoxJgPFAjUjFAV4AYGZcKk9ADCQVzqp7kXkWInsdtufZ7TMfWxLaZlyC1+yH2i8eyP1lnMADgSCWI2nZx2cfc8hkKJrrc2edMx2ijmGdW3W+GSMEkN2eOGSXqFBBjqtngUDd5lB+T/LC0vJ7JRK+MOQfO9zv6iBh6fS68sLSTVUNxM224EGcr1EP1lH7Z3a328WTnvQknHjiibjwwgtx/PHH42Mf+xg2bNiA5eVl7Nq1y2m/Y8cObNiwAQCwYcOGTLW0fq/b5On888/H7t27zeP++++vu9te/TQBeWBnWyVhaDlfhqHlnrjhSQ1jOc91wYEBcuKCOZgzHKPtgm0Qcxu8yq1pEIUpMAVMqCEgYR48IMCOLKvRqzJK/wXrrkXWsxkdK46Shz091b50/fIDMPBnHHI/GTn7H3Ahj8uBrwVjkHHE6XPGARPqlz9k5LkN1fnnqkjLqn12Pjdufa72Z6w/d3k6kx90+rNvKyw96kKtamo5SuIFQNUytPCoqsafohACS0tLOPHEE9HpdHD99debeXfffTe2bduGhYUFAMDCwgLuuOMO7Ny507S57rrrsGbNGmzcuLFwG3Nzc6ZblH7MpqYpDJ23/mpfp6IwdLo7krs3LpD1suZiqcPTVmaxKBdsu2COxAXr/KV2wQwyf6mdr3RwZHiVTEueOXPbMEbKBZN9MMUftdO3l4ybNf2Ao0j185XAZVEEZr2WYI5lOz0wh3HI5K4/98MBbN7ofZcuWLOazLHax28iBfocWOdNn0f5oybJDTMVhXA+j5ykgs4NJ+mFwPncNbrN9wj51dLpbkvJYbvfwyqq8n33+WGvfqoVjj7//PPx0pe+FEcccQQefvhhfO5zn8PXvvY1XHvttVi7di3e+MY34txzz8X++++PNWvW4JxzzsHCwgJOPfVUAMCLX/xibNy4Ea9//etx0UUXYfv27XjPe96DLVu2YG5ubigHOD1aGWHovOWKQtBp6JrpA7pgZoOYSfelAaBdMHdA4kImtECSQFfeaE9CRz3UdPeU6fBu/hklQWDkghf6hgycAyzK5od1GNS6WRAESQBrWEfqrkpRnApnyxG0qCBuVrSv+geGPlb7+DljzvkJudwFzgBG7nmV05iKKKgxpzWAianBMFVA2skNC8gQtFDzAWICnIAYApxxeWip/KwOURPFzvHo75YPS3tp6YFpmq6jqmpBeOfOnXjDG96ABx98EGvXrsVxxx2Ha6+9Fi960YsAAB/96EfBOcfpp5+OpaUlbN68GZ/4xCfM8kEQ4KqrrsJZZ52FhYUF7LPPPjjzzDNxwQUX1NkNrzY1IS5Yz8uDrpxX3QUDKHTBsh1zHw4cFJhVeDpTL2W1Td6Tcck2fO0cakYE6KEjTRJKP2IJTRbEst+vCOR9gqMouVza3ZHsafqh2ut1yffJ68w29X4QXH5wN8dtJlvHlb1pgzo/5J4/eT6TmzzYEQMJXvnZEJjsYaVep3PDMdP54gAxrHGgwZ0iq7LcsC7gsoun+hVp5Sm/SCvVpkGRVjW1B32v+uHkonVUVS0If+pTnyqdPz8/j4svvhgXX3xxYZsjjzwSX/rSl+psdgVoZbvgPBXlggEYF1y4fuOBsy5YnwtmlocpyLKPkKl5uq0pKEKSD9ajJWcCjnnQFQykhoV0rpdpCGqXGsXydoORKpzS+ytEcvckXcylpZw0s8PWkcwXM/UsHbHaTiSyPwKsVcl9zX53nB8a1vEzKFeMJLysH+Zck3u+7AItkNVW/UAy5VmpSmlt/5l6LaHrVkqbbYBnKqUzVdC2A55KN9xke94Nj1N+7OiVrAlxwf0qovU2nCIaJ+ycnZanolB0sg3355AdjpbvKVNHZd+2oOgInNCW0IAjsEiBL7JCzyFXIWgmn3XFtC097nGRE9Zh7SgCer0kHK1dsHHDIoGxupFD3g8FPWZ09nymz4N1Lk1InmXOI5BzrnNC0m7gOL3tQNVHx+DKEetKaYKEcdrp5ikTjp5aN+zVlvytDFecVpYLdppXrIhmLBW2tgFeMxQt27LUc34+GMg+69d2m7Q0sMiCFwmWXF8FGWeMiICOvJkCBULeVIFFaiOROkYAQkjcCx3j1RC2AU8JWAVJB7ysINzrAcvKCS9HQCRA6gYOJAgUkdwfIddD5sdCsn49CpA+pkxP2VQo2pw3ym9j54V1+DlWOWL9vm5IWp6vwOxdv37D6dxxHnS9G/YapjyEV6pacsG1N5sGb81tVAlFF247lReW6yvZ11p7lo4yJyAmweTwjcQgYgIjgCICC3UOWLnRMAYtqz7Dy6mtkwATBApja0StnGPVTjhSOeDYAq8GcRyDlnW4WsjtCwJiBWMVHZfD96kfECkA11UaxnnzY8qCuEg6DG2/1iFpuT7uhKT7KQ3gqi64jrwbng6lM0aDrqOqPITHqul3wW0VZFVZ3u0Dmg1FJ/Py88HJ9tPrzsJ40J8fQoFLvkYCNO2EBZOgC6yQdETSBS+rSujlnLuKCQJCne+V4WrKCUczuytSbIWhNYB7kQKxAJZjUC+Wblw5YYoAiuR+ihjWD4gkxKZvcVhXeUuYrtJ5XZetvDAQy8/TqpKWbeQ8OyQd2464Ykh6eAVa3g1Pm/T3vek6qspD2KsdtRiK1koPUWm3zVNZPjh/H1LLmwrf/oBJion1cIwKwGBmvg5HG0cZM4hIDltJIQERQFwAXJ0+zoDlKJVdhdpQqCqilRPm6idWujBLt9ddkuI4CUMrAFMvCUkjEqDlGNQToGUCxRLEQoGYCBAxd44DUMetKpqFed//4uMWZTHE1gIaxrmwtsCbTAsy0wANxNh5j1SVtPmeDT0k7eVVLg/hsalNl1p305MRii5sh+JCraJ8sBanPgVefQBbgb/SEVrtDGwViOSN7xMAxzEH5wQeE1jMwGMZjhbLAOcEBAQsS8Ba6cpkE7pSJFROOdI3e0gdq7AgrAuvIpEUYtkAVi6YloV05lHigilmEOoRWwC2j8v8AMm540y/ohRuVUMXiTFWHr4mjpjJ4+V98sJmGatKul8hldyHlRiS9m5Y/rBudn2mGst7CE+lxheKdrdRPxRdZXrhXlSGeL4jdkLSuvtRDnUFEQTLBwspOgpVDywosW5Cud+YGGLBETNCLAQCwSCEhBpPuWGKAHAhx3Be1gBR21IrZaEOLat7AfPYqhhLVUfrHdFuWOV9KYpVCNoFMCKSLjhyXbABsdr3WKhjEhyxgbJ7fuyLlx2Sd86jOmdFjtkOTRflhfMAm6emeeF+07P71b9KuqmGH5L28uFor4lWWVV0ZnIOpAfJB5ftR+KGU32JB/wRQpYFlZBN5gmSHV2FcguJ603C0QJJXtgJSQvliG03vEwg1eeWuHA8iKyIJiDkqoqaJTC2+wenq6MBq4uSgq8gGYrW4WcN4GWRhKGXCbScdcEkUiF1co8ztl7rzZv7BFsOWY8D0lQyR2y/58YFp4uz6qgsL5xMK4DsCKukvWZPHsJj0WyGotP54LrLlbepl+8FXDAXQZmIjC0WJG/Bl5YgQPNEwBrfgiWg1rf202HpmDhiIsSCEAj5zAQZNxz3IPvN9AAOkrlh6NSlrprmYCJIYBwLIJJ3PkpudZgDYaGGo4ytfsAKvjIHbDngZQlh0QNEDMQ95rjgKOYQxgHLRzofbA+0ZcYd0efX2q3sec3OSE8a9MeUFlN3XCpvU8/BZvLCdffJh6QnWr462quPRh2Kbkf9Rskqv31h2uXWB7IAOUvZjheQoAhSp82GL2ABRcHXLs7SDlGGouUNCmLBEDP5nsVcDkbBCawHmf9dti92svKZCQITXIahuwrIEQdT9/wFZ6BQA7igixJgDcBBsj9wrMC7HMvQs+WARQ/yscwUiDniWD0EV6Fo+ZBsVw5Y57x1jthyu2nnq89dJjzd51ovnMFQuKl8LpNdIQ2Uh5Pz5hWNnjUp8iHp4coP1uE1FaqaD661TpaFa5PtCDXoYfKecvFtA9keQTJIhaU1lLXjE0y6wUgAQUCIiSEgdcN74vKmAsoNM0YIBEMcqWgB195Rb0E6YrkTQtpsASBkYCFJF6z687D0gNbOQSvw2gcSKRCrZ+qpQqwUgOOIQfQ4oogjjribC6bkESkA26FonQ/W43045yznfNsXKVNxnckfU+r94FBJV0wD8vuWvqFDU40iL+w1W/IQHrkmz6WWq88oWS3LHWO6vuPtJzv8XOaGbadr4Es63ysLtwQRIrVMrMLRMTGEUO4XDAFj6DHpgiN1vWecEEVc/fG5IGZE4IryFBNYxICQ5McQylA06e5MQEE4WpKQzJCYkPCNNZAB0dPPWQDrMHQUB4gFR0+54UhD2QJwrMLSegROYUUFTJhan8MUkMvcAjWtjMkRY4EJ8Y6kiGqq88IrNyRNaH7kdZb3EF5JqpAPbmed1uwBKqPzbtpQV0WuF8iCIGBQ4b0kz6nrb9MuWAMn0O9JAZgkgDmASEi3ykjmhpkAIug7EXE9GiUAuCAWABcEIQgsAlgIIFQw5kxuWN+OCCh2wmpdpEfBEgl8ZRU0FIAZ4p4MQdsOOIoUfGOOKLbzwcxxwToMHeuiLcjzEVFyIbPdsEaQPq/ysyBnt9OfT+bwGl4edTelOuHpsuntadLywitXPhztVaIRONERuN1JkFA9+QJVbRvAAgMlRVo2fG0YxwQwkrlfoQGsDKt8LR89IUc/5oyjVxD5DASTxVQkx2xmMYEH8lnDmNT9iCmU4GX6rghpEZJ7BEfJzRgc+MYARar4qsdkDliFyqMoUC7Ygq+QxxFb8I1TIBaQgI7T7hducZbdPcnkj63PpClkx6aawBxNrnna3PfKlIfwjGkSi7JGLX07AFsCpAKQrkOW7yVIGCQkmAmpQkE2G5IWjJQLllvixMCEDDUHBsIcXAj0Sn48kWCgUKjXBBEK8JiBAnJgDK6i6Gp0LeIqfJ0zYJa+UxOEAp7IgW8MUMQhYmYccCy4AXAvDhApN6zD0doNS0csHX+swBvrFDSKQ9H2syByHEc2/0sg9Xmlw8bp3O5KVLXiLK9B5PsJz7RmF5BVhpYcpJtRngRiBGr9pHysUOMGCyacUbPkdOl5k2mk7msr3SQRSV/MLPBCQiRWEeB0SFrDl5G6by5JZ80VlBIoy7A0JwbE2XNiFyVxQQgVuaQjTmDMdNdg5YgB5AdGFK+MAxbqoqLgSyLpCxwpCAvL+aYBnECXGej2KIGvHHY6ccEGyMiGop2QtHXcOv+rIxB5bjhdlCXUaFl6ug1qUQLpOsVdVfoKz3Yh1srMC/suSl4rXkQCgslutE3C48QE0GcYS+3edF6YVF5YA4EhCUlLuMLAVbthkxuGDEn3CIDgABfyWYsLB8SCGDqBzLGGxBCQAAmGIBDggQSvCAVYj8n3PAExkIz6lT4euXJmbkcoYpWzjbgaC1oNR6kGENF9gXsaxBaAe6owqydkVXQ6LG3ngm0XnAdjHYrWIWo7H1zFORATA1dIE4SphJ60LkdeK1sewl6tqmlOmczoR8l7ULZSmvSN7ZE4Y9sha2csX0u06mdOBGIskxdmOSFpDdgkXO0C2XbDADlhaTO9AMQaPAFBjqwlGDgn+RwTgkCAxQEYJ1AgNyjBy4wbZiyhlx7DWTNGhqK1A5bHY8NXmKEomXHBMVkhaAvCxg2nwtD9XLAOUyc/bNxQdDofLNuReV+WJ9aO13a+eYDNnVYB5j7svTLlC7O8ZlaEeOCQdF6et0jy1u+BgqzbV5gsGAd6eEUQOEFOVaNecRWSZqo7kg5LGzcMWYDFTGgbAJgTloawdtkCsVDgFFz2rQ0ERyeIQcTkqFoWjBnToWhCYPLAlOuCzTESDHT1kJl6CE0bvqQGFunFgRnvOhI8CTtbAO4RQ09kw9AavBHBqpZOwRg6zJxMI+j7FieQFRZ80/lO6YHJvK4qD1KvutKRmqbrqCoP4anRcLsStSXbodZtRxSX9g0WJBBY83U+OHnNrecE2jovLD22PZ6xvHm8zlUyllRJy9Apc/K/sYEvFGh1CJrUeqUT5kAC4BwQE5Nh7w6EBBGXQAo4IeDCgTFj0u1yRog5GSgDesCP1HkVSR9oUgC2x3624RvbBVfq2fQJtkLPNoATEGsAJ882gG0XbJ6FOq+w4VxcCKOLsmzoaqhqJ0vOvFTeuE/YOW+gjokLVTfupuQrpCddHsJeQ1E6rNy3fVV4S+yZ93khaLs4y84La5eVF5LWUBW60AoKtky64QgMjCDRbj0DSVgaCsjJ8FtwQEwAIDiIE4QQEMTR4RJMMZN9jQPBECjYBpypQbLIgFhDGQA4y5JL3zRBQzcBsB5y0oKwgq/I5HqlG9ah5jSAexkAuw9hPUc6/IxstXQ67JwXijafO7MKr1JFWfp7kP6eVFFd6M5uEZaXlg9Hz6xmtzJ61CJ1+U1XSKdloOxkiN2QtK6S1m5Yhp2lUxVEiAUD51YeOPVsh6UBmR+WuMmCmBgDuJDFUoyrwi4J3YAJF8ZMIBZcgZesZzcPnJcT1q+FzjUbCCs3bMFXQ1e7X7voShZjIRfA8n02DK0jB/Zz2gXrTke2Cy4KRQvzaeuQtH5t5YFTMB4lKGcfyiuvQlpdGRqvo6o8hL1aUZHzreJw67rmvHWni7PsvLAc/SobkqYKbtjAVhVrxUJGCCMFV1l4pRqC3NcWiIUCMISEr34YV8w4YgYJXwICJkPRBr4g572W7YZFBsLKDSMLYeE8J+7XgbDplgQHwBElAJZdlxIXbF6LpAgrU6wlil2wOZZUKLpfcZb+PgyiSkVakxam9poZeQh7jVxVQ88CQoZ8Haal8sgV8sI6JJ2pkoYCcI4bBghcjQ/NwJxpseaBsFLtqttSHojNMI06FK22Q5DpvggBQuWGYwQIuAx/c+V8AxV+zYMwzBG7v7xt6AIJcM2tFoUe+1nCVzpX1w0nIekk9Kyhq6flAVjne2MFYNM9SU0rcsHyNGbD0ToUTYghmKiUD9btidSaKK5c0OWBu7KlfzA2XUdVeQh7jURF4M0t0ILulpRtL0jIkGwqLyzfuYN2gKCqo/V0rtyVHmJBVUXnuGF5T+DkFwC3irS0tEs27wmmfRJ+dn9FyFC0fBBjiBghZOTAOIpl+DlQENZA1ttk1p94oRNW/Zv1dP3e3IIQLANfcoCbjIwlw9E2iO1pbjW08550YRapaW5FdF4uOD1KVl4o2p4uP89sPrioKEtDOW96UXuvlSWfE/Za0epXIW3apfLCgBuSllOlGxbg4ExIgKsQdT83LAuy4BRpyY3IhDCHC2C1AxA6hq1BKZgKPavuT4wpCDPEjOQgIRaM45gp+BJiBVzOSPZHtkCsZQPZzkMlI1Klbjeo3HBy9yMXviJVdBVl3ucD2AavDEeTmSbsB6q5YPleqAE6CHZVdF7/YP2+ao627VsY+hsteA0qD2GvZiI7JluhudVXOO2Cq4apnfWRUGHqJCQtg9FJlXS6QIvXcMO6O5EOS9vV0rC7H9kSAHGWFCBZIWk7FM3IhXHMktshcqb6G1vPGr4avNIFu2FoUx2t+0CbELT7LMPFrjuO1TGnw88uaN0QtPMQbjW0vJPiYC44XZAFuFXR6VD0II41vYz93vcvXrkiNC9F8+For6lTUXFWXl5YmdHCkLR+rwu0ZHEytwq0XDcMwKmUju0/IZEKKQumwKt3BsVjOFuOmDToLVfMGHNgLN2vcsIkB+rgCshQxWI2ePPqL+0/fg1d/Vogccbm7kcp+FKO+9V58ioANqFnocALWQ2tw9IRkQGySAG5zAUXVUUXhaKr5oNnv7rZq658ONprOKrpWBttSjnasqrnfq63LC9stxFwx5h2Q9F6DGoFY6Zvu5d2wzD9hiMSCMEzYemkMqwaiAlQ+V8Zfg70KFmWK5ZslTCWFdFwcsCcMRWOTs6iCUkXnhUYrOguSyYEbIWjSU2LDZxVaBoJhMkKP+f1A+4HYO2A88LQEYnaLtguyEpXRVcJRRflg9NtCufp7Y8y9OzD3DMvD2GvyqoCzrJuSlWLs6rmhdPbTlgYmIt32g3r3LDOAMtbHMK4YpMjliu1HG2SHy4DsVCzQuswBSXhaWVqQaoLkoaxHiaTa5dv3L7coglHW32StfRdntzz4YajzeHYMEbiiDV8dU43Il1oJd2vfO1WQROKAWzngZMcsRuGjkk4AE4exS44XZA1iJNN54P7FWUVzm8AdK/JFSE7bOog66gqD2EvR9VHrhqsb2+/7eVtvywkLednC7QK3bAFaN1vGFB5VhUtMAXHzB2eMnHD8gykQSyEdLN6p3QVdMD0e2bu1qSBq2HM1UAdDECo3DFI3avYuHF9zOV3jU5C0Pp9Al15jhPXK6cn8NWhZ2G537zhKN33WQDH1nQ7Dyzn54ehdb/gOi5Yf95q7ZVD0WX54CaqXhjmAe0l5SHs1UdFSU9LDYqz3OlFd1CqNha1NqT2MJZAvhu2+w0DcMLSseKtnR8O0R/EdnUyAdYIXXYhFmRYXPX5TcLpTD1LgHH9A0ABGqooTIO5n2zgyveJ47XBq0PRafimR8AqArGoAOB0HjgGZcLQMWLY/YLLXLB+X6cgKy8UXQTM2kVZlfbBQ3da5HPCXjOlqnnhqiFpDea0G7aHrXRD04kbBumhM7h6TpaNIHPBdrW0nR+OQAghXWVcAGKiZIeIYMLTgeWINZzlvicw1uHnNJA1gLnZfyleYoUTB+y+zwNvAuYEvmnwOkAWVqhaSIzlAVhXQkfmdX4eOILOAds+2Hqd44JteJa54DyVhaKr5IO9Zl/6R3PTdVSVh/CKVwWnO4CKwsz5d08qD0kTCVOkXJQrFohNyDovN+z2G4Yp0pJT5ZAeEhFqaRIIGEek8scBGCL1p8XswTfkHgKCgRgAQQq4SXjaBm/Ikx8PNoyTPLALZO2A9c0imMV+fUTJOXDJnLhg97UNXuOMU/AlwMkFu0DW1c5uONp+bQNYVkULJw8cW/B18Ms0ht1+wXm54H4uWIei+4Wey+5BPKywdVYe8itVHsJTo+HAsq4c95rjcqvmiquEpIlilZfNL+aqmhvWGNWjaLlFWm61NJCg1S7UAsGA2A5N65Z2OFqXQen3RJYTlrvtwDgpwsoCGUjlgzPh6HxLrC/pWVecBW/6WcPXvh1hZNqQmeaEoy0nnAawLsQqzgPnF2Ol+wXXyQVnvi8QjgtuGoou2oZ5PTE530nZj+mRD0d7TacG7AJVFJLuV6BVFuK23bAGswFyKixtV0sDMZQ/hXbD8n6uMEVhWRADuoGgxAWT6pak33NIcLEUjDlLgdgCsg5Dm0E6rD/svNsYmvPkDF+pp7lAzgOw/VqDVpj3WfebuOdyACfPrgvWeWAbwOkwtD06VtsuuGoounxDHnKzJp0+abqOqvIQnjFJ/1WQMKwIyiwAB3Ph6f7CVUPSVQu0itywqaROjaIFcxRJWNrND3NYw1ugCMQmL0sAuLpJApfnXYenbVdMRAq+LoyzLjg7LbaOzf5UOSv4jOH+CqfUtDLwmucc+OqQtu1+5TIk75gEnSO2irBKAFyUB84LQ2uHaQO4yAXnqawgq0oounn/4AFD2qU56oaU8JoYeQh7ta66IekyNwy4eeAqbjhpa4ejk0shU1A186z8sFRg1pAGsQAhBJfFWarrkcwFyxGudHg67YrLYGzxHTG5QAbS3ZPcafnn1ToHmXB0Alz9vgp8i9wvWdNtAOsccBGAYx1yNi44aSGYC+BaY0Ijv1sSkQvpvNdNQtFesyOB5kH8Ost7CHuhrtPtlxeuumyd9ea54aJKadsN2wDOq5bmACIAIUuApQu1rLUBJDs06WItc09iWHBH1hULIoScmUE6bBhzxpIiLCTuGEjcsFyv2i8LwlWqo+3Xaeia1xZ49f6m4UuQY0Anjjlxv3b42e4HLEFtQ7e4ECtC7AA4rxq6igvOON4+3ZJKq6FTLrifmuWDJxnqK89x+5zwzMrESGdXOeHuoiEsk+nZAq0yN1xWKa1vcwjkgzhdLW2D2C7UiiD/MDIgVseoB9KAXNzkiTllXTEDAwl1tyTkw1h2e4IDZHnM8jk/J1zwGaBPOJqSI3KBnA/fdOg5z/3a+d90P+A8AEd6Sk4hVr9q6DSA08rLBZe54OQ8xYXzCqf7fLBXC/IQ9spV07zwoA65nxt2QR47o2jlVVvbssPTgAtit1ArH8TqfkZyBC2mgGblifNcsYaxcO6MpFywes3MrQp1Dlhl9RWUY3LPvG5Xfj7t41bPTl6YTLs88Lq5YnJcc9r9pvO/GsDp/G82BJ1fiFVUDZ17nKnRsdx5/V1wXddaPxQ9qi5OXq2J3L+fQddRVR7CU6UWuikNWMWcWc0AIemiAq2B3XDKWdcJS2dB3APQQRrEXHndRLIrU0jcAFyATElX2hWnYWyHqbnljmNoIEtXmYayxouGcxW5uWEXuuZ1Csz94FvkfnX+l0gOwJEeD7oIwDF6hQCuGoa21YYLrlSQZa+zUSi6QK2sxwN/EPmcsFdjlVZIF6oFwAMO5NPQ7btoHzec7jdcVKTVLyxdB8Rm31SeOFTojyDAickzzVihK+4H45gSd0xgZnkNZQCld06yi6Tzfr2L1LxsjjgBr57fD75l7lePhCWgYew63rYAbCuvGKusX/DoXHAV1V+nr4yeLXkIexWqra5KzjobuGEbzCBY84rD0rp7Uh0QSx/aSYFYDugh3TFTzjcJT+e54jIYA7o4S06TjjcZfZpbLtgGs55nHWCu8vPC5Mwj53UCXqA/fNPuNy/8XATgGD2UhaCLAGyrKAydLsZq6oKbyYeip1G+n7DX1KgwJF1SoFV1nWVuuCgsnVct7QA5ZyCPohwx0INAIAfFSIFYwP1hIsAyrrgMxib0bLljINmMfbNC7ZSBBL798sG20s5XT9Nuqgi88n01+NrutwjAMUuG6KgLYPP5lVRD54Whk+UGd8FjCUV7jVU+HO01fBXmhVsKSdubQjZf3M8N5zlg2/0WhaVtOOfmh1ODd/QDsZnO1DLEIf+RCU/brrgqjM3+KHcsj4sZGDJGziAdcheYA9+q1dHyeCkzLw1ePU8DV85rDl87/FwXwPb3pSgPXBaGtkFd1i+4igseaSjaw3xFyUN4pNKX4iaqBsrB8sI566kRkm7LDafb1w1LG9eMOLdQS0O9FogzeeKsK7bXAaJCGAOpwTmY65A1lN2qaHLyv1XdcF6VNKXC0kXglW2y8DXthgTgZH+zhVjJ2agfhq6dA67hgrMaTii6ej64je2tzNwzEZm/kSbrqKpatufCCy/EM5/5TOy33344+OCD8YpXvAJ3332302ZxcRFbtmzBAQccgH333Renn346duzY4bTZtm0bTjvtNKxevRoHH3wwzjvvPERRVGdXvCZEVS4uZc4i60Ly3Ul6PekLsOlXSlknZRyUvtBbjicNAGG/To/kBAIxgZhFkP9i8y+CQKTQ4owMRUI+QOZuQhEJdbeh7CNSj1jIR09Y84S+WUK1R2Qt2xPJOs02CvdBqP7BpPZbZAbeiNXxymPW5yCWZ4VFjQBcVoiVzgMPGoZu2wX7UPTsSA/W0fRRVbUgfMMNN2DLli24+eabcd1116HX6+HFL34xHn30UdPmbW97G77whS/g85//PG644QY88MADeOUrX2nmx3GM0047DcvLy7jpppvw6U9/Gpdffjne+9731tkVr6YqvGhUuZgUt3EuWLmDKZQsW2GeDVgNXD0/G5ZM3FMTEEcsQoweYvTUQBNkhlo0cFYwyoNxBOHCOAfIPfWswdmzQB1Zj54Q6AlhgJr30G3s5QyMC7bj/DiAC199z988+Ba5X/kDRZ0zFjUGcL88cJUwdPLdKB+Yo3DegC64VhsP8xUnRg18989//nMcfPDBuOGGG/Brv/Zr2L17Nw466CB87nOfw2//9m8DAH74wx/imGOOwdatW3Hqqafi6quvxq//+q/jgQcewPr16wEAl156Kd71rnfh5z//Obrdbt/t7tmzB2vXroUa7G/Q3R+T2tjf6r+dSkPShaHh7PRsGJkXzndywDnT89rqaeZZ5W8z0xl3ltF5YAZu2nBkp+v1cfWagZscsV4nt6brbXB7usoJMwSmGIyDgZlcsZzLrHn6Ifclec1VqFq/lvPVmU1Nl/uIXNltdKg4LTcknYSZATtHrd7nhJz1a/2Qy+XDV7Ytdr/Jsvk54CoAtvPA6en5P9bqu+BcZ1y5IKtKKLo+hOt1TVqp4WiZPNm9ezfWrFlTa0nNlTdseDe6fL7RXiyLRfzf7R+utB+NqnB2794NANh///0BALfddht6vR42bdpk2hx99NE44ogjsHXrVgDA1q1bceyxxxoAA8DmzZuxZ88e3HXXXbnbWVpawp49e5zH9KqNL/Yk/Fpu1w0PEpYmstyPcyHPTi9yxGY9eWDIccXyXS/pZmO5YjtEnXbGtpPMuOMcl2y704iU+80JHfdImEfufCGc9Zh5Kbdb5Hr1vtrO1w49p3O/zrnJcb+jAvAg36uy72e7LnjYWqkAbkejDkcPXJglhMBb3/pWPPvZz8bTnvY0AMD27dvR7Xaxbt06p+369euxfft208YGsJ6v5+XpwgsvxAc+8IFBd9WrSDnFU1LZ4qt+RVVViq7swi276nmg4S2R7bZkF2rZFdN6uu5DnB7MA8j2I47V+tMFWzFT27WKtgRkH18OpiqMheWMJep1JbUu0JLng4HZ04w7Vc44ZX8HiVml3bEpyrKmpx1v+llDx/5ZAsCBr9zvrPuVy7nwldOy3ZCaANgcH4rhWqbcKuoKMOu3nbZcsNfsamAIb9myBXfeeSe+/vWvt7k/uTr//PNx7rnnmvd79uzB4YcfPvTtzoLaqpLOVxbWyXbzK6XzoKun9euylJ2fQLcJiJlCpQ1iIFs5ncBVVk/L9QuF2nIYA7GBaxGQ5b4wA0BOKQgP8DmmIZyEkykzrQi8UMdeBb7yfXn4WU9rE8B5eeDWirEmwAX7UbJGp6m4i9LZZ5+Nq666CjfeeCMOO+wwM33Dhg1YXl7Grl27HDe8Y8cObNiwwbS59dZbnfXp6mndJq25uTnMzc0NsqszrGIA1tKI3XC/9nVB7C7jDuRRB8TmiK1eZDaAgRgcgXWZVe9N5998GMcQpn+xXF8WyECS27VzvGnoigEgnL54px2w/ZwHXv1MzHXDsn0CxjL3q9ddVIBl1lURwObYKFtgVRfAzrmq654n0gV7N91UhOY/euosXesqTkQ4++yzceWVV+KrX/0qjjrqKGf+iSeeiE6ng+uvv95Mu/vuu7Ft2zYsLCwAABYWFnDHHXdg586dps11112HNWvWYOPGjXV2Z4o1S79q6+eGq3YD6etgct1PnJlWlCNO9z+1K6fTeWL7daxyoea9qv7VOVENJ11JHbNYtoEweVQzz8qzpnPI+nU6T1vnkbeedNcivX1d1WzvZ8wiNdpVMo9U5bN2v7GqHtdbjBEVnjt9bvMAbDLVfQCcroS2P9fc7wmKq6H7hqEnwAWPXrN0fZp81XLCW7Zswec+9zn88z//M/bbbz+Tw127di1WrVqFtWvX4o1vfCPOPfdc7L///lizZg3OOeccLCws4NRTTwUAvPjFL8bGjRvx+te/HhdddBG2b9+O97znPdiyZYt3u0NS35D0qNxwznYcR4v+N3zIdc9Ih7OTQTvKHLF22vaAHvqogcQVF+WH0yFqnS+2w9SxcvJpd8yIG7gkldbSJctjsiqjwVFU+VxVbtce2w0L5xlAoevV7eyws5yWDT3br9PuV89LF8vpNoMA2Ox7idPNtOkHzgrrqDd/MBfsQ9Gj1USHoy+55BIAwPOf/3xn+mWXXYbf/d3fBQB89KMfBeccp59+OpaWlrB582Z84hOfMG2DIMBVV12Fs846CwsLC9hnn31w5pln4oILLqizK14AWgtJN5a7H3lgTSuvSMuZXxCWLp4/GIgBmCEugSyMud0GgBuWTl7bMAbsnLHEtQayMF2lVN63AMoJ7BMw2+IlP6qKgG2Dtgi69jwbvPKY6sFXv05XP+t1p8PP9rrrArgIinXD0EVgrtMlaXyalP2Ybo36Bg6N+gmPS9PdT1irrf0edp/h/G3U6Tcst13ed9heJndahf7D9rLJ9Px+xHqe0+fY6kust5X0+Q2cbZg+xvZ8uOvPtKHU9vX2rON1+gZT9rzzGp+3yLkoa+DK+VlHXAW8bnsXuLpNFfert5cH2X5FWPb2BskDNwlD94NwLRec2lZmVi0X3BaEpw4Jlpr3E/6vB74bXd4sKrsslvB3v6jWT9iPHT02WRVAk6DCkHRVFbvhsm2VVUs702pUTKcdcW7VNLJu2RRkkQSxPVZx2hXbIWo9XzvjOLX/tjuWbbMOWa42Kfzi4ACLrXUwtYX6F9pshbQNmDgzXbAsgNIFV/a0IvhmphWEn/U6hglgW3WqoTPt2nbBrRVktaVpBnA70mOiN11HVXkIT72qh6QH766U3UbtSuiCsHTROvPyw22BGIC5BaK5F7HcqFRJeBqoAmO3r7GGvoY0kM4fJ0vrNdlgttdrK88V57lfc35TYW0nPJ1yvHJ+1vXa0/vBV7fp537lctmxoNsEcFn+uExV+go77eu64NJtj8MFe41aHsJeiYbshqv0HR4FiPV07UztPHGeKwaqwzjrht33CZCRzFMA1PPlutNYz0I3TkE1/xPJXpzznK5sm3XFZeC13+fBVz67uV+7bb/8r56XP709ALcVhq6tiXPBXgBGnhP2EB6r2gpJV3fDbW4j3w03D0uXFWo501oAsV2wBSDXFef1KdZHCiCzrO2G7fd54eo8KANwwJxsr9lFOw2VPOja7ez5g8AXqO5+7XU1BbBzzHUKsRqGodt0wfXU1jZ8KBrQvR6ar6OqPIRXmAbvrlTQvMWwdB6Ic6c5brnCqFqyoasUbO3wdB1XDPSHsQ3XvGlpKANwwKzFrerwqhI5YErDvMgNl8G4Dnzt9k3crzOtBMBNC7Ey8yqoSmjbXaC8ve+WtHLkIexVQ1Ud92Bh6SI1ATGAgcLTckGzA877fjAGScASkn3sB197up4nNzk8JyzXmX//3SrgdebVgK9cx2Du15lXE8BV1V4Y2oebp1FEhKadhuos7yE8do0+JN3MDbcTlh40P2xP7wdiALXD0wAaw1gfvb0OG8hF8M0Dr3bCg7jgZF9ywrQloemi3Gna9crXzeCb16Zf+NltUx3Aw8oD1w5Dt+qCfSi6bU30YB1eK0hDCEs3zQ8XgRhIRr+yQZxulwaxI+tmDk6uOBWiVjviLJP8wQnTx1jLBi63/zBZfhs9JQ1du2tSlbtOlbm/NJTLwFMFvPa0/BByPffrzusP4Lx52X2oFoa2Val62oehvRrKQ3giNIFuuJXtlLfL5IcHBLH92gYxgEx42s4TF3ZjkhuSR5ByxWUw1gVcQL47dmBLLmhtp5xpm7OmQdXP6RU6YruIq8yF1oCv3aZO/tfedpsA7h+2nrQwtHfBw5C+83XTdVSVh/AK1miKtGqEpVPbbApiZ1qfPLGtKiHqMhgDbjgqD8j6zNjiqb9b82OhUbcxta4CB1bmivPAm55eB752uyru11n/iAE8eBi6RN4FT4UIQOMuSjXaegjPnKq74WFsZ5JADKBSnli2S407LSc684CcfLHVDgXh5iIgp8fDLnS/NHheOC8fnGw/DaLUYB59wGuvw5wzVIOvPb/M/brtCvZhogA8bS7Ya9zyEJ4YjWcYy7aLtIAiEJe3GQaIZZvy8LSZlnK+eSHqXBgjC2214UQFQAayLjkNZlv5hVv56hdazetTKzJwKgevnF4NvnbbJu63qG12W20BOKuBADyxLti777R8ONqrBbXshgcAcZV2wwAx4IJWtskPT6fb5sFWqx+MgeLCqyIgA/lVlEXh62R17pCWefP6KQ3cvGXrgLdK+37ALIZrvS5I7QK4quMcHMD15V3wMEXU/KeJHzFrajWhbniQdVYIS+e1GxTEADLz0pXTsk1x9XTStj6MdTU1kHLHsqF1PKlTklfARcVu2NVgF+MiUKePtQi8csvtwbfodV33WzqvJQDXzgNXkHfBK1sewjOrem54dGHpdkEMoJXwdO7rEhirGdY+Wkdou+MyIKeWK1x3yyoCSRZMg4O3vE2F1w3Cz5ljGTqARxmG9i542PLh6BWvNt3w+MPSVUGcWa4iiNPbKAMxkO+KzfQaMLYLuIrcMeACGchWQBd+1EM0KUX54jLoyvnVnPIw4Ft1vel5kwzg+mpzfd4FF0lQCxD2I2Z5DaJKYekhgTivTT8QA9kQdHq5jFvukyvOe62XrwPjdDvdNg22DJSThYemNGy18obFLAVcal2VIdmS++03b7DxoEcHYN8lyQvwEJ5Qjc8NDyM/XKxmIE7Pr5In1q+B6q44u0yfMDX6A1mvKw98mRD2EFQ0DnXe8VQFb7ptU/hm27UL4Oyxji7UO94wtId/mUj9a7qOqvIQ9qqv1txwtn0afkB9ENvL13HFwGAwlsvlu2OrQeptMcDTIexhqKzAqF9uOL18vxBvFfiWtUtvo587b7MKejLC0F6jFKH5Tx4/WMdMaMLd8BBBnNe2DojTy1d1xbKtG6LW89Jh5TzY623kOV4bZGmX7LQtgXPbKgvPpsFbzSFXc8Fy2ebuN2/+NADYu2AvWx7CK0YzCmKgNE8MVHfF+n26H25p2zScU+7Ybp8sk3WWjAXOMZSpjcE6nLYFoe+64K30viJ809uqC98q+yq1kgDsVUW+OtrL0nj6DbenEYAYaOyKgWYwNu1LgKy3mXdxLwKz28a92UMdVckvF0GnSi41F9YtwbfK/IkA8FTIu+AqImohJ+yro73yNWo3XLzNpiAGUDs8DeSHj3Pn58BYtg8ysC1bPm+bybqybZ359vG0UKhVJcxd3H2pPozLcr757SvAvZUCLKB1AHsX7DWgPIQnXm274dkAsdy3euHpvPX0hXVOzliu03XHuk1+Pjg7zd6/tPrBuQ31HVu6AnQLp9WEb97+tOF+i7a1MgHsXXBV+XC018RpqkCcsy9VcsX2/Nw2BTCWy+UDucq09Dx7f0al0krpAcGb164V+AIrAMBe45SHsFeOxuuGK2tEIAbyoVXminW7OiHq3Da5Yeb6QK4yr6htHdVx07VhXAG8xcs2Dz3ntilYl9S0ANi74JUkD+EVqyGEpYGRgLio/SCuWK8LqAfjwml9gFy0jrTyzkVb4elKueHCQq0aldRtwReYSgAPJp8HHrdIeeGm66gqD+Gp0fgrpUcBYiAPQPoLXS08DVRzxel2RTC221UNOcvlXWAVQTl32SHmg231207ZrREHBW+ddlXhW7TO+vAtXqZsn3KbTYQDnYR9mC75cLRXicYflh42iIHm4Wm5n/1dsW4HVHC9Je3stqWutwDKeesrUp2Q9CAgrwvd0ulN4AuMwf0WL1O2T7nNfBjaq6I8hFe8ph/ERe2ruuKitmUwLmqbaV8Dysl6i+8l3FpIugS2VbZVB7xF7ZvCt2w/PIC9BpV3wl59NIyw9DSCGJnlartiYGAYF7W12+cu06cyWq53uDdvyFOTPDEwPPgWtR8kl7uyAOxd8KAS6l/TdVSVh/BUavz5YbkX4wRx8XKVXbHeN6AWjIHyLkVFy6SXK2rTr/2gquuiB4Fu2XJtwLd8v6YRwMPQpOyHVxV5CHsp1XfDwOhADBQBqb4rBprB2F5/2Tb6LWerCLajKNCquo1BwFu63NjhW76sXMGwAezD0JMmYgRizT4XfyvDFaHJCEvLPWkTxCjch0FdMdAejPOWqQrk3O3lrCNPTRzxoCAfZFStSsu2Bl9gaO4XmFIAexc8bfIQnmrNIojL92EQV6yXyw0F94MxMDCQ8/az31CVRRqmI67ap7F/d6b64O233FjcL+ABvIJFLRRmeSfs1VCTDWKgXVcMlMBY7y+Qu89lQLa3adoUhZ0rXJSr3MJwkPUWLlulWKtBOHfQ8LYHsNcwJSDAfGGWV3UNq0hrOkAMDOaKi5arBGNgICDb27ZVNdQ8zDGlaw1v2TCPOh74li+frGhaAexd8LTKQ3gmNMUgBhrliYEqrjh/+SowBpoDuXAdqf0o0zhywmb5FuDVJL/cD1yjdL+AB/Csyw9b6TWgphTEwAhcsV4euevot2ypOwb6Atleh6064eWRDWNZ5+LTQrh6uPDtvw65Ig9gr0SCCbCG1dE+HO01ERoOiIHBXXH5OsqqnIFq4ebMBb1kX/oBapAccD81+oXfQlcmoB3n2or7BaYcwF6zIA/hmdJkuWFgGCDuvz/9XbFeBwrXU9UdA31gmXeRn4AccP+N19t2lX0dDXyrrUeubBQAHqYmcZ+mX74wy6uhZgDEQGuuGGgHxmXrqZP/lQsU/IG2ODpWZQ2pD7Fp1xI0xwVfoCmAfRh62uQh7NWCphzEQGuuGGgHxvZ6+q2rNpTNggP84dv7MQF9iYE6+eu24FttXXKFHsBekyUPYa+aagZiAGNxxUBdGJevryqQgeZFWeUrb/9CP0gYvG1YTjd8AZ8Hnl756mivljTMmzxUg16RhuuKgXZgXH991daplin5Ix1GQVad7Vdavjb8xwRfYEbcr5Z3wcOWQAzW8E5mosbyHsIzrWHfbWnE4WlgzDCuvk5bdfv4jrUgq0CDdZEaTwg7WekAjt4D2GvEqn0FvfHGG/Hyl78chx56KBhj+Kd/+idnPhHhve99Lw455BCsWrUKmzZtwj333OO0eeihh3DGGWdgzZo1WLduHd74xjfikUceaXQgXkUa9h/u4BeegS54tS6sAlXzjvpRfZ31AJN+TLKa7W/18zPYea+oAdyvB7AXoL8LouGj+udVG8KPPvoojj/+eFx88cW58y+66CJ8/OMfx6WXXopbbrkF++yzDzZv3ozFxUXT5owzzsBdd92F6667DldddRVuvPFGvPnNb667K16VNdkgrn3xIzEUGAOoCR2BQaBsb2eccG5nH+qfg8HOcUXV/m5MQ/7XA3iUEky08qgqRkQDf8KMMVx55ZV4xSteAUC64EMPPRRvf/vb8Y53vAMAsHv3bqxfvx6XX345Xv3qV+MHP/gBNm7ciG9+85s46aSTAADXXHMNXvayl+GnP/0pDj300L7b3bNnD9auXQv5G2L8N7efHg37XDXLZdYKTzsL1t1uvfaDDRk5hu5GI9MwC7cG3MbAXa08gGdLBEBg9+7dWLNmTa0lNVee9LjTEbBOo72IqYd7//MfKu1Hq1eK++67D9u3b8emTZvMtLVr1+KUU07B1q1bAQBbt27FunXrDIABYNOmTeCc45Zbbmlzd7wymlxHDDQICQ7s3iquvnFYtr5TnhwNfhzNzlsNDZj79QD2ypNA3MqjqlotzNq+fTsAYP369c709evXm3nbt2/HwQcf7O5EGGL//fc3bdJaWlrC0tKSeb9nz542d3uFaXKLtbRqF20BNQu3tOpXeQ9SCZ3dXlqT4JrbAcrgIfUBlhub+wU8gGdZzbso1fl+TMJff19deOGFWLt2rXkcfvjh496lKdcoHPEYXXGjvGaNTbWWy81zm2056WGuW6qdfHKdDQ7yGbfpfj2AvdpTqxDesGEDAGDHjh3O9B07dph5GzZswM6dO535URThoYceMm3SOv/887F7927zuP/++9vc7RWqUfyhN79YDXzRHPBCPehFdjQFVlWBOtwQePNjHXDfBv5Mp8X9Ah7A45eguJVHVbUK4aOOOgobNmzA9ddfb6bt2bMHt9xyCxYWFgAACwsL2LVrF2677TbT5qtf/SqEEDjllFNy1zs3N4c1a9Y4D682ND0gHh+MB7zoT1m3pCK1dxwNzmdD+HoAe9VR8+5J9cLZtXPCjzzyCO69917z/r777sPtt9+O/fffH0cccQTe+ta34o//+I/x5Cc/GUcddRT+6I/+CIceeqipoD7mmGPwkpe8BG9605tw6aWXotfr4eyzz8arX/3qSpXRXm1r2DlioI08MTDAsJfOwoPkjLXsP6jBj6MIYINVX7er4fxIaLjOBvvU7l2PPIC9hqfaEP7Wt76F//Jf/ot5f+655wIAzjzzTFx++eV45zvfiUcffRRvfvObsWvXLjznOc/BNddcg/n5ebPMZz/7WZx99tl44QtfCM45Tj/9dHz84x9v4XC8BtOoQAy0BeOBuzPZF/YxAtlWXQBWgfZ4nHcL22xhv9sD8KjOoQfwJIkQgxoXl1YPRzfqJzwu+X7Cw9KozmV7zm9gGDsraWt/xu9oR6+WQDVR8AU8gKdVzfsJH7ZuE3jDfsKCevjprq9U2g8/drSXpVE4YqBtVww0hHFjd6yVd+GeJTC3DKaW3Pp0whfwAPYCPIS9MhoViIG2csVASzAGGuaO8zStYB4ijCYSvoAHsBeQjB3ddB1V5SHslaNRgxiYWBgDLQJZq+wPfJSAHiF0WsxRTzd8AQ/gyRZRDGp4/aAaXZQ8hL0KNEoQA226YqBFGANZgAy1mnk6uzJlNITCsPbhC3gAe41bHsJeJRoHiIGJhbFZ6TBd8hRrSBXZswFfwAN4OiRaGOhGDLOfsNdK06hBDLTtigH3Qj40IAMrC8pD7AY1HPBqeQB7TY48hL0qSF9AptsVaw3FHZuV51zgZwHMI+p37OHrNW7JfsINc8LjuouS16xrXK4YGCaMgSEB2Wyo4OI/iXAewyAfwwUvML48uwfwNIqo+V2U6gyW4yHsVVPjADEwTBgDIwSys9GKf6htwHrCxq4ePniB8Ra5eQB7VZOHsNcAGheIgWHDGBgTkMs0YQAdVKMBLzD+CnMP4GmWL8zymhKNI09sa/gwBiYQyFOm0YEX8PD1akO+n7DXlGmcrhgYFYyBLFA8lLMaLXS1xg1fwAPYa1B5CHu1oHGDGBgljLU8lMcFXa1JgC/gATxb8sNWek2pxh2e1ho9jLVmHcrjBa4tD1+v4UlWRzcNR/ucsNfYNAmuGBgnjLWKoDUNcJ4c4NqaFPgCHsBebclD2GsImhRXDLgX7snol1sFcMME9WQCtkiTBF7Aw3clKG7hU/aFWV4ToUlxxVrjd8dVNV2gHIYmDb6AB/DKkAwl+3C018xoklyx1uS5Yy9gMsELePh6DVMewl4j0qS5Yi0P5PFqUsGr5QG80uSdsNcMaxJdsS0P5NFo0sELePiuXAmIxjUZdbo4eQh7jUGTDmMgCwoP5cE1DdDV8vD1Gq08hL3GqEkNUefJu+R6mibwankAe/lwtNeK0zS44rTy/sBWMpinEbi2PHy9EtUZ97mNdXgIe02IphHGtlZS+Hraoavl4es1fnkIe02Yph3GWmWgmgZAzwpo8+Th61Us2Uffjx3tteI1KzDOU5U/8GGCepYBWyYPX6/+qpPPbWMdHsJeE65ZhnGZVioohyEPX6/JlYew15RopcLYa3B5+HrVl3fCXl6l8jD26icPX6/B1fRewnXX4SHsNaXyMPZKy8PXa/rkIew15bIvvB7IK08evF7tyoejvbwGlnfHK0cevl7DkYewl1djeXc8m/Lg9Zo9eQh7zbi8O55+efh6jVJtdA/0TtjLKyXvjqdLHrxe45EPR3t5DV0eyJMpD16vlScPYa8VrvSF30N5dPLQ9Zo8+X7CXl5jlXfJw5UHr5eXLQ9hL69CeZfcXB66XtMlohbuokT+LkpeXkNQ3h+WB3MiD1yvWVCM5n/XHsJeXiPSSgWzB66XVxvyEPbyal1lgJomQHvQeq08ye5Fzf5OfTjay2tiVfWPc5iw9nD18ipWcwj7cLSX19TLg9LLayXIQ9jLy8vLy0urhXA0fDjay8vLy8urvqiFKFSddfDGW/Py8vLy8vIaSGOF8MUXX4wnPOEJmJ+fxymnnIJbb711nLvj5eXl5bXiJVp6VNPYIPy3f/u3OPfcc/G+970P3/72t3H88cdj8+bN2Llz57h2ycvLy8trxYtkTrfJYxrC0R/5yEfwpje9Cb/3e7+HjRs34tJLL8Xq1avx13/91+PaJS8vLy8vr5FqLIVZy8vLuO2223D++eebaZxzbNq0CVu3bs20X1pawtLSknm/e/du9cp34/Dy8vLy0pJMqDNYRt462ijOqqqxQPgXv/gF4jjG+vXrnenr16/HD3/4w0z7Cy+8EB/4wAdy1lTP9nt5eXl5zb4efvhhrF27ttYy3W4XGzZswPbt21vZhw0bNqDb7fZtNxVdlM4//3yce+655v2uXbtw5JFHYtu2bbVP9DRpz549OPzww3H//fdjzZo1496doWglHCOwMo5zJRwjsDKOc1qPkYjw8MMP49BDD6297Pz8PO677z4sLy+3si/dbhfz8/N9240FwgceeCCCIMCOHTuc6Tt27MCGDRsy7efm5jA3N5eZvnbt2qn6ggyqNWvWzPxxroRjBFbGca6EYwRWxnFO4zE2MWbz8/OVwNmmxlKY1e12ceKJJ+L6668304QQuP7667GwsDCOXfLy8vLy8hq5xhaOPvfcc3HmmWfipJNOwsknn4w///M/x6OPPorf+73fG9cueXl5eXl5jVRjg/CrXvUq/PznP8d73/tebN++HU9/+tNxzTXXZIq18jQ3N4f3ve99uSHqWdJKOM6VcIzAyjjOlXCMwMo4zpVwjJMiRs1qub28vLy8vLwGlB872svLy8vLa0zyEPby8vLy8hqTPIS9vLy8vLzGJA9hLy8vLy+vMWkqITzNt0C88cYb8fKXvxyHHnooGGP4p3/6J2c+EeG9730vDjnkEKxatQqbNm3CPffc47R56KGHcMYZZ2DNmjVYt24d3vjGN+KRRx4Z4VGU68ILL8Qzn/lM7Lfffjj44IPxile8AnfffbfTZnFxEVu2bMEBBxyAfffdF6effnpm8JZt27bhtNNOw+rVq3HwwQfjvPPOQxRFozyUUl1yySU47rjjzIAGCwsLuPrqq838WTjGtD784Q+DMYa3vvWtZtq0H+f73/9+MMacx9FHH23mT/vx2frZz36G173udTjggAOwatUqHHvssfjWt75l5s/C9WfqRFOmK664grrdLv31X/813XXXXfSmN72J1q1bRzt27Bj3rlXSl770JfrDP/xD+sd//EcCQFdeeaUz/8Mf/jCtXbuW/umf/om++93v0m/8xm/QUUcdRXv37jVtXvKSl9Dxxx9PN998M/3bv/0bPelJT6LXvOY1Iz6SYm3evJkuu+wyuvPOO+n222+nl73sZXTEEUfQI488Ytr8/u//Ph1++OF0/fXX07e+9S069dRT6VnPepaZH0URPe1pT6NNmzbRd77zHfrSl75EBx54IJ1//vnjOKRc/cu//At98YtfpB/96Ed099130//8n/+TOp0O3XnnnUQ0G8do69Zbb6UnPOEJdNxxx9Fb3vIWM33aj/N973sfPfWpT6UHH3zQPH7+85+b+dN+fFoPPfQQHXnkkfS7v/u7dMstt9CPf/xjuvbaa+nee+81bWbh+jNtmjoIn3zyybRlyxbzPo5jOvTQQ+nCCy8c414NpjSEhRC0YcMG+tM//VMzbdeuXTQ3N0d/8zd/Q0RE3//+9wkAffOb3zRtrr76amKM0c9+9rOR7Xsd7dy5kwDQDTfcQETymDqdDn3+8583bX7wgx8QANq6dSsRyR8rnHPavn27aXPJJZfQmjVraGlpabQHUEOPe9zj6P/8n/8zc8f48MMP05Of/GS67rrr6HnPe56B8Cwc5/ve9z46/vjjc+fNwvFpvetd76LnPOc5hfNn9foz6ZqqcLS+BeKmTZvMtLJbIE6b7rvvPmzfvt05vrVr1+KUU04xx7d161asW7cOJ510kmmzadMmcM5xyy23jHyfq0jfenL//fcHANx2223o9XrOcR599NE44ogjnOM89thjncFbNm/ejD179uCuu+4a4d5XUxzHuOKKK/Doo49iYWFh5o5xy5YtOO2005zjAWbns7znnntw6KGH4ld+5VdwxhlnYNu2bQBm5/gA4F/+5V9w0kkn4Xd+53dw8MEH44QTTsAnP/lJM39Wrz+TrqmCcNktENu6/dQ4pY+h7Pi2b9+Ogw8+2JkfhiH233//iTwHQgi89a1vxbOf/Ww87WlPAyCPodvtYt26dU7b9HHmnQc9b1J0xx13YN9998Xc3Bx+//d/H1deeSU2btw4U8d4xRVX4Nvf/jYuvPDCzLxZOM5TTjkFl19+Oa655hpccskluO+++/Dc5z4XDz/88Ewcn9aPf/xjXHLJJXjyk5+Ma6+9FmeddRb+4A/+AJ/+9KcBzOb1Zxo0Fbcy9JpebdmyBXfeeSe+/vWvj3tXhqKnPOUpuP3227F79278/d//Pc4880zccMMN496t1nT//ffjLW95C6677rqR311mVHrpS19qXh933HE45ZRTcOSRR+Lv/u7vsGrVqjHuWbsSQuCkk07Chz70IQDACSecgDvvvBOXXnopzjzzzDHv3crVVDnhurdAnDbpYyg7vg0bNmDnzp3O/CiK8NBDD03cOTj77LNx1VVX4V//9V9x2GGHmekbNmzA8vIydu3a5bRPH2feedDzJkXdbhdPetKTcOKJJ+LCCy/E8ccfj4997GMzc4y33XYbdu7ciWc84xkIwxBhGOKGG27Axz/+cYRhiPXr18/Ecdpat24dfvVXfxX33nvvzHyOAHDIIYdg48aNzrRjjjnGhN5n7fozLZoqCM/6LRCPOuoobNiwwTm+PXv24JZbbjHHt7CwgF27duG2224zbb761a9CCIFTTjll5PucJyLC2WefjSuvvBJf/epXcdRRRznzTzzxRHQ6Hec47777bmzbts05zjvuuMP5g7/uuuuwZs2azIVkkiSEwNLS0swc4wtf+ELccccduP32283jpJNOwhlnnGFez8Jx2nrkkUfw7//+7zjkkENm5nMEgGc/+9mZroI/+tGPcOSRRwKYnevP1GnclWF1dcUVV9Dc3Bxdfvnl9P3vf5/e/OY307p165zKxEnWww8/TN/5znfoO9/5DgGgj3zkI/Sd73yHfvKTnxCR7CKwbt06+ud//mf63ve+R7/5m7+Z20XghBNOoFtuuYW+/vWv05Of/OSJ6iJw1lln0dq1a+lrX/ua0+3jscceM21+//d/n4444gj66le/St/61rdoYWGBFhYWzHzd7ePFL34x3X777XTNNdfQQQcdNFHdPt797nfTDTfcQPfddx9973vfo3e/+93EGKMvf/nLRDQbx5gnuzqaaPqP8+1vfzt97Wtfo/vuu4++8Y1v0KZNm+jAAw+knTt3EtH0H5/WrbfeSmEY0p/8yZ/QPffcQ5/97Gdp9erV9JnPfMa0mYXrz7Rp6iBMRPQXf/EXdMQRR1C326WTTz6Zbr755nHvUmX967/+KwHIPM4880wikt0E/uiP/ojWr19Pc3Nz9MIXvpDuvvtuZx2//OUv6TWveQ3tu+++tGbNGvq93/s9evjhh8dwNPnKOz4AdNlll5k2e/fupf/xP/4HPe5xj6PVq1fTb/3Wb9GDDz7orOc//uM/6KUvfSmtWrWKDjzwQHr7299OvV5vxEdTrP/23/4bHXnkkdTtdumggw6iF77whQbARLNxjHlKQ3jaj/NVr3oVHXLIIdTtdunxj388vepVr3L6zk778dn6whe+QE972tNobm6Ojj76aPqrv/orZ/4sXH+mTf5Whl5eXl5eXmPSVOWEvby8vLy8Zkkewl5eXl5eXmOSh7CXl5eXl9eY5CHs5eXl5eU1JnkIe3l5eXl5jUkewl5eXl5eXmOSh7CXl5eXl9eY5CHs5eXl5eU1JnkIe3l5eXl5jUkewl5eXl5eXmOSh7CXl5eXl9eY5CHs5eXl5eU1Jv3/z9OlYHeWPL0AAAAASUVORK5CYII=\n"
                },
                "metadata": {}
              }
            ]
          }
        },
        "b5b9310f69b8469799464b176d79fca5": {
          "model_module": "@jupyter-widgets/base",
          "model_name": "LayoutModel",
          "model_module_version": "1.2.0",
          "state": {
            "_model_module": "@jupyter-widgets/base",
            "_model_module_version": "1.2.0",
            "_model_name": "LayoutModel",
            "_view_count": null,
            "_view_module": "@jupyter-widgets/base",
            "_view_module_version": "1.2.0",
            "_view_name": "LayoutView",
            "align_content": null,
            "align_items": null,
            "align_self": null,
            "border": null,
            "bottom": null,
            "display": null,
            "flex": null,
            "flex_flow": null,
            "grid_area": null,
            "grid_auto_columns": null,
            "grid_auto_flow": null,
            "grid_auto_rows": null,
            "grid_column": null,
            "grid_gap": null,
            "grid_row": null,
            "grid_template_areas": null,
            "grid_template_columns": null,
            "grid_template_rows": null,
            "height": null,
            "justify_content": null,
            "justify_items": null,
            "left": null,
            "margin": null,
            "max_height": null,
            "max_width": null,
            "min_height": null,
            "min_width": null,
            "object_fit": null,
            "object_position": null,
            "order": null,
            "overflow": null,
            "overflow_x": null,
            "overflow_y": null,
            "padding": null,
            "right": null,
            "top": null,
            "visibility": null,
            "width": null
          }
        },
        "876920d7e32f44129d303e63e6843b13": {
          "model_module": "@jupyter-widgets/base",
          "model_name": "LayoutModel",
          "model_module_version": "1.2.0",
          "state": {
            "_model_module": "@jupyter-widgets/base",
            "_model_module_version": "1.2.0",
            "_model_name": "LayoutModel",
            "_view_count": null,
            "_view_module": "@jupyter-widgets/base",
            "_view_module_version": "1.2.0",
            "_view_name": "LayoutView",
            "align_content": null,
            "align_items": null,
            "align_self": null,
            "border": null,
            "bottom": null,
            "display": null,
            "flex": null,
            "flex_flow": null,
            "grid_area": null,
            "grid_auto_columns": null,
            "grid_auto_flow": null,
            "grid_auto_rows": null,
            "grid_column": null,
            "grid_gap": null,
            "grid_row": null,
            "grid_template_areas": null,
            "grid_template_columns": null,
            "grid_template_rows": null,
            "height": null,
            "justify_content": null,
            "justify_items": null,
            "left": null,
            "margin": null,
            "max_height": null,
            "max_width": null,
            "min_height": null,
            "min_width": null,
            "object_fit": null,
            "object_position": null,
            "order": null,
            "overflow": null,
            "overflow_x": null,
            "overflow_y": null,
            "padding": null,
            "right": null,
            "top": null,
            "visibility": null,
            "width": null
          }
        },
        "045e383e4ed14101b55b1077c4f978be": {
          "model_module": "@jupyter-widgets/controls",
          "model_name": "SliderStyleModel",
          "model_module_version": "1.5.0",
          "state": {
            "_model_module": "@jupyter-widgets/controls",
            "_model_module_version": "1.5.0",
            "_model_name": "SliderStyleModel",
            "_view_count": null,
            "_view_module": "@jupyter-widgets/base",
            "_view_module_version": "1.2.0",
            "_view_name": "StyleView",
            "description_width": "",
            "handle_color": null
          }
        },
        "db210b3fbaa3400cbd027678b2eb6546": {
          "model_module": "@jupyter-widgets/base",
          "model_name": "LayoutModel",
          "model_module_version": "1.2.0",
          "state": {
            "_model_module": "@jupyter-widgets/base",
            "_model_module_version": "1.2.0",
            "_model_name": "LayoutModel",
            "_view_count": null,
            "_view_module": "@jupyter-widgets/base",
            "_view_module_version": "1.2.0",
            "_view_name": "LayoutView",
            "align_content": null,
            "align_items": null,
            "align_self": null,
            "border": null,
            "bottom": null,
            "display": null,
            "flex": null,
            "flex_flow": null,
            "grid_area": null,
            "grid_auto_columns": null,
            "grid_auto_flow": null,
            "grid_auto_rows": null,
            "grid_column": null,
            "grid_gap": null,
            "grid_row": null,
            "grid_template_areas": null,
            "grid_template_columns": null,
            "grid_template_rows": null,
            "height": null,
            "justify_content": null,
            "justify_items": null,
            "left": null,
            "margin": null,
            "max_height": null,
            "max_width": null,
            "min_height": null,
            "min_width": null,
            "object_fit": null,
            "object_position": null,
            "order": null,
            "overflow": null,
            "overflow_x": null,
            "overflow_y": null,
            "padding": null,
            "right": null,
            "top": null,
            "visibility": null,
            "width": null
          }
        },
        "777f4054f5914c4b9d9da678eae2197b": {
          "model_module": "@jupyter-widgets/controls",
          "model_name": "SliderStyleModel",
          "model_module_version": "1.5.0",
          "state": {
            "_model_module": "@jupyter-widgets/controls",
            "_model_module_version": "1.5.0",
            "_model_name": "SliderStyleModel",
            "_view_count": null,
            "_view_module": "@jupyter-widgets/base",
            "_view_module_version": "1.2.0",
            "_view_name": "StyleView",
            "description_width": "",
            "handle_color": null
          }
        },
        "0cff04d43f804d6f94286b832ddfda19": {
          "model_module": "@jupyter-widgets/base",
          "model_name": "LayoutModel",
          "model_module_version": "1.2.0",
          "state": {
            "_model_module": "@jupyter-widgets/base",
            "_model_module_version": "1.2.0",
            "_model_name": "LayoutModel",
            "_view_count": null,
            "_view_module": "@jupyter-widgets/base",
            "_view_module_version": "1.2.0",
            "_view_name": "LayoutView",
            "align_content": null,
            "align_items": null,
            "align_self": null,
            "border": null,
            "bottom": null,
            "display": null,
            "flex": null,
            "flex_flow": null,
            "grid_area": null,
            "grid_auto_columns": null,
            "grid_auto_flow": null,
            "grid_auto_rows": null,
            "grid_column": null,
            "grid_gap": null,
            "grid_row": null,
            "grid_template_areas": null,
            "grid_template_columns": null,
            "grid_template_rows": null,
            "height": null,
            "justify_content": null,
            "justify_items": null,
            "left": null,
            "margin": null,
            "max_height": null,
            "max_width": null,
            "min_height": null,
            "min_width": null,
            "object_fit": null,
            "object_position": null,
            "order": null,
            "overflow": null,
            "overflow_x": null,
            "overflow_y": null,
            "padding": null,
            "right": null,
            "top": null,
            "visibility": null,
            "width": null
          }
        },
        "d8190f137fac40999a5f3c8d5c5ad1df": {
          "model_module": "@jupyter-widgets/controls",
          "model_name": "SliderStyleModel",
          "model_module_version": "1.5.0",
          "state": {
            "_model_module": "@jupyter-widgets/controls",
            "_model_module_version": "1.5.0",
            "_model_name": "SliderStyleModel",
            "_view_count": null,
            "_view_module": "@jupyter-widgets/base",
            "_view_module_version": "1.2.0",
            "_view_name": "StyleView",
            "description_width": "",
            "handle_color": null
          }
        },
        "91641309b7b342c68d3516b679917cd2": {
          "model_module": "@jupyter-widgets/base",
          "model_name": "LayoutModel",
          "model_module_version": "1.2.0",
          "state": {
            "_model_module": "@jupyter-widgets/base",
            "_model_module_version": "1.2.0",
            "_model_name": "LayoutModel",
            "_view_count": null,
            "_view_module": "@jupyter-widgets/base",
            "_view_module_version": "1.2.0",
            "_view_name": "LayoutView",
            "align_content": null,
            "align_items": null,
            "align_self": null,
            "border": null,
            "bottom": null,
            "display": null,
            "flex": null,
            "flex_flow": null,
            "grid_area": null,
            "grid_auto_columns": null,
            "grid_auto_flow": null,
            "grid_auto_rows": null,
            "grid_column": null,
            "grid_gap": null,
            "grid_row": null,
            "grid_template_areas": null,
            "grid_template_columns": null,
            "grid_template_rows": null,
            "height": null,
            "justify_content": null,
            "justify_items": null,
            "left": null,
            "margin": null,
            "max_height": null,
            "max_width": null,
            "min_height": null,
            "min_width": null,
            "object_fit": null,
            "object_position": null,
            "order": null,
            "overflow": null,
            "overflow_x": null,
            "overflow_y": null,
            "padding": null,
            "right": null,
            "top": null,
            "visibility": null,
            "width": null
          }
        }
      }
    }
  },
  "nbformat": 4,
  "nbformat_minor": 5
}