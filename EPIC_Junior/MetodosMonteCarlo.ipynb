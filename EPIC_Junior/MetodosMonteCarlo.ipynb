{
  "cells": [
    {
      "cell_type": "markdown",
      "metadata": {
        "id": "view-in-github",
        "colab_type": "text"
      },
      "source": [
        "<a href=\"https://colab.research.google.com/github/JhonVillacis/EPIC_3/blob/main/EPIC_Junior/MetodosMonteCarlo.ipynb\" target=\"_parent\"><img src=\"https://colab.research.google.com/assets/colab-badge.svg\" alt=\"Open In Colab\"/></a>"
      ]
    },
    {
      "cell_type": "markdown",
      "id": "2d190f65",
      "metadata": {
        "id": "2d190f65"
      },
      "source": [
        "# Métodos Monte Carlo\n"
      ]
    },
    {
      "cell_type": "code",
      "execution_count": null,
      "id": "631aa0b7",
      "metadata": {
        "id": "631aa0b7"
      },
      "outputs": [],
      "source": [
        "import numpy as np # Operaciones con arreglos\n",
        "import matplotlib.pyplot as plt # Creación de gráficos\n",
        "from random import random # Generador de números aleatorios"
      ]
    },
    {
      "cell_type": "markdown",
      "source": [
        "## Estimacion de π"
      ],
      "metadata": {
        "id": "6wmdjbYxYL5r"
      },
      "id": "6wmdjbYxYL5r"
    },
    {
      "cell_type": "markdown",
      "source": [
        "### 1. Establecer el dominio de posibles entradas.\n",
        "Cuarto de círculo inscrito en un cuadrado.\n",
        "\n",
        "$A_◯ = \\pi r^2$\n",
        "\n",
        "$A_{◯/4} = \\frac{\\pi r^2}{4}$\n",
        "\n",
        "$A_□ = r^2$\n",
        "\n",
        "$\\frac{A_{◯/4}}{A_□} = \\frac{\\pi}{4}$"
      ],
      "metadata": {
        "id": "Ot1djLF6v2Ez"
      },
      "id": "Ot1djLF6v2Ez"
    },
    {
      "cell_type": "code",
      "execution_count": null,
      "id": "f34dd086",
      "metadata": {
        "id": "f34dd086"
      },
      "outputs": [],
      "source": [
        "# Definimos un radio\n",
        "radio = 3\n",
        "\n",
        "# Calculamos las coordenadas  cartesianas del círculo x^2 + y^2 = r^2\n",
        "x_circulo = np.linspace(0, radio, 1000, endpoint = True)\n",
        "y_circulo = np.sqrt(radio**2 - x_circulo**2)"
      ]
    },
    {
      "cell_type": "code",
      "execution_count": null,
      "id": "caab8a9b",
      "metadata": {
        "id": "caab8a9b"
      },
      "outputs": [],
      "source": [
        "#print(x_circulo)"
      ]
    },
    {
      "cell_type": "code",
      "execution_count": null,
      "id": "de5b780b",
      "metadata": {
        "id": "de5b780b"
      },
      "outputs": [],
      "source": [
        "# Graficamos el dominio\n",
        "plt.figure(figsize=(5,5))\n",
        "\n",
        "plt.plot(x_circulo, y_circulo)\n",
        "\n",
        "plt.xlim(0,radio)\n",
        "plt.ylim(0,radio)\n",
        "\n",
        "plt.show()\n",
        "plt.close()"
      ]
    },
    {
      "cell_type": "markdown",
      "source": [
        "### 2. Generacion de engradas aleatorias.\n",
        "Puntos con posiciones aleatorias."
      ],
      "metadata": {
        "id": "N4RlGgUYwb-q"
      },
      "id": "N4RlGgUYwb-q"
    },
    {
      "cell_type": "code",
      "execution_count": null,
      "id": "0b0d88c2",
      "metadata": {
        "id": "0b0d88c2"
      },
      "outputs": [],
      "source": [
        "print(random())"
      ]
    },
    {
      "cell_type": "code",
      "execution_count": null,
      "id": "4eae70dd",
      "metadata": {
        "id": "4eae70dd"
      },
      "outputs": [],
      "source": [
        "# Definimos el número de puntos\n",
        "N = 10\n",
        "\n",
        "# Listas vacías para almacenar las coordenadas de los puntos\n",
        "x_puntos = np.array([])\n",
        "y_puntos = np.array([])\n",
        "\n",
        "# Llenado de las listas con coordenadas aleatorias\n",
        "for j in range(N):\n",
        "    x_puntos = np.append(x_puntos, random()*radio)\n",
        "    y_puntos = np.append(y_puntos, random()*radio)\n"
      ]
    },
    {
      "cell_type": "code",
      "execution_count": null,
      "id": "ab8be202",
      "metadata": {
        "id": "ab8be202"
      },
      "outputs": [],
      "source": [
        "# Graficamos el dominio con los puntos aleatorios\n",
        "plt.figure(figsize=(5,5))\n",
        "\n",
        "plt.plot(x_puntos, y_puntos, marker='.', linestyle=' ', color = 'red')\n",
        "plt.plot(x_circulo, y_circulo)\n",
        "\n",
        "plt.xlim(0,radio)\n",
        "plt.ylim(0,radio)\n",
        "\n",
        "plt.show()"
      ]
    },
    {
      "cell_type": "markdown",
      "source": [
        "### 3. Realizar un cálculo determinista en las entradas.\n",
        "\n",
        "Conteo de puntos.\n"
      ],
      "metadata": {
        "id": "Tr6lEFGp21G4"
      },
      "id": "Tr6lEFGp21G4"
    },
    {
      "cell_type": "code",
      "execution_count": null,
      "id": "be747470",
      "metadata": {
        "id": "be747470"
      },
      "outputs": [],
      "source": [
        "# Calculamos la distancia de cada punto con respecto a (0,0).\n",
        "dist_puntos = np.sqrt(x_puntos**2 + y_puntos**2)"
      ]
    },
    {
      "cell_type": "code",
      "execution_count": null,
      "id": "9f9c49a7",
      "metadata": {
        "id": "9f9c49a7"
      },
      "outputs": [],
      "source": [
        "np.where(dist_puntos <= radio)"
      ]
    },
    {
      "cell_type": "code",
      "execution_count": null,
      "id": "62c7e032",
      "metadata": {
        "id": "62c7e032"
      },
      "outputs": [],
      "source": [
        "# Separamos los puntos dentro y fuera del círculo.\n",
        "\n",
        "# Puntos dentro del círculo:\n",
        "x_puntos_dentro = x_puntos[np.where(dist_puntos <= radio)]\n",
        "y_puntos_dentro = y_puntos[np.where(dist_puntos <= radio)]\n",
        "\n",
        "# Puntos fuera del círculo:\n",
        "x_puntos_fuera = x_puntos[np.where(dist_puntos > radio)]\n",
        "y_puntos_fuera = y_puntos[np.where(dist_puntos > radio)]"
      ]
    },
    {
      "cell_type": "code",
      "execution_count": null,
      "id": "04a9e787",
      "metadata": {
        "id": "04a9e787"
      },
      "outputs": [],
      "source": [
        "# Graficamos el dominio con los puntos aleatorios\n",
        "plt.figure(figsize = (6,6))\n",
        "plt.plot(x_circulo, y_circulo)\n",
        "plt.plot(x_puntos_dentro, y_puntos_dentro,  marker='.', linestyle=' ', color = 'red')\n",
        "plt.plot(x_puntos_fuera, y_puntos_fuera, marker='.', linestyle=' ', color = 'green')\n",
        "plt.xlim(0,radio)\n",
        "plt.ylim(0,radio)\n",
        "plt.show()"
      ]
    },
    {
      "cell_type": "markdown",
      "source": [
        "### 4. Construir los resultados.\n",
        "Utilizar la fórmula obtenida para calcular π."
      ],
      "metadata": {
        "id": "1F9_qj_O4Ohp"
      },
      "id": "1F9_qj_O4Ohp"
    },
    {
      "cell_type": "code",
      "execution_count": null,
      "id": "4b856269",
      "metadata": {
        "id": "4b856269"
      },
      "outputs": [],
      "source": [
        "# Estimación de pi.\n",
        "pi = 4*len(x_puntos_dentro)/len(x_puntos)\n",
        "print('π estimado:',pi)"
      ]
    },
    {
      "cell_type": "markdown",
      "source": [
        "### Evolución de la estimación de π con el número de puntos."
      ],
      "metadata": {
        "id": "6JX6xkQr4uyF"
      },
      "id": "6JX6xkQr4uyF"
    },
    {
      "cell_type": "code",
      "execution_count": null,
      "id": "533c2e7f",
      "metadata": {
        "id": "533c2e7f"
      },
      "outputs": [],
      "source": [
        "def valores_pi_func(N):\n",
        "    '''Función para graficar la evolución de la estimación de pi al aumentar puntos.\n",
        "    Inputs: N.\n",
        "    Outputs: grafico pi vs N'''\n",
        "\n",
        "    # Contador de puntos dentro del circulo y puntos totales.\n",
        "    puntos_circulo = 0\n",
        "    puntos_totales = 0\n",
        "\n",
        "    # Arreglo para los valores de pi.\n",
        "    pi_valores = np.array([])\n",
        "\n",
        "    for i in range(N):\n",
        "        # Generamos un punto con coordenadas aleatorias.\n",
        "        x_punto = random()\n",
        "        y_punto = random()\n",
        "\n",
        "        # Calculamos la distancia del punto con respecto a (0,0).\n",
        "        dist_punto = np.sqrt(x_punto**2 + y_punto**2)\n",
        "\n",
        "        # Contamos los puntos totales y los que estén dentro del circulo.\n",
        "        puntos_totales += 1\n",
        "        if dist_punto <= 1:\n",
        "            puntos_circulo += 1\n",
        "\n",
        "\n",
        "        # Estimación de pi.\n",
        "        pi = 4*(puntos_circulo/puntos_totales)\n",
        "        pi_valores = np.append(pi_valores, pi)\n",
        "\n",
        "    plt.figure()\n",
        "    plt.title('Pi final: '+str(pi))\n",
        "    plt.plot(pi_valores)\n",
        "    plt.ylabel('Pi')\n",
        "    plt.xlabel('N')\n",
        "    plt.show()\n",
        "    plt.close()"
      ]
    },
    {
      "cell_type": "code",
      "execution_count": null,
      "id": "5299ae94",
      "metadata": {
        "id": "5299ae94"
      },
      "outputs": [],
      "source": [
        "# Usamos la funcion\n",
        "valores_pi_func(5)"
      ]
    },
    {
      "cell_type": "markdown",
      "source": [
        "## Desintegración radioactiva\n",
        "$$N(t)=N_0\\,\\exp(-\\lambda t)$$\n",
        "\n",
        "$$\\lambda=\\frac{1}{\\tau}$$\n",
        "\n",
        "$$t_{1/2}=\\frac{ln(2)}{\\lambda}$$"
      ],
      "metadata": {
        "id": "dHJOFs8hYQez"
      },
      "id": "dHJOFs8hYQez"
    },
    {
      "cell_type": "code",
      "source": [
        "# Constante de descomposición (Decay constant)\n",
        "lambda1 = 0.01\n",
        "#lambda1 = np.log(2)/5.73e3\n",
        "\n",
        "\n",
        "# Número de isótopos radioactivos\n",
        "N0 = 10000\n",
        "\n",
        "# Tiempo\n",
        "tiempo = 1000\n",
        "#tiempo = 13*5.73e3\n"
      ],
      "metadata": {
        "id": "OxTyMAcEYlQy"
      },
      "id": "OxTyMAcEYlQy",
      "execution_count": null,
      "outputs": []
    },
    {
      "cell_type": "code",
      "source": [
        "# Valores iniciales\n",
        "isotopos_restantes = isotopos_desintegrados = N0\n",
        "\n",
        "# Número de isótopos y tiempo\n",
        "isotopos = np.array([])\n",
        "t = np.arange(0, tiempo)\n",
        "\n",
        "# Bucle de tiempo\n",
        "for i in t:\n",
        "\n",
        "    # Bucle de desintegración\n",
        "    isotopos_desintegrados = 0\n",
        "    for atom in range(1, isotopos_restantes):\n",
        "        decay = random()\n",
        "        if (decay  <  lambda1):\n",
        "            # Hubo desintegración\n",
        "            isotopos_desintegrados += 1\n",
        "\n",
        "    isotopos_restantes  -= isotopos_desintegrados\n",
        "    isotopos = np.append(isotopos, isotopos_restantes)"
      ],
      "metadata": {
        "id": "AOgAUVO9Yr6S"
      },
      "id": "AOgAUVO9Yr6S",
      "execution_count": null,
      "outputs": []
    },
    {
      "cell_type": "code",
      "source": [
        "# Plotting\n",
        "\n",
        "plt.plot(t, isotopos, label='Monte Carlo')\n",
        "plt.plot(t, (n_max*np.exp(-lambda1*t)), label='Mondelo')\n",
        "plt.xlabel(\"Time\")\n",
        "plt.ylabel(\"N\")\n",
        "plt.legend()\n",
        "\n",
        "plt.show()\n",
        "plt.close()"
      ],
      "metadata": {
        "id": "hlNDO1RZR4VI"
      },
      "id": "hlNDO1RZR4VI",
      "execution_count": null,
      "outputs": []
    },
    {
      "cell_type": "code",
      "source": [
        "# Plotting\n",
        "\n",
        "plt.plot(t, np.log(isotopos), label='Monte Carlo')\n",
        "plt.plot(t, np.log(n_max*np.exp(-lambda1*t)), label='Mondelo')\n",
        "plt.xlabel(\"Time\")\n",
        "plt.ylabel(\"N\")\n",
        "\n",
        "plt.ylim(-1, 12)\n",
        "plt.show()\n",
        "plt.close()"
      ],
      "metadata": {
        "id": "iNCY8GFpR4y2"
      },
      "id": "iNCY8GFpR4y2",
      "execution_count": null,
      "outputs": []
    }
  ],
  "metadata": {
    "kernelspec": {
      "display_name": "Python 3 (ipykernel)",
      "language": "python",
      "name": "python3"
    },
    "language_info": {
      "codemirror_mode": {
        "name": "ipython",
        "version": 3
      },
      "file_extension": ".py",
      "mimetype": "text/x-python",
      "name": "python",
      "nbconvert_exporter": "python",
      "pygments_lexer": "ipython3",
      "version": "3.10.9"
    },
    "colab": {
      "provenance": [],
      "collapsed_sections": [
        "6wmdjbYxYL5r",
        "dHJOFs8hYQez"
      ],
      "include_colab_link": true
    }
  },
  "nbformat": 4,
  "nbformat_minor": 5
}